{
 "cells": [
  {
   "cell_type": "markdown",
   "metadata": {
    "toc": true
   },
   "source": [
    "<h1>Table of Contents<span class=\"tocSkip\"></span></h1>\n",
    "<div class=\"toc\"><ul class=\"toc-item\"><li><span><a href=\"#Technical-Assignment:-Senior-Data-Scientist,-Product\" data-toc-modified-id=\"Technical-Assignment:-Senior-Data-Scientist,-Product-1\"><span class=\"toc-item-num\">1&nbsp;&nbsp;</span>Technical Assignment: Senior Data Scientist, Product</a></span></li><li><span><a href=\"#Data-Exploration-and-Cleaning\" data-toc-modified-id=\"Data-Exploration-and-Cleaning-2\"><span class=\"toc-item-num\">2&nbsp;&nbsp;</span>Data Exploration and Cleaning</a></span><ul class=\"toc-item\"><li><ul class=\"toc-item\"><li><span><a href=\"#1.-What-is-the-Net-Promoter-Score-by-Bank,-and-by-Week\" data-toc-modified-id=\"1.-What-is-the-Net-Promoter-Score-by-Bank,-and-by-Week-2.0.1\"><span class=\"toc-item-num\">2.0.1&nbsp;&nbsp;</span>1. What is the Net Promoter Score by Bank, and by Week</a></span></li><li><span><a href=\"#2.-Does-the-Net-Promoter-Score-vary-significantly-across-touchpoints/interaction-channels?\" data-toc-modified-id=\"2.-Does-the-Net-Promoter-Score-vary-significantly-across-touchpoints/interaction-channels?-2.0.2\"><span class=\"toc-item-num\">2.0.2&nbsp;&nbsp;</span>2. Does the Net Promoter Score vary significantly across touchpoints/interaction channels?</a></span></li><li><span><a href=\"#3.-Does-the-Net-Promoter-Score-vary-by-Demographic-characteristics?\" data-toc-modified-id=\"3.-Does-the-Net-Promoter-Score-vary-by-Demographic-characteristics?-2.0.3\"><span class=\"toc-item-num\">2.0.3&nbsp;&nbsp;</span>3. Does the Net Promoter Score vary by Demographic characteristics?</a></span></li><li><span><a href=\"#4.-Does-the-Response-rate*-vary-significantly-across-any-of-the-characteristics-(Customer-Demographics,-Bank,-Touchpoints,-Week,-Time-of-Day)?\" data-toc-modified-id=\"4.-Does-the-Response-rate*-vary-significantly-across-any-of-the-characteristics-(Customer-Demographics,-Bank,-Touchpoints,-Week,-Time-of-Day)?-2.0.4\"><span class=\"toc-item-num\">2.0.4&nbsp;&nbsp;</span>4. Does the Response rate* vary significantly across any of the characteristics (Customer Demographics, Bank, Touchpoints, Week, Time of Day)?</a></span></li><li><span><a href=\"#Demographics\" data-toc-modified-id=\"Demographics-2.0.5\"><span class=\"toc-item-num\">2.0.5&nbsp;&nbsp;</span>Demographics</a></span></li><li><span><a href=\"#Bank\" data-toc-modified-id=\"Bank-2.0.6\"><span class=\"toc-item-num\">2.0.6&nbsp;&nbsp;</span>Bank</a></span></li><li><span><a href=\"#Touchpoints\" data-toc-modified-id=\"Touchpoints-2.0.7\"><span class=\"toc-item-num\">2.0.7&nbsp;&nbsp;</span>Touchpoints</a></span></li><li><span><a href=\"#5.-What-themes-are-most-associated-with-the-likelihood-to-recommend-a-bank?\" data-toc-modified-id=\"5.-What-themes-are-most-associated-with-the-likelihood-to-recommend-a-bank?-2.0.8\"><span class=\"toc-item-num\">2.0.8&nbsp;&nbsp;</span>5. What themes are most associated with the likelihood to recommend a bank?</a></span></li><li><span><a href=\"#How-would-I-go-about-training-and-deploying-a-multi-label-model-to-classify-the-comments-into-at-least-one-theme,-based-on-the-data-provided-in-the-comment_on_why-and-themes-columns\" data-toc-modified-id=\"How-would-I-go-about-training-and-deploying-a-multi-label-model-to-classify-the-comments-into-at-least-one-theme,-based-on-the-data-provided-in-the-comment_on_why-and-themes-columns-2.0.9\"><span class=\"toc-item-num\">2.0.9&nbsp;&nbsp;</span>How would I go about training and deploying a multi-label model to classify the comments into at least one theme, based on the data provided in the comment_on_why and themes columns</a></span></li></ul></li></ul></li></ul></div>"
   ]
  },
  {
   "cell_type": "markdown",
   "metadata": {
    "hide_input": false,
    "id": "CFy-zwmalD_S"
   },
   "source": [
    "# Technical Assignment: Senior Data Scientist, Product"
   ]
  },
  {
   "cell_type": "markdown",
   "metadata": {
    "id": "dAaWxXA3mOXy"
   },
   "source": [
    "Background:\n",
    "\n",
    "\n",
    "Ajua is continuously collecting feedback data from a sample of consumers to better understand\n",
    "and track the state of customer experience for the financial services sector, and for use in\n",
    "experimentation and product development. A sample feedback data set, titled FS Feedback Data\n",
    "is provided.\n",
    "The data includes some demographic characteristics of the customers, the consent(or lack\n",
    "thereof) to participate in a survey, the likelihood to recommend, and the reason why, as well as the\n",
    "date and time of the survey."
   ]
  },
  {
   "cell_type": "code",
   "execution_count": 1,
   "metadata": {
    "id": "OL339ELalJVU"
   },
   "outputs": [],
   "source": [
    "# import necessary libraries\n",
    "import csv\n",
    "import matplotlib.pyplot as plt\n",
    "import pandas as pd\n",
    "import numpy as np\n",
    "import seaborn as sns\n",
    "import sys\n",
    "pd.set_option('display.max_columns', 50)\n",
    "\n",
    "# Import Plotly Packages\n",
    "import plotly "
   ]
  },
  {
   "cell_type": "code",
   "execution_count": 2,
   "metadata": {
    "id": "0Fw69-Yvl9S8"
   },
   "outputs": [],
   "source": [
    "# load in the data\n",
    "data = pd.read_csv(\"ajua_data.csv\")"
   ]
  },
  {
   "cell_type": "code",
   "execution_count": 3,
   "metadata": {
    "colab": {
     "base_uri": "https://localhost:8080/",
     "height": 348
    },
    "hide_input": false,
    "id": "lvD6E4SfmFUS",
    "outputId": "8c779ce6-6c6c-4a21-fa43-4c13bdb8f614"
   },
   "outputs": [
    {
     "data": {
      "text/html": [
       "<div>\n",
       "<style scoped>\n",
       "    .dataframe tbody tr th:only-of-type {\n",
       "        vertical-align: middle;\n",
       "    }\n",
       "\n",
       "    .dataframe tbody tr th {\n",
       "        vertical-align: top;\n",
       "    }\n",
       "\n",
       "    .dataframe thead th {\n",
       "        text-align: right;\n",
       "    }\n",
       "</style>\n",
       "<table border=\"1\" class=\"dataframe\">\n",
       "  <thead>\n",
       "    <tr style=\"text-align: right;\">\n",
       "      <th></th>\n",
       "      <th>user_id</th>\n",
       "      <th>year_of_birth</th>\n",
       "      <th>gender</th>\n",
       "      <th>region</th>\n",
       "      <th>living_standards_measure</th>\n",
       "      <th>highest_education</th>\n",
       "      <th>employment</th>\n",
       "      <th>internet_access</th>\n",
       "      <th>cable_tv_subscription</th>\n",
       "      <th>survey_completion</th>\n",
       "      <th>survey_participation_consent</th>\n",
       "      <th>bank_account</th>\n",
       "      <th>bank</th>\n",
       "      <th>last_interaction_with_bank</th>\n",
       "      <th>likelihood_to_recommend</th>\n",
       "      <th>comment_on_why</th>\n",
       "      <th>themes</th>\n",
       "      <th>start_time(GMT)</th>\n",
       "      <th>time_of_last_update(GMT)</th>\n",
       "    </tr>\n",
       "  </thead>\n",
       "  <tbody>\n",
       "    <tr>\n",
       "      <th>0</th>\n",
       "      <td>358646</td>\n",
       "      <td>1991.0</td>\n",
       "      <td>Prefer not to answer</td>\n",
       "      <td>NaN</td>\n",
       "      <td>NaN</td>\n",
       "      <td>NaN</td>\n",
       "      <td>Student</td>\n",
       "      <td>Yes</td>\n",
       "      <td>No</td>\n",
       "      <td>TIMEDOUT</td>\n",
       "      <td>-</td>\n",
       "      <td>-</td>\n",
       "      <td>-</td>\n",
       "      <td>-</td>\n",
       "      <td>-</td>\n",
       "      <td>-</td>\n",
       "      <td>NaN</td>\n",
       "      <td>18:34.6</td>\n",
       "      <td>00:09.9</td>\n",
       "    </tr>\n",
       "    <tr>\n",
       "      <th>1</th>\n",
       "      <td>18003003</td>\n",
       "      <td>1984.0</td>\n",
       "      <td>Female</td>\n",
       "      <td>coast</td>\n",
       "      <td>5 to 8</td>\n",
       "      <td>Completed Secondary</td>\n",
       "      <td>Student</td>\n",
       "      <td>Yes</td>\n",
       "      <td>Yes</td>\n",
       "      <td>FINISHED</td>\n",
       "      <td>YES</td>\n",
       "      <td>Yes</td>\n",
       "      <td>KCB</td>\n",
       "      <td>Teller or Branch transactions</td>\n",
       "      <td>5</td>\n",
       "      <td>Safrcom don''t allow 1 person to Bank more tha...</td>\n",
       "      <td>speed/efficiency</td>\n",
       "      <td>00:02.9</td>\n",
       "      <td>16:14.6</td>\n",
       "    </tr>\n",
       "    <tr>\n",
       "      <th>2</th>\n",
       "      <td>5618870</td>\n",
       "      <td>1994.0</td>\n",
       "      <td>Male</td>\n",
       "      <td>riftvalley</td>\n",
       "      <td>5 to 8</td>\n",
       "      <td>Completed College</td>\n",
       "      <td>Student</td>\n",
       "      <td>Yes</td>\n",
       "      <td>No</td>\n",
       "      <td>FINISHED</td>\n",
       "      <td>YES</td>\n",
       "      <td>Yes</td>\n",
       "      <td>National Bank</td>\n",
       "      <td>Mobile banking</td>\n",
       "      <td>10</td>\n",
       "      <td>They offer good services</td>\n",
       "      <td>service</td>\n",
       "      <td>00:03.0</td>\n",
       "      <td>05:11.0</td>\n",
       "    </tr>\n",
       "    <tr>\n",
       "      <th>3</th>\n",
       "      <td>2951848</td>\n",
       "      <td>1995.0</td>\n",
       "      <td>Female</td>\n",
       "      <td>riftvalley</td>\n",
       "      <td>NaN</td>\n",
       "      <td>NaN</td>\n",
       "      <td>Other/Unemployed</td>\n",
       "      <td>Yes</td>\n",
       "      <td>NaN</td>\n",
       "      <td>TIMEDOUT</td>\n",
       "      <td>-</td>\n",
       "      <td>-</td>\n",
       "      <td>-</td>\n",
       "      <td>-</td>\n",
       "      <td>-</td>\n",
       "      <td>-</td>\n",
       "      <td>NaN</td>\n",
       "      <td>00:03.0</td>\n",
       "      <td>00:09.1</td>\n",
       "    </tr>\n",
       "    <tr>\n",
       "      <th>4</th>\n",
       "      <td>17386348</td>\n",
       "      <td>1999.0</td>\n",
       "      <td>Male</td>\n",
       "      <td>coast</td>\n",
       "      <td>9 to 12</td>\n",
       "      <td>In Uni</td>\n",
       "      <td>Student</td>\n",
       "      <td>Yes</td>\n",
       "      <td>Yes</td>\n",
       "      <td>FINISHED</td>\n",
       "      <td>YES</td>\n",
       "      <td>Yes</td>\n",
       "      <td>Equity</td>\n",
       "      <td>Teller or Branch transactions</td>\n",
       "      <td>7</td>\n",
       "      <td>Transaction cost are affordable</td>\n",
       "      <td>account,rates/charges</td>\n",
       "      <td>00:03.0</td>\n",
       "      <td>03:13.8</td>\n",
       "    </tr>\n",
       "  </tbody>\n",
       "</table>\n",
       "</div>"
      ],
      "text/plain": [
       "    user_id  year_of_birth                gender      region  \\\n",
       "0    358646         1991.0  Prefer not to answer         NaN   \n",
       "1  18003003         1984.0                Female       coast   \n",
       "2   5618870         1994.0                  Male  riftvalley   \n",
       "3   2951848         1995.0                Female  riftvalley   \n",
       "4  17386348         1999.0                  Male       coast   \n",
       "\n",
       "  living_standards_measure    highest_education        employment  \\\n",
       "0                      NaN                  NaN           Student   \n",
       "1                   5 to 8  Completed Secondary           Student   \n",
       "2                   5 to 8    Completed College           Student   \n",
       "3                      NaN                  NaN  Other/Unemployed   \n",
       "4                  9 to 12               In Uni           Student   \n",
       "\n",
       "  internet_access cable_tv_subscription survey_completion  \\\n",
       "0             Yes                    No          TIMEDOUT   \n",
       "1             Yes                   Yes          FINISHED   \n",
       "2             Yes                    No          FINISHED   \n",
       "3             Yes                   NaN          TIMEDOUT   \n",
       "4             Yes                   Yes          FINISHED   \n",
       "\n",
       "  survey_participation_consent bank_account           bank  \\\n",
       "0                            -            -              -   \n",
       "1                          YES          Yes            KCB   \n",
       "2                          YES          Yes  National Bank   \n",
       "3                            -            -              -   \n",
       "4                          YES          Yes         Equity   \n",
       "\n",
       "      last_interaction_with_bank likelihood_to_recommend  \\\n",
       "0                              -                       -   \n",
       "1  Teller or Branch transactions                       5   \n",
       "2                 Mobile banking                      10   \n",
       "3                              -                       -   \n",
       "4  Teller or Branch transactions                       7   \n",
       "\n",
       "                                      comment_on_why                 themes  \\\n",
       "0                                                  -                    NaN   \n",
       "1  Safrcom don''t allow 1 person to Bank more tha...       speed/efficiency   \n",
       "2                           They offer good services                service   \n",
       "3                                                  -                    NaN   \n",
       "4                    Transaction cost are affordable  account,rates/charges   \n",
       "\n",
       "  start_time(GMT) time_of_last_update(GMT)  \n",
       "0         18:34.6                  00:09.9  \n",
       "1         00:02.9                  16:14.6  \n",
       "2         00:03.0                  05:11.0  \n",
       "3         00:03.0                  00:09.1  \n",
       "4         00:03.0                  03:13.8  "
      ]
     },
     "execution_count": 3,
     "metadata": {},
     "output_type": "execute_result"
    }
   ],
   "source": [
    "data.head(5)"
   ]
  },
  {
   "cell_type": "markdown",
   "metadata": {
    "id": "9yyjb3mznYe5"
   },
   "source": [
    "# Data Exploration and Cleaning"
   ]
  },
  {
   "cell_type": "markdown",
   "metadata": {
    "id": "kEjDY09YEEsH"
   },
   "source": [
    "The data seems to have some cells filled up with the symbol \"-\", meaning no data was recorded in that cell. This will cause errors later on when we're trying to work with the data. We will replace the \"-\" with NaN to show that there's no data there, then find out how many NaN values we have for each column"
   ]
  },
  {
   "cell_type": "code",
   "execution_count": 4,
   "metadata": {
    "id": "YDJpqzSXT1g3"
   },
   "outputs": [],
   "source": [
    "#change all the dashes (-) to NA\n",
    "new_data = data.replace('-', np.NaN)"
   ]
  },
  {
   "cell_type": "code",
   "execution_count": 5,
   "metadata": {
    "colab": {
     "base_uri": "https://localhost:8080/"
    },
    "id": "-OuptCIbSuvS",
    "outputId": "553264dc-8534-4e03-c43b-3992ae5d0114"
   },
   "outputs": [
    {
     "name": "stdout",
     "output_type": "stream",
     "text": [
      "user_id                            0\n",
      "year_of_birth                     45\n",
      "gender                            31\n",
      "region                           208\n",
      "living_standards_measure        1208\n",
      "highest_education               1122\n",
      "employment                       124\n",
      "internet_access                  587\n",
      "cable_tv_subscription            921\n",
      "survey_completion                  0\n",
      "survey_participation_consent    2072\n",
      "bank_account                    2204\n",
      "bank                            2773\n",
      "last_interaction_with_bank      2803\n",
      "likelihood_to_recommend         2831\n",
      "comment_on_why                  2865\n",
      "themes                          3707\n",
      "start_time(GMT)                    0\n",
      "time_of_last_update(GMT)           0\n",
      "dtype: int64\n",
      "The data has a total of  6464 rows.\n",
      "The data consists of a total of  19 columns.\n"
     ]
    }
   ],
   "source": [
    "#checking number of Null values per column\n",
    "print(new_data.isna().sum())\n",
    "print(\"The data has a total of \", len(new_data), \"rows.\")\n",
    "print(\"The data consists of a total of \", len(new_data.columns), \"columns.\")"
   ]
  },
  {
   "cell_type": "markdown",
   "metadata": {
    "id": "zog17pB3EgnF"
   },
   "source": [
    "The table above shows the number of NaN cells in each column. The only columns that don't have missing data are  `user_id`, `time_of_last_update(GMT)` and `time_of_last_update`.\n",
    "\n",
    "The data consists of **6464** rows of data with a total of **19** columns "
   ]
  },
  {
   "cell_type": "markdown",
   "metadata": {
    "id": "Hr7JqSjBGIFo"
   },
   "source": [
    "Next, we identify the datatypes of each column and assign correct datatypes and format.\n",
    "\n"
   ]
  },
  {
   "cell_type": "code",
   "execution_count": 6,
   "metadata": {
    "colab": {
     "base_uri": "https://localhost:8080/"
    },
    "id": "FYeUQaHkUn17",
    "outputId": "3b4876d7-9fe0-45a4-a7a2-b5eb83472643"
   },
   "outputs": [
    {
     "name": "stdout",
     "output_type": "stream",
     "text": [
      "user_id                           int64\n",
      "year_of_birth                   float64\n",
      "gender                           object\n",
      "region                           object\n",
      "living_standards_measure         object\n",
      "highest_education                object\n",
      "employment                       object\n",
      "internet_access                  object\n",
      "cable_tv_subscription            object\n",
      "survey_completion                object\n",
      "survey_participation_consent     object\n",
      "bank_account                     object\n",
      "bank                             object\n",
      "last_interaction_with_bank       object\n",
      "likelihood_to_recommend          object\n",
      "comment_on_why                   object\n",
      "themes                           object\n",
      "start_time(GMT)                  object\n",
      "time_of_last_update(GMT)         object\n",
      "dtype: object\n"
     ]
    }
   ],
   "source": [
    "#checking the datatypes of the columns\n",
    "print(new_data.dtypes)"
   ]
  },
  {
   "cell_type": "markdown",
   "metadata": {
    "id": "QWIxfFvVGNnX"
   },
   "source": [
    "From the above, most columns are identified as objects which are basically strings but columns `year_of_birth`, `likelihood_to_recommend`, `start_time(GMT)`, `time_of_last_update(GMT)` have been assigned wong datatypes. The following steps were taken to chang them accordingly."
   ]
  },
  {
   "cell_type": "code",
   "execution_count": 7,
   "metadata": {
    "id": "_MBmEb51Rhh9"
   },
   "outputs": [],
   "source": [
    "new_data['user_id'] = new_data['user_id'].astype(str)"
   ]
  },
  {
   "cell_type": "code",
   "execution_count": 8,
   "metadata": {
    "colab": {
     "base_uri": "https://localhost:8080/"
    },
    "id": "1KN4IQFoVK7Y",
    "outputId": "e2e82403-3663-4b1a-84db-3a572cb7ec84"
   },
   "outputs": [
    {
     "data": {
      "text/plain": [
       "dtype('O')"
      ]
     },
     "execution_count": 8,
     "metadata": {},
     "output_type": "execute_result"
    }
   ],
   "source": [
    "new_data['year_of_birth'] = new_data['year_of_birth'].astype('Int64').astype(str)\n",
    "new_data['year_of_birth'].dtypes"
   ]
  },
  {
   "cell_type": "code",
   "execution_count": 9,
   "metadata": {
    "colab": {
     "base_uri": "https://localhost:8080/"
    },
    "id": "NKqwqgYOZXwQ",
    "outputId": "10ba4186-1627-461f-944e-a6c9f5cf76e9"
   },
   "outputs": [
    {
     "data": {
      "text/plain": [
       "Int64Dtype()"
      ]
     },
     "execution_count": 9,
     "metadata": {},
     "output_type": "execute_result"
    }
   ],
   "source": [
    "new_data['likelihood_to_recommend'] = new_data['likelihood_to_recommend'].astype('float').astype('Int64')\n",
    "new_data['likelihood_to_recommend'].dtypes"
   ]
  },
  {
   "cell_type": "code",
   "execution_count": 10,
   "metadata": {
    "id": "lvisF_pJH1OO"
   },
   "outputs": [],
   "source": [
    "import re\n",
    "\n",
    "def fix_date(column):\n",
    "  column = column.str.replace(r'.', r':')\n",
    "  return column\n",
    "\n",
    "\n",
    "new_data['start_time(GMT)'] = fix_date(new_data['start_time(GMT)'])\n",
    "new_data['time_of_last_update(GMT)'] = fix_date(new_data['time_of_last_update(GMT)'])"
   ]
  },
  {
   "cell_type": "code",
   "execution_count": 11,
   "metadata": {
    "colab": {
     "base_uri": "https://localhost:8080/"
    },
    "id": "cc3MzzRLH510",
    "outputId": "fee3cd17-e0aa-4302-a52f-70ea706380a8"
   },
   "outputs": [
    {
     "data": {
      "text/plain": [
       "user_id                         object\n",
       "year_of_birth                   object\n",
       "gender                          object\n",
       "region                          object\n",
       "living_standards_measure        object\n",
       "highest_education               object\n",
       "employment                      object\n",
       "internet_access                 object\n",
       "cable_tv_subscription           object\n",
       "survey_completion               object\n",
       "survey_participation_consent    object\n",
       "bank_account                    object\n",
       "bank                            object\n",
       "last_interaction_with_bank      object\n",
       "likelihood_to_recommend          Int64\n",
       "comment_on_why                  object\n",
       "themes                          object\n",
       "start_time(GMT)                 object\n",
       "time_of_last_update(GMT)        object\n",
       "dtype: object"
      ]
     },
     "execution_count": 11,
     "metadata": {},
     "output_type": "execute_result"
    }
   ],
   "source": [
    "new_data.dtypes"
   ]
  },
  {
   "cell_type": "markdown",
   "metadata": {
    "id": "L7LCGWJHIHOC"
   },
   "source": [
    "Next, we perform a few more data explorations to identify information in the data that might be useful."
   ]
  },
  {
   "cell_type": "code",
   "execution_count": 12,
   "metadata": {
    "colab": {
     "base_uri": "https://localhost:8080/"
    },
    "id": "w3kC-UjDKcuT",
    "outputId": "3f415f69-8093-42c3-e430-0a10b5a38487"
   },
   "outputs": [
    {
     "data": {
      "text/plain": [
       "6454"
      ]
     },
     "execution_count": 12,
     "metadata": {},
     "output_type": "execute_result"
    }
   ],
   "source": [
    "#checking number of unique Id's\n",
    "data['user_id'].nunique()"
   ]
  },
  {
   "cell_type": "markdown",
   "metadata": {
    "id": "2NZIBynpITD1"
   },
   "source": [
    "The data has **6454** unique user id's. Meaning there are **10** user id's that have been duplicated. Let's explore the user_id's with duplicates"
   ]
  },
  {
   "cell_type": "code",
   "execution_count": 13,
   "metadata": {
    "colab": {
     "base_uri": "https://localhost:8080/",
     "height": 696
    },
    "id": "Yjg30NTIaCm7",
    "outputId": "ceaaa1bf-d1ae-4f31-f573-427ba995911e"
   },
   "outputs": [],
   "source": [
    "# find duplicated Id's\n",
    "#new_data[new_data.duplicated(['user_id'], keep='first')]\n"
   ]
  },
  {
   "cell_type": "code",
   "execution_count": 14,
   "metadata": {
    "colab": {
     "base_uri": "https://localhost:8080/",
     "height": 678
    },
    "id": "-IziPWsLNEfT",
    "outputId": "f88af8cd-7b3d-40a2-abef-33b702f37168"
   },
   "outputs": [],
   "source": [
    "#new_data[new_data.duplicated(['user_id'], keep='last')]"
   ]
  },
  {
   "cell_type": "code",
   "execution_count": 15,
   "metadata": {
    "colab": {
     "base_uri": "https://localhost:8080/",
     "height": 69
    },
    "id": "UNiboV70IzIG",
    "outputId": "59c86725-a27b-457c-f5e2-7d6835cd0c54"
   },
   "outputs": [
    {
     "data": {
      "text/html": [
       "<div>\n",
       "<style scoped>\n",
       "    .dataframe tbody tr th:only-of-type {\n",
       "        vertical-align: middle;\n",
       "    }\n",
       "\n",
       "    .dataframe tbody tr th {\n",
       "        vertical-align: top;\n",
       "    }\n",
       "\n",
       "    .dataframe thead th {\n",
       "        text-align: right;\n",
       "    }\n",
       "</style>\n",
       "<table border=\"1\" class=\"dataframe\">\n",
       "  <thead>\n",
       "    <tr style=\"text-align: right;\">\n",
       "      <th></th>\n",
       "      <th>user_id</th>\n",
       "      <th>year_of_birth</th>\n",
       "      <th>gender</th>\n",
       "      <th>region</th>\n",
       "      <th>living_standards_measure</th>\n",
       "      <th>highest_education</th>\n",
       "      <th>employment</th>\n",
       "      <th>internet_access</th>\n",
       "      <th>cable_tv_subscription</th>\n",
       "      <th>survey_completion</th>\n",
       "      <th>survey_participation_consent</th>\n",
       "      <th>bank_account</th>\n",
       "      <th>bank</th>\n",
       "      <th>last_interaction_with_bank</th>\n",
       "      <th>likelihood_to_recommend</th>\n",
       "      <th>comment_on_why</th>\n",
       "      <th>themes</th>\n",
       "      <th>start_time(GMT)</th>\n",
       "      <th>time_of_last_update(GMT)</th>\n",
       "    </tr>\n",
       "  </thead>\n",
       "  <tbody>\n",
       "  </tbody>\n",
       "</table>\n",
       "</div>"
      ],
      "text/plain": [
       "Empty DataFrame\n",
       "Columns: [user_id, year_of_birth, gender, region, living_standards_measure, highest_education, employment, internet_access, cable_tv_subscription, survey_completion, survey_participation_consent, bank_account, bank, last_interaction_with_bank, likelihood_to_recommend, comment_on_why, themes, start_time(GMT), time_of_last_update(GMT)]\n",
       "Index: []"
      ]
     },
     "execution_count": 15,
     "metadata": {},
     "output_type": "execute_result"
    }
   ],
   "source": [
    "new_data[new_data.duplicated()]"
   ]
  },
  {
   "cell_type": "markdown",
   "metadata": {
    "id": "JQF8oYb_N7jk"
   },
   "source": [
    "It seems like the user_id's each have one duplicate row with the same user_id but there are no rows that are duplicates. which probably means these users gave feedback probably at different times or gave different feedback using the same id's"
   ]
  },
  {
   "cell_type": "markdown",
   "metadata": {
    "id": "vDASGR_rmTgq"
   },
   "source": [
    "### 1. What is the Net Promoter Score by Bank, and by Week\n",
    "\n",
    "The following will show steps that I tool to get the NPS by Bank. No analysis was done for NPS by Week since the data that I have only contains time data and not date/week"
   ]
  },
  {
   "cell_type": "code",
   "execution_count": 16,
   "metadata": {
    "id": "XOlhjmmoTnPf"
   },
   "outputs": [],
   "source": [
    "# drop missing values for likelihood\n",
    "likelihood_data = new_data[new_data.likelihood_to_recommend != \"nan\"]"
   ]
  },
  {
   "cell_type": "code",
   "execution_count": 17,
   "metadata": {
    "colab": {
     "base_uri": "https://localhost:8080/"
    },
    "id": "gHXONriNNMEx",
    "outputId": "51f47ab3-c802-4f14-871b-d71dbcc67cf3"
   },
   "outputs": [
    {
     "data": {
      "text/plain": [
       "bank\n",
       "Equity                1338\n",
       "KCB                   1142\n",
       "Co-operative           710\n",
       "Other                  159\n",
       "National Bank          109\n",
       "Barclays                38\n",
       "CBA                     33\n",
       "Diamond Trust Bank      25\n",
       "Standard Chartered      24\n",
       "Stanbic Bank            22\n",
       "NIC                     18\n",
       "I&M                     14\n",
       "dtype: int64"
      ]
     },
     "execution_count": 17,
     "metadata": {},
     "output_type": "execute_result"
    }
   ],
   "source": [
    "likelihood_data.value_counts(new_data['bank'])"
   ]
  },
  {
   "cell_type": "markdown",
   "metadata": {
    "id": "6s_rCST2PWpz"
   },
   "source": [
    "The table above shows the number of feedback comments given for every bank. There are a total of **12** banks mentioned in this dataset."
   ]
  },
  {
   "cell_type": "code",
   "execution_count": 18,
   "metadata": {
    "colab": {
     "base_uri": "https://localhost:8080/"
    },
    "id": "KEw32sd1P-zi",
    "outputId": "60551212-a787-44b3-f603-633f9237b423"
   },
   "outputs": [],
   "source": [
    "# ls = likelihood_data.groupby(['bank'])\n",
    "# ls.likelihood_to_recommend.value_counts()"
   ]
  },
  {
   "cell_type": "code",
   "execution_count": 19,
   "metadata": {
    "id": "WY31Hmd6L_Yo"
   },
   "outputs": [],
   "source": [
    "# the function below calculates the NPS of each bank\n",
    "def calculate_nps(likelihood):\n",
    "    detractors, promoters = 0, 0 \n",
    "    for l in likelihood:\n",
    "        if l <= 6:\n",
    "            detractors +=1\n",
    "        if l >= 9:\n",
    "            promoters +=1\n",
    "  \n",
    "    nps = (float(promoters) / len(likelihood) - float(detractors) / len(likelihood)) * 100\n",
    "    return nps"
   ]
  },
  {
   "cell_type": "code",
   "execution_count": 20,
   "metadata": {
    "colab": {
     "base_uri": "https://localhost:8080/",
     "height": 426
    },
    "id": "2VHbWkhENC_-",
    "outputId": "dc641610-2181-4b98-9a6d-e9825115a336"
   },
   "outputs": [
    {
     "data": {
      "text/html": [
       "<div>\n",
       "<style scoped>\n",
       "    .dataframe tbody tr th:only-of-type {\n",
       "        vertical-align: middle;\n",
       "    }\n",
       "\n",
       "    .dataframe tbody tr th {\n",
       "        vertical-align: top;\n",
       "    }\n",
       "\n",
       "    .dataframe thead th {\n",
       "        text-align: right;\n",
       "    }\n",
       "</style>\n",
       "<table border=\"1\" class=\"dataframe\">\n",
       "  <thead>\n",
       "    <tr style=\"text-align: right;\">\n",
       "      <th></th>\n",
       "      <th>bank</th>\n",
       "      <th>likelihood_to_recommend</th>\n",
       "    </tr>\n",
       "  </thead>\n",
       "  <tbody>\n",
       "    <tr>\n",
       "      <th>0</th>\n",
       "      <td>CBA</td>\n",
       "      <td>57.575758</td>\n",
       "    </tr>\n",
       "    <tr>\n",
       "      <th>1</th>\n",
       "      <td>Standard Chartered</td>\n",
       "      <td>37.500000</td>\n",
       "    </tr>\n",
       "    <tr>\n",
       "      <th>2</th>\n",
       "      <td>Other</td>\n",
       "      <td>35.849057</td>\n",
       "    </tr>\n",
       "    <tr>\n",
       "      <th>3</th>\n",
       "      <td>I&amp;M</td>\n",
       "      <td>35.714286</td>\n",
       "    </tr>\n",
       "    <tr>\n",
       "      <th>4</th>\n",
       "      <td>Stanbic Bank</td>\n",
       "      <td>31.818182</td>\n",
       "    </tr>\n",
       "    <tr>\n",
       "      <th>5</th>\n",
       "      <td>Co-operative</td>\n",
       "      <td>26.901408</td>\n",
       "    </tr>\n",
       "    <tr>\n",
       "      <th>6</th>\n",
       "      <td>KCB</td>\n",
       "      <td>24.956217</td>\n",
       "    </tr>\n",
       "    <tr>\n",
       "      <th>7</th>\n",
       "      <td>Equity</td>\n",
       "      <td>24.588939</td>\n",
       "    </tr>\n",
       "    <tr>\n",
       "      <th>8</th>\n",
       "      <td>Diamond Trust Bank</td>\n",
       "      <td>24.000000</td>\n",
       "    </tr>\n",
       "    <tr>\n",
       "      <th>9</th>\n",
       "      <td>Barclays</td>\n",
       "      <td>15.789474</td>\n",
       "    </tr>\n",
       "    <tr>\n",
       "      <th>10</th>\n",
       "      <td>National Bank</td>\n",
       "      <td>14.678899</td>\n",
       "    </tr>\n",
       "    <tr>\n",
       "      <th>11</th>\n",
       "      <td>NIC</td>\n",
       "      <td>0.000000</td>\n",
       "    </tr>\n",
       "  </tbody>\n",
       "</table>\n",
       "</div>"
      ],
      "text/plain": [
       "                  bank  likelihood_to_recommend\n",
       "0                  CBA                57.575758\n",
       "1   Standard Chartered                37.500000\n",
       "2                Other                35.849057\n",
       "3                  I&M                35.714286\n",
       "4         Stanbic Bank                31.818182\n",
       "5         Co-operative                26.901408\n",
       "6                  KCB                24.956217\n",
       "7               Equity                24.588939\n",
       "8   Diamond Trust Bank                24.000000\n",
       "9             Barclays                15.789474\n",
       "10       National Bank                14.678899\n",
       "11                 NIC                 0.000000"
      ]
     },
     "execution_count": 20,
     "metadata": {},
     "output_type": "execute_result"
    }
   ],
   "source": [
    "banks_nps = likelihood_data.groupby(['bank']).agg(calculate_nps)\n",
    "\n",
    "\n",
    "# sort df by nps column\n",
    "banks_nps = banks_nps.sort_values(['likelihood_to_recommend'], ascending= False).reset_index(drop=False)\n",
    "banks_nps"
   ]
  },
  {
   "cell_type": "markdown",
   "metadata": {},
   "source": [
    "The table above shows the NPS by bank"
   ]
  },
  {
   "cell_type": "code",
   "execution_count": 21,
   "metadata": {
    "colab": {
     "base_uri": "https://localhost:8080/",
     "height": 561
    },
    "id": "FF_lMblfXMwm",
    "outputId": "7adada24-07d9-4760-9766-19ac0f8675c5"
   },
   "outputs": [
    {
     "data": {
      "image/png": "[encoded data removed]",
      "text/plain": [
       "<Figure size 842.4x595.44 with 1 Axes>"
      ]
     },
     "metadata": {
      "needs_background": "light"
     },
     "output_type": "display_data"
    }
   ],
   "source": [
    "a4_dims = (11.7, 8.27)\n",
    "fig, ax = plt.subplots(figsize=a4_dims)\n",
    "\n",
    "fig = sns.barplot(ax = ax, x = 'bank', y='likelihood_to_recommend', data=banks_nps).set_title('Net Promoter Score by Bank')\n",
    "ax.set_xticklabels(banks_nps.bank)\n",
    "for item in ax.get_xticklabels(): item.set_rotation(30)"
   ]
  },
  {
   "cell_type": "markdown",
   "metadata": {},
   "source": [
    "The diagram above shows that CBA has the highest NPS Score and NIC has the lowest NPS score at 0. meaning that their % of promoters and % of detractors are the same."
   ]
  },
  {
   "cell_type": "code",
   "execution_count": 22,
   "metadata": {
    "colab": {
     "base_uri": "https://localhost:8080/"
    },
    "id": "R8pFzPvML3-D",
    "outputId": "e28bdf0b-2c4d-4243-b024-71094d17c4b9"
   },
   "outputs": [
    {
     "name": "stdout",
     "output_type": "stream",
     "text": [
      "The mean of sample is 27.44768490057114 \n",
      "Standard Deviation of sample is 14.288160253113123 \n"
     ]
    }
   ],
   "source": [
    "import statistics\n",
    "print(\"The mean of sample is % s \" \n",
    "                % (statistics.mean(banks_nps.likelihood_to_recommend))) \n",
    "print(\"Standard Deviation of sample is % s \" \n",
    "                % (statistics.stdev(banks_nps.likelihood_to_recommend))) "
   ]
  },
  {
   "cell_type": "markdown",
   "metadata": {
    "id": "Iq4yBERcmatw"
   },
   "source": [
    "### 2. Does the Net Promoter Score vary significantly across touchpoints/interaction channels?"
   ]
  },
  {
   "cell_type": "code",
   "execution_count": 26,
   "metadata": {
    "colab": {
     "base_uri": "https://localhost:8080/",
     "height": 363
    },
    "id": "CPjx0FzfZUzL",
    "outputId": "f997d339-2ec1-4409-c504-eaba8cb2f953"
   },
   "outputs": [
    {
     "data": {
      "text/html": [
       "<div>\n",
       "<style scoped>\n",
       "    .dataframe tbody tr th:only-of-type {\n",
       "        vertical-align: middle;\n",
       "    }\n",
       "\n",
       "    .dataframe tbody tr th {\n",
       "        vertical-align: top;\n",
       "    }\n",
       "\n",
       "    .dataframe thead th {\n",
       "        text-align: right;\n",
       "    }\n",
       "</style>\n",
       "<table border=\"1\" class=\"dataframe\">\n",
       "  <thead>\n",
       "    <tr style=\"text-align: right;\">\n",
       "      <th></th>\n",
       "      <th>last_interaction_with_bank</th>\n",
       "      <th>likelihood_to_recommend</th>\n",
       "    </tr>\n",
       "  </thead>\n",
       "  <tbody>\n",
       "    <tr>\n",
       "      <th>0</th>\n",
       "      <td>Teller or Branch transactions</td>\n",
       "      <td>13.866667</td>\n",
       "    </tr>\n",
       "    <tr>\n",
       "      <th>1</th>\n",
       "      <td>Social media</td>\n",
       "      <td>17.857143</td>\n",
       "    </tr>\n",
       "    <tr>\n",
       "      <th>2</th>\n",
       "      <td>Other</td>\n",
       "      <td>17.241379</td>\n",
       "    </tr>\n",
       "    <tr>\n",
       "      <th>3</th>\n",
       "      <td>Mobile banking</td>\n",
       "      <td>32.249322</td>\n",
       "    </tr>\n",
       "    <tr>\n",
       "      <th>4</th>\n",
       "      <td>Internet banking</td>\n",
       "      <td>41.538462</td>\n",
       "    </tr>\n",
       "    <tr>\n",
       "      <th>5</th>\n",
       "      <td>Insurance</td>\n",
       "      <td>-50.000000</td>\n",
       "    </tr>\n",
       "    <tr>\n",
       "      <th>6</th>\n",
       "      <td>Customer service desk/ enquiries</td>\n",
       "      <td>35.928144</td>\n",
       "    </tr>\n",
       "    <tr>\n",
       "      <th>7</th>\n",
       "      <td>Call centre</td>\n",
       "      <td>16.666667</td>\n",
       "    </tr>\n",
       "    <tr>\n",
       "      <th>8</th>\n",
       "      <td>Bank agent/ agency banking</td>\n",
       "      <td>22.314050</td>\n",
       "    </tr>\n",
       "    <tr>\n",
       "      <th>9</th>\n",
       "      <td>ATM</td>\n",
       "      <td>27.021494</td>\n",
       "    </tr>\n",
       "  </tbody>\n",
       "</table>\n",
       "</div>"
      ],
      "text/plain": [
       "         last_interaction_with_bank  likelihood_to_recommend\n",
       "0     Teller or Branch transactions                13.866667\n",
       "1                      Social media                17.857143\n",
       "2                             Other                17.241379\n",
       "3                    Mobile banking                32.249322\n",
       "4                  Internet banking                41.538462\n",
       "5                         Insurance               -50.000000\n",
       "6  Customer service desk/ enquiries                35.928144\n",
       "7                       Call centre                16.666667\n",
       "8        Bank agent/ agency banking                22.314050\n",
       "9                               ATM                27.021494"
      ]
     },
     "execution_count": 26,
     "metadata": {},
     "output_type": "execute_result"
    }
   ],
   "source": [
    "channels_nps = likelihood_data.groupby(['last_interaction_with_bank']).agg(calculate_nps)\n",
    "\n",
    "# sort df by nps column\n",
    "channels_nps = channels_nps.sort_values(['last_interaction_with_bank'], ascending= False).reset_index(drop=False)\n",
    "channels_nps"
   ]
  },
  {
   "cell_type": "code",
   "execution_count": 27,
   "metadata": {
    "colab": {
     "base_uri": "https://localhost:8080/",
     "height": 594
    },
    "id": "3ic2EZJvVSqb",
    "outputId": "9977c509-e56f-42f6-a254-05e3bb5483d9"
   },
   "outputs": [
    {
     "data": {
      "image/png": "[encoded data removed]",
      "text/plain": [
       "<Figure size 842.4x595.44 with 1 Axes>"
      ]
     },
     "metadata": {
      "needs_background": "light"
     },
     "output_type": "display_data"
    }
   ],
   "source": [
    "a4_dims = (11.7, 8.27)\n",
    "fig, ax = plt.subplots(figsize=a4_dims)\n",
    "\n",
    "fig = sns.barplot(ax = ax, x = 'last_interaction_with_bank', y='likelihood_to_recommend', data=channels_nps).set_title('Net Promoter Score by Interaction Channels')\n",
    "\n",
    "ax.set_xticklabels(channels_nps.last_interaction_with_bank)\n",
    "for item in ax.get_xticklabels(): item.set_rotation(30)"
   ]
  },
  {
   "cell_type": "markdown",
   "metadata": {},
   "source": [
    "The diagram above shows the Net Promoter Score by the last interaction channels with the bank and how the score vares across these different interaction channels."
   ]
  },
  {
   "cell_type": "code",
   "execution_count": 28,
   "metadata": {
    "colab": {
     "base_uri": "https://localhost:8080/"
    },
    "id": "f0FNq_OJOqRA",
    "outputId": "783e1de0-8692-4bb5-fcfb-9dc181c87b6a"
   },
   "outputs": [
    {
     "name": "stdout",
     "output_type": "stream",
     "text": [
      "The mean of sample is 17.46833272023812 \n",
      "Standard Deviation of sample is 25.427785588427547 \n"
     ]
    }
   ],
   "source": [
    "print(\"The mean of sample is % s \" \n",
    "                % (statistics.mean(channels_nps.likelihood_to_recommend))) \n",
    "print(\"Standard Deviation of sample is % s \" \n",
    "                % (statistics.stdev(channels_nps.likelihood_to_recommend))) "
   ]
  },
  {
   "cell_type": "markdown",
   "metadata": {
    "id": "dCnsb8vomalM"
   },
   "source": [
    "### 3. Does the Net Promoter Score vary by Demographic characteristics?"
   ]
  },
  {
   "cell_type": "code",
   "execution_count": 30,
   "metadata": {
    "colab": {
     "base_uri": "https://localhost:8080/",
     "height": 363
    },
    "id": "1OP_Kwvbn12X",
    "outputId": "47e901ad-fb1a-4969-d1a3-95810b865950"
   },
   "outputs": [
    {
     "data": {
      "text/html": [
       "<div>\n",
       "<style scoped>\n",
       "    .dataframe tbody tr th:only-of-type {\n",
       "        vertical-align: middle;\n",
       "    }\n",
       "\n",
       "    .dataframe tbody tr th {\n",
       "        vertical-align: top;\n",
       "    }\n",
       "\n",
       "    .dataframe thead th {\n",
       "        text-align: right;\n",
       "    }\n",
       "</style>\n",
       "<table border=\"1\" class=\"dataframe\">\n",
       "  <thead>\n",
       "    <tr style=\"text-align: right;\">\n",
       "      <th></th>\n",
       "      <th>region</th>\n",
       "      <th>likelihood_to_recommend</th>\n",
       "    </tr>\n",
       "  </thead>\n",
       "  <tbody>\n",
       "    <tr>\n",
       "      <th>0</th>\n",
       "      <td>western</td>\n",
       "      <td>27.622378</td>\n",
       "    </tr>\n",
       "    <tr>\n",
       "      <th>1</th>\n",
       "      <td>riftvalley</td>\n",
       "      <td>30.833333</td>\n",
       "    </tr>\n",
       "    <tr>\n",
       "      <th>2</th>\n",
       "      <td>nyanza</td>\n",
       "      <td>26.012793</td>\n",
       "    </tr>\n",
       "    <tr>\n",
       "      <th>3</th>\n",
       "      <td>northeastern</td>\n",
       "      <td>-5.555556</td>\n",
       "    </tr>\n",
       "    <tr>\n",
       "      <th>4</th>\n",
       "      <td>nairobi</td>\n",
       "      <td>16.978417</td>\n",
       "    </tr>\n",
       "    <tr>\n",
       "      <th>5</th>\n",
       "      <td>eastern</td>\n",
       "      <td>27.164179</td>\n",
       "    </tr>\n",
       "    <tr>\n",
       "      <th>6</th>\n",
       "      <td>coast</td>\n",
       "      <td>16.239316</td>\n",
       "    </tr>\n",
       "    <tr>\n",
       "      <th>7</th>\n",
       "      <td>central</td>\n",
       "      <td>23.671498</td>\n",
       "    </tr>\n",
       "    <tr>\n",
       "      <th>8</th>\n",
       "      <td>Nairobi</td>\n",
       "      <td>10.526316</td>\n",
       "    </tr>\n",
       "    <tr>\n",
       "      <th>9</th>\n",
       "      <td>Coast</td>\n",
       "      <td>100.000000</td>\n",
       "    </tr>\n",
       "  </tbody>\n",
       "</table>\n",
       "</div>"
      ],
      "text/plain": [
       "         region  likelihood_to_recommend\n",
       "0       western                27.622378\n",
       "1    riftvalley                30.833333\n",
       "2        nyanza                26.012793\n",
       "3  northeastern                -5.555556\n",
       "4       nairobi                16.978417\n",
       "5       eastern                27.164179\n",
       "6         coast                16.239316\n",
       "7       central                23.671498\n",
       "8       Nairobi                10.526316\n",
       "9         Coast               100.000000"
      ]
     },
     "execution_count": 30,
     "metadata": {},
     "output_type": "execute_result"
    }
   ],
   "source": [
    "region_nps = likelihood_data.groupby(['region']).agg(calculate_nps)\n",
    "\n",
    "# sort df by nps column\n",
    "region_nps = region_nps.sort_values(['region'], ascending= False).reset_index(drop=False)\n",
    "region_nps"
   ]
  },
  {
   "cell_type": "code",
   "execution_count": 31,
   "metadata": {
    "colab": {
     "base_uri": "https://localhost:8080/",
     "height": 542
    },
    "id": "uIUW8etmWTy-",
    "outputId": "a8aecdb4-e71d-4ec5-ef2a-5b1e7c0d6d12"
   },
   "outputs": [
    {
     "data": {
      "image/png": "[encoded data removed]",
      "text/plain": [
       "<Figure size 842.4x595.44 with 1 Axes>"
      ]
     },
     "metadata": {
      "needs_background": "light"
     },
     "output_type": "display_data"
    }
   ],
   "source": [
    "a4_dims = (11.7, 8.27)\n",
    "fig, ax = plt.subplots(figsize=a4_dims)\n",
    "\n",
    "fig = sns.barplot(ax = ax, x = 'region', y='likelihood_to_recommend', data=region_nps)\n",
    "\n",
    "ax.set_xticklabels(region_nps.region)\n",
    "for item in ax.get_xticklabels(): item.set_rotation(30)"
   ]
  },
  {
   "cell_type": "code",
   "execution_count": 32,
   "metadata": {
    "colab": {
     "base_uri": "https://localhost:8080/"
    },
    "id": "KErJHacwO4oR",
    "outputId": "4a30138a-1d7a-4723-cc66-027666f00347"
   },
   "outputs": [
    {
     "name": "stdout",
     "output_type": "stream",
     "text": [
      "The mean of sample is 27.349267456112333 \n",
      "Standard Deviation of sample is 27.69358787737474 \n"
     ]
    }
   ],
   "source": [
    "print(\"The mean of sample is % s \" \n",
    "                % (statistics.mean(region_nps.likelihood_to_recommend))) \n",
    "print(\"Standard Deviation of sample is % s \" \n",
    "                % (statistics.stdev(region_nps.likelihood_to_recommend))) "
   ]
  },
  {
   "cell_type": "markdown",
   "metadata": {},
   "source": [
    "The above plots and calculations show that the Net Promoter Score grouped by demographic chanacteristics, varies more than those grouped by interaction touchpoints."
   ]
  },
  {
   "cell_type": "markdown",
   "metadata": {
    "id": "u7R80qZsmaf8"
   },
   "source": [
    "### 4. Does the Response rate* vary significantly across any of the characteristics (Customer Demographics, Bank, Touchpoints, Week, Time of Day)?"
   ]
  },
  {
   "cell_type": "markdown",
   "metadata": {
    "id": "YzOQvyJLXCh6"
   },
   "source": [
    "### Demographics"
   ]
  },
  {
   "cell_type": "code",
   "execution_count": 111,
   "metadata": {},
   "outputs": [],
   "source": [
    "new_data['region'] = new_data['region'].str.lower()"
   ]
  },
  {
   "cell_type": "code",
   "execution_count": 112,
   "metadata": {
    "colab": {
     "base_uri": "https://localhost:8080/",
     "height": 896
    },
    "id": "grklGHFlZQjy",
    "outputId": "6bf16baf-27a6-44af-d15e-443111eb2703"
   },
   "outputs": [],
   "source": [
    "l = new_data.groupby(['region'])\n",
    "pct = l.survey_completion.value_counts().reset_index(name = 'count')"
   ]
  },
  {
   "cell_type": "code",
   "execution_count": 122,
   "metadata": {
    "colab": {
     "base_uri": "https://localhost:8080/",
     "height": 383
    },
    "id": "h3HEhpLyXPo-",
    "outputId": "2f164ed0-346e-4952-bb9e-b8fb8271a96f"
   },
   "outputs": [
    {
     "data": {
      "text/plain": [
       "<AxesSubplot:xlabel='region', ylabel='count'>"
      ]
     },
     "execution_count": 122,
     "metadata": {},
     "output_type": "execute_result"
    },
    {
     "data": {
      "image/png": "[encoded data removed]",
      "text/plain": [
       "<Figure size 842.4x595.44 with 1 Axes>"
      ]
     },
     "metadata": {},
     "output_type": "display_data"
    }
   ],
   "source": [
    "a4_dims = (11.7, 8.27)\n",
    "fig, ax = plt.subplots(figsize=a4_dims)\n",
    "\n",
    "sns.barplot(x = 'region', y= 'count',\n",
    "            hue = 'survey_completion',data=pct)\n",
    "\n",
    "# ax.set_xticklabels(pct.region)\n",
    "# for item in ax.get_xticklabels(): item.set_rotation(30)"
   ]
  },
  {
   "cell_type": "code",
   "execution_count": 124,
   "metadata": {},
   "outputs": [
    {
     "data": {
      "image/png": "[encoded data removed]",
      "text/plain": [
       "<Figure size 842.4x595.44 with 1 Axes>"
      ]
     },
     "metadata": {},
     "output_type": "display_data"
    }
   ],
   "source": [
    "a4_dims = (11.7, 8.27)\n",
    "fig, ax = plt.subplots(figsize=a4_dims)\n",
    "\n",
    "fig = sns.boxplot(x = 'survey_completion', y= 'count',\n",
    "            hue = 'survey_completion',data=pct)"
   ]
  },
  {
   "cell_type": "markdown",
   "metadata": {
    "id": "KogOri2hXC6U"
   },
   "source": [
    "### Bank"
   ]
  },
  {
   "cell_type": "code",
   "execution_count": 129,
   "metadata": {
    "colab": {
     "base_uri": "https://localhost:8080/"
    },
    "id": "tzaQrWHNbI_w",
    "outputId": "642b1ce9-9c2b-4cf8-f411-373e62c88be7"
   },
   "outputs": [],
   "source": [
    "l = new_data.groupby(['bank'])\n",
    "pct = l.survey_completion.value_counts().reset_index(name = 'count')"
   ]
  },
  {
   "cell_type": "code",
   "execution_count": 134,
   "metadata": {},
   "outputs": [
    {
     "data": {
      "image/png": "[encoded data removed]",
      "text/plain": [
       "<Figure size 842.4x595.44 with 1 Axes>"
      ]
     },
     "metadata": {},
     "output_type": "display_data"
    }
   ],
   "source": [
    "a4_dims = (11.7, 8.27)\n",
    "fig, ax = plt.subplots(figsize=a4_dims)\n",
    "\n",
    "fig = sns.barplot(x = 'bank', y= 'count',\n",
    "            hue = 'survey_completion',data=pct)\n",
    "\n",
    "ax.set_xticklabels(pct['bank'].unique())\n",
    "for item in ax.get_xticklabels(): item.set_rotation(30)"
   ]
  },
  {
   "cell_type": "code",
   "execution_count": 135,
   "metadata": {
    "colab": {
     "base_uri": "https://localhost:8080/",
     "height": 560
    },
    "id": "y52xo51sYrbE",
    "outputId": "5fd9af67-1144-43f9-a3c5-70fd317fd1ef"
   },
   "outputs": [
    {
     "data": {
      "image/png": "[encoded data removed]",
      "text/plain": [
       "<Figure size 842.4x595.44 with 1 Axes>"
      ]
     },
     "metadata": {},
     "output_type": "display_data"
    }
   ],
   "source": [
    "a4_dims = (11.7, 8.27)\n",
    "fig, ax = plt.subplots(figsize=a4_dims)\n",
    "\n",
    "fig = sns.boxplot(x = 'survey_completion', y= 'count',\n",
    "            hue = 'survey_completion',data=pct)\n"
   ]
  },
  {
   "cell_type": "markdown",
   "metadata": {
    "id": "ZLNEch0RXDSo"
   },
   "source": [
    "### Touchpoints"
   ]
  },
  {
   "cell_type": "code",
   "execution_count": 138,
   "metadata": {
    "colab": {
     "base_uri": "https://localhost:8080/"
    },
    "id": "GjRHCjsDbQv9",
    "outputId": "2d2f6315-277f-420d-dfec-e9592fbcf103"
   },
   "outputs": [
    {
     "data": {
      "text/html": [
       "<div>\n",
       "<style scoped>\n",
       "    .dataframe tbody tr th:only-of-type {\n",
       "        vertical-align: middle;\n",
       "    }\n",
       "\n",
       "    .dataframe tbody tr th {\n",
       "        vertical-align: top;\n",
       "    }\n",
       "\n",
       "    .dataframe thead th {\n",
       "        text-align: right;\n",
       "    }\n",
       "</style>\n",
       "<table border=\"1\" class=\"dataframe\">\n",
       "  <thead>\n",
       "    <tr style=\"text-align: right;\">\n",
       "      <th></th>\n",
       "      <th>last_interaction_with_bank</th>\n",
       "      <th>survey_completion</th>\n",
       "      <th>count</th>\n",
       "    </tr>\n",
       "  </thead>\n",
       "  <tbody>\n",
       "    <tr>\n",
       "      <th>0</th>\n",
       "      <td>ATM</td>\n",
       "      <td>FINISHED</td>\n",
       "      <td>971</td>\n",
       "    </tr>\n",
       "    <tr>\n",
       "      <th>1</th>\n",
       "      <td>ATM</td>\n",
       "      <td>TIMEDOUT</td>\n",
       "      <td>13</td>\n",
       "    </tr>\n",
       "    <tr>\n",
       "      <th>2</th>\n",
       "      <td>Bank agent/ agency banking</td>\n",
       "      <td>FINISHED</td>\n",
       "      <td>481</td>\n",
       "    </tr>\n",
       "    <tr>\n",
       "      <th>3</th>\n",
       "      <td>Bank agent/ agency banking</td>\n",
       "      <td>TIMEDOUT</td>\n",
       "      <td>8</td>\n",
       "    </tr>\n",
       "    <tr>\n",
       "      <th>4</th>\n",
       "      <td>Call centre</td>\n",
       "      <td>FINISHED</td>\n",
       "      <td>18</td>\n",
       "    </tr>\n",
       "    <tr>\n",
       "      <th>5</th>\n",
       "      <td>Customer service desk/ enquiries</td>\n",
       "      <td>FINISHED</td>\n",
       "      <td>165</td>\n",
       "    </tr>\n",
       "    <tr>\n",
       "      <th>6</th>\n",
       "      <td>Customer service desk/ enquiries</td>\n",
       "      <td>TIMEDOUT</td>\n",
       "      <td>5</td>\n",
       "    </tr>\n",
       "    <tr>\n",
       "      <th>7</th>\n",
       "      <td>Insurance</td>\n",
       "      <td>FINISHED</td>\n",
       "      <td>8</td>\n",
       "    </tr>\n",
       "    <tr>\n",
       "      <th>8</th>\n",
       "      <td>Internet banking</td>\n",
       "      <td>FINISHED</td>\n",
       "      <td>63</td>\n",
       "    </tr>\n",
       "    <tr>\n",
       "      <th>9</th>\n",
       "      <td>Internet banking</td>\n",
       "      <td>TIMEDOUT</td>\n",
       "      <td>2</td>\n",
       "    </tr>\n",
       "    <tr>\n",
       "      <th>10</th>\n",
       "      <td>Mobile banking</td>\n",
       "      <td>FINISHED</td>\n",
       "      <td>1101</td>\n",
       "    </tr>\n",
       "    <tr>\n",
       "      <th>11</th>\n",
       "      <td>Mobile banking</td>\n",
       "      <td>TIMEDOUT</td>\n",
       "      <td>11</td>\n",
       "    </tr>\n",
       "    <tr>\n",
       "      <th>12</th>\n",
       "      <td>Other</td>\n",
       "      <td>FINISHED</td>\n",
       "      <td>28</td>\n",
       "    </tr>\n",
       "    <tr>\n",
       "      <th>13</th>\n",
       "      <td>Other</td>\n",
       "      <td>TIMEDOUT</td>\n",
       "      <td>3</td>\n",
       "    </tr>\n",
       "    <tr>\n",
       "      <th>14</th>\n",
       "      <td>Social media</td>\n",
       "      <td>FINISHED</td>\n",
       "      <td>28</td>\n",
       "    </tr>\n",
       "    <tr>\n",
       "      <th>15</th>\n",
       "      <td>Social media</td>\n",
       "      <td>TIMEDOUT</td>\n",
       "      <td>2</td>\n",
       "    </tr>\n",
       "    <tr>\n",
       "      <th>16</th>\n",
       "      <td>Teller or Branch transactions</td>\n",
       "      <td>FINISHED</td>\n",
       "      <td>738</td>\n",
       "    </tr>\n",
       "    <tr>\n",
       "      <th>17</th>\n",
       "      <td>Teller or Branch transactions</td>\n",
       "      <td>TIMEDOUT</td>\n",
       "      <td>16</td>\n",
       "    </tr>\n",
       "  </tbody>\n",
       "</table>\n",
       "</div>"
      ],
      "text/plain": [
       "          last_interaction_with_bank survey_completion  count\n",
       "0                                ATM          FINISHED    971\n",
       "1                                ATM          TIMEDOUT     13\n",
       "2         Bank agent/ agency banking          FINISHED    481\n",
       "3         Bank agent/ agency banking          TIMEDOUT      8\n",
       "4                        Call centre          FINISHED     18\n",
       "5   Customer service desk/ enquiries          FINISHED    165\n",
       "6   Customer service desk/ enquiries          TIMEDOUT      5\n",
       "7                          Insurance          FINISHED      8\n",
       "8                   Internet banking          FINISHED     63\n",
       "9                   Internet banking          TIMEDOUT      2\n",
       "10                    Mobile banking          FINISHED   1101\n",
       "11                    Mobile banking          TIMEDOUT     11\n",
       "12                             Other          FINISHED     28\n",
       "13                             Other          TIMEDOUT      3\n",
       "14                      Social media          FINISHED     28\n",
       "15                      Social media          TIMEDOUT      2\n",
       "16     Teller or Branch transactions          FINISHED    738\n",
       "17     Teller or Branch transactions          TIMEDOUT     16"
      ]
     },
     "execution_count": 138,
     "metadata": {},
     "output_type": "execute_result"
    }
   ],
   "source": [
    "l = new_data.groupby(['last_interaction_with_bank'])\n",
    "pct = l.survey_completion.value_counts().reset_index(name = 'count')\n",
    "pct"
   ]
  },
  {
   "cell_type": "code",
   "execution_count": 139,
   "metadata": {},
   "outputs": [
    {
     "data": {
      "image/png": "[encoded data removed]",
      "text/plain": [
       "<Figure size 842.4x595.44 with 1 Axes>"
      ]
     },
     "metadata": {},
     "output_type": "display_data"
    }
   ],
   "source": [
    "\n",
    "a4_dims = (11.7, 8.27)\n",
    "fig, ax = plt.subplots(figsize=a4_dims)\n",
    "\n",
    "fig = sns.barplot(x = 'last_interaction_with_bank', y= 'count',\n",
    "            hue = 'survey_completion',data=pct)\n",
    "\n",
    "ax.set_xticklabels(pct['last_interaction_with_bank'].unique())\n",
    "for item in ax.get_xticklabels(): item.set_rotation(30)"
   ]
  },
  {
   "cell_type": "code",
   "execution_count": 140,
   "metadata": {},
   "outputs": [
    {
     "data": {
      "image/png": "[encoded data removed]",
      "text/plain": [
       "<Figure size 842.4x595.44 with 1 Axes>"
      ]
     },
     "metadata": {},
     "output_type": "display_data"
    }
   ],
   "source": [
    "a4_dims = (11.7, 8.27)\n",
    "fig, ax = plt.subplots(figsize=a4_dims)\n",
    "\n",
    "fig = sns.boxplot(x = 'survey_completion', y= 'count',\n",
    "            hue = 'survey_completion',data=pct)"
   ]
  },
  {
   "cell_type": "markdown",
   "metadata": {},
   "source": [
    "From the box plots that have been shown above, it is clear that the response rate varies across those categories"
   ]
  },
  {
   "cell_type": "markdown",
   "metadata": {
    "id": "PPxA4IF9maLg"
   },
   "source": [
    "### 5. What themes are most associated with the likelihood to recommend a bank?"
   ]
  },
  {
   "cell_type": "code",
   "execution_count": 91,
   "metadata": {
    "id": "91b5OmaMfaJf"
   },
   "outputs": [],
   "source": [
    "# drop missing values for likelihood\n",
    "themes_data = new_data.dropna()"
   ]
  },
  {
   "cell_type": "code",
   "execution_count": 92,
   "metadata": {
    "colab": {
     "base_uri": "https://localhost:8080/"
    },
    "id": "R948z_zNp3wJ",
    "outputId": "b9dc5b67-77e4-4f66-f32d-aa3944b1a90d"
   },
   "outputs": [
    {
     "data": {
      "text/plain": [
       "service                                                        708\n",
       "speed/efficiency                                               329\n",
       "service,speed/efficiency                                       232\n",
       "accessibility                                                  156\n",
       "accessibility,speed/efficiency                                  71\n",
       "                                                              ... \n",
       "resolved                                                         1\n",
       "accessibility,atm,mobile_banking,speed/efficiency,system         1\n",
       "mobile_banking,rates/charges,security                            1\n",
       "accessibility,mobile_banking,service,speed/efficiency,staff      1\n",
       "atm,staff                                                        1\n",
       "Name: themes, Length: 180, dtype: int64"
      ]
     },
     "execution_count": 92,
     "metadata": {},
     "output_type": "execute_result"
    }
   ],
   "source": [
    "themes_data['themes'].value_counts()"
   ]
  },
  {
   "cell_type": "code",
   "execution_count": 93,
   "metadata": {
    "colab": {
     "base_uri": "https://localhost:8080/"
    },
    "id": "DPdQmP9Yfkfy",
    "outputId": "2f7afc67-ec57-4813-d7ee-83d8dc4c6808"
   },
   "outputs": [
    {
     "data": {
      "text/plain": [
       "2225"
      ]
     },
     "execution_count": 93,
     "metadata": {},
     "output_type": "execute_result"
    }
   ],
   "source": [
    "len(themes_data)"
   ]
  },
  {
   "cell_type": "code",
   "execution_count": 94,
   "metadata": {
    "colab": {
     "base_uri": "https://localhost:8080/"
    },
    "id": "CZVXwCP2aa0H",
    "outputId": "39cb0a78-3383-488e-ee4f-9c65f861a3f7"
   },
   "outputs": [
    {
     "data": {
      "text/plain": [
       "4118"
      ]
     },
     "execution_count": 94,
     "metadata": {},
     "output_type": "execute_result"
    }
   ],
   "source": [
    "#Reindex and repeat cols on len of split and reset index\n",
    "df1 = themes_data.reindex(themes_data.index.repeat(themes_data['themes'].fillna(\"\").str.split(',').apply(len)))\n",
    "df1 = df1.drop(['themes'],1)\n",
    "\n",
    "# Splitting both cols\n",
    "s = new_data['themes'].str.split(',', expand=True).stack().reset_index(level=1,drop=True)\n",
    "\n",
    "# Now grouping the series and df using cumcount.\n",
    "df1 = df1.set_index(df1.groupby(df1.index).cumcount(), append=True)\n",
    "s = s.to_frame('themes').set_index(s.groupby(s.index).cumcount(), append=True)\n",
    "\n",
    "# Joining the all of them together and reset index.\n",
    "df1 = df1.join(s, how='outer').reset_index(level=[0,1],drop=True)\n",
    "\n",
    "len(df1)"
   ]
  },
  {
   "cell_type": "code",
   "execution_count": 103,
   "metadata": {
    "colab": {
     "base_uri": "https://localhost:8080/"
    },
    "id": "kKXYC49QbHvk",
    "outputId": "22dbe054-5be7-49e3-b4a9-dd4336b5bcaa"
   },
   "outputs": [
    {
     "data": {
      "text/plain": [
       "service                      1478\n",
       "speed/efficiency             1019\n",
       "accessibility                 543\n",
       "rates/charges                 219\n",
       "account                       201\n",
       "staff                         197\n",
       "mobile_banking                 99\n",
       "security                       96\n",
       "atm                            68\n",
       "loan                           57\n",
       "system                         48\n",
       "facilities                     44\n",
       "information/communication      28\n",
       "online_banking                 18\n",
       "resolved                        1\n",
       "new product                     1\n",
       "affordability                   1\n",
       "Name: themes, dtype: int64"
      ]
     },
     "execution_count": 103,
     "metadata": {},
     "output_type": "execute_result"
    }
   ],
   "source": [
    "df1['themes'].value_counts()"
   ]
  },
  {
   "cell_type": "code",
   "execution_count": 98,
   "metadata": {
    "colab": {
     "base_uri": "https://localhost:8080/"
    },
    "id": "xIa-cIm_dyo6",
    "outputId": "eb564ebb-c5b2-4241-c9ce-ee5848a0ada1"
   },
   "outputs": [],
   "source": [
    "#! pip install plotly_express"
   ]
  },
  {
   "cell_type": "code",
   "execution_count": 100,
   "metadata": {},
   "outputs": [
    {
     "data": {
      "text/html": [
       "<div>\n",
       "<style scoped>\n",
       "    .dataframe tbody tr th:only-of-type {\n",
       "        vertical-align: middle;\n",
       "    }\n",
       "\n",
       "    .dataframe tbody tr th {\n",
       "        vertical-align: top;\n",
       "    }\n",
       "\n",
       "    .dataframe thead th {\n",
       "        text-align: right;\n",
       "    }\n",
       "</style>\n",
       "<table border=\"1\" class=\"dataframe\">\n",
       "  <thead>\n",
       "    <tr style=\"text-align: right;\">\n",
       "      <th></th>\n",
       "      <th>likelihood_to_recommend</th>\n",
       "      <th>themes</th>\n",
       "      <th>count</th>\n",
       "    </tr>\n",
       "  </thead>\n",
       "  <tbody>\n",
       "    <tr>\n",
       "      <th>0</th>\n",
       "      <td>0</td>\n",
       "      <td>service</td>\n",
       "      <td>8</td>\n",
       "    </tr>\n",
       "    <tr>\n",
       "      <th>1</th>\n",
       "      <td>0</td>\n",
       "      <td>speed/efficiency</td>\n",
       "      <td>5</td>\n",
       "    </tr>\n",
       "    <tr>\n",
       "      <th>2</th>\n",
       "      <td>0</td>\n",
       "      <td>accessibility</td>\n",
       "      <td>3</td>\n",
       "    </tr>\n",
       "    <tr>\n",
       "      <th>3</th>\n",
       "      <td>0</td>\n",
       "      <td>account</td>\n",
       "      <td>3</td>\n",
       "    </tr>\n",
       "    <tr>\n",
       "      <th>4</th>\n",
       "      <td>0</td>\n",
       "      <td>mobile_banking</td>\n",
       "      <td>2</td>\n",
       "    </tr>\n",
       "    <tr>\n",
       "      <th>...</th>\n",
       "      <td>...</td>\n",
       "      <td>...</td>\n",
       "      <td>...</td>\n",
       "    </tr>\n",
       "    <tr>\n",
       "      <th>121</th>\n",
       "      <td>10</td>\n",
       "      <td>system</td>\n",
       "      <td>10</td>\n",
       "    </tr>\n",
       "    <tr>\n",
       "      <th>122</th>\n",
       "      <td>10</td>\n",
       "      <td>atm</td>\n",
       "      <td>9</td>\n",
       "    </tr>\n",
       "    <tr>\n",
       "      <th>123</th>\n",
       "      <td>10</td>\n",
       "      <td>information/communication</td>\n",
       "      <td>7</td>\n",
       "    </tr>\n",
       "    <tr>\n",
       "      <th>124</th>\n",
       "      <td>10</td>\n",
       "      <td>facilities</td>\n",
       "      <td>4</td>\n",
       "    </tr>\n",
       "    <tr>\n",
       "      <th>125</th>\n",
       "      <td>10</td>\n",
       "      <td>online_banking</td>\n",
       "      <td>4</td>\n",
       "    </tr>\n",
       "  </tbody>\n",
       "</table>\n",
       "<p>126 rows × 3 columns</p>\n",
       "</div>"
      ],
      "text/plain": [
       "     likelihood_to_recommend                     themes  count\n",
       "0                          0                    service      8\n",
       "1                          0           speed/efficiency      5\n",
       "2                          0              accessibility      3\n",
       "3                          0                    account      3\n",
       "4                          0             mobile_banking      2\n",
       "..                       ...                        ...    ...\n",
       "121                       10                     system     10\n",
       "122                       10                        atm      9\n",
       "123                       10  information/communication      7\n",
       "124                       10                 facilities      4\n",
       "125                       10             online_banking      4\n",
       "\n",
       "[126 rows x 3 columns]"
      ]
     },
     "execution_count": 100,
     "metadata": {},
     "output_type": "execute_result"
    }
   ],
   "source": [
    "l = df1.groupby(['likelihood_to_recommend'])\n",
    "pct = l.themes.value_counts().reset_index(name = 'count')\n",
    "pct"
   ]
  },
  {
   "cell_type": "code",
   "execution_count": 106,
   "metadata": {},
   "outputs": [
    {
     "data": {
      "text/html": [
       "<div>\n",
       "<style scoped>\n",
       "    .dataframe tbody tr th:only-of-type {\n",
       "        vertical-align: middle;\n",
       "    }\n",
       "\n",
       "    .dataframe tbody tr th {\n",
       "        vertical-align: top;\n",
       "    }\n",
       "\n",
       "    .dataframe thead th {\n",
       "        text-align: right;\n",
       "    }\n",
       "</style>\n",
       "<table border=\"1\" class=\"dataframe\">\n",
       "  <thead>\n",
       "    <tr style=\"text-align: right;\">\n",
       "      <th></th>\n",
       "      <th>likelihood_to_recommend</th>\n",
       "      <th>themes</th>\n",
       "      <th>count</th>\n",
       "    </tr>\n",
       "  </thead>\n",
       "  <tbody>\n",
       "    <tr>\n",
       "      <th>112</th>\n",
       "      <td>10</td>\n",
       "      <td>service</td>\n",
       "      <td>366</td>\n",
       "    </tr>\n",
       "    <tr>\n",
       "      <th>113</th>\n",
       "      <td>10</td>\n",
       "      <td>speed/efficiency</td>\n",
       "      <td>243</td>\n",
       "    </tr>\n",
       "    <tr>\n",
       "      <th>114</th>\n",
       "      <td>10</td>\n",
       "      <td>accessibility</td>\n",
       "      <td>129</td>\n",
       "    </tr>\n",
       "    <tr>\n",
       "      <th>115</th>\n",
       "      <td>10</td>\n",
       "      <td>rates/charges</td>\n",
       "      <td>43</td>\n",
       "    </tr>\n",
       "    <tr>\n",
       "      <th>116</th>\n",
       "      <td>10</td>\n",
       "      <td>staff</td>\n",
       "      <td>42</td>\n",
       "    </tr>\n",
       "    <tr>\n",
       "      <th>117</th>\n",
       "      <td>10</td>\n",
       "      <td>account</td>\n",
       "      <td>40</td>\n",
       "    </tr>\n",
       "    <tr>\n",
       "      <th>118</th>\n",
       "      <td>10</td>\n",
       "      <td>security</td>\n",
       "      <td>29</td>\n",
       "    </tr>\n",
       "    <tr>\n",
       "      <th>119</th>\n",
       "      <td>10</td>\n",
       "      <td>mobile_banking</td>\n",
       "      <td>17</td>\n",
       "    </tr>\n",
       "    <tr>\n",
       "      <th>120</th>\n",
       "      <td>10</td>\n",
       "      <td>loan</td>\n",
       "      <td>15</td>\n",
       "    </tr>\n",
       "    <tr>\n",
       "      <th>121</th>\n",
       "      <td>10</td>\n",
       "      <td>system</td>\n",
       "      <td>10</td>\n",
       "    </tr>\n",
       "    <tr>\n",
       "      <th>122</th>\n",
       "      <td>10</td>\n",
       "      <td>atm</td>\n",
       "      <td>9</td>\n",
       "    </tr>\n",
       "    <tr>\n",
       "      <th>123</th>\n",
       "      <td>10</td>\n",
       "      <td>information/communication</td>\n",
       "      <td>7</td>\n",
       "    </tr>\n",
       "    <tr>\n",
       "      <th>124</th>\n",
       "      <td>10</td>\n",
       "      <td>facilities</td>\n",
       "      <td>4</td>\n",
       "    </tr>\n",
       "    <tr>\n",
       "      <th>125</th>\n",
       "      <td>10</td>\n",
       "      <td>online_banking</td>\n",
       "      <td>4</td>\n",
       "    </tr>\n",
       "  </tbody>\n",
       "</table>\n",
       "</div>"
      ],
      "text/plain": [
       "     likelihood_to_recommend                     themes  count\n",
       "112                       10                    service    366\n",
       "113                       10           speed/efficiency    243\n",
       "114                       10              accessibility    129\n",
       "115                       10              rates/charges     43\n",
       "116                       10                      staff     42\n",
       "117                       10                    account     40\n",
       "118                       10                   security     29\n",
       "119                       10             mobile_banking     17\n",
       "120                       10                       loan     15\n",
       "121                       10                     system     10\n",
       "122                       10                        atm      9\n",
       "123                       10  information/communication      7\n",
       "124                       10                 facilities      4\n",
       "125                       10             online_banking      4"
      ]
     },
     "execution_count": 106,
     "metadata": {},
     "output_type": "execute_result"
    }
   ],
   "source": [
    "pct[pct['likelihood_to_recommend'] == 10]"
   ]
  },
  {
   "cell_type": "code",
   "execution_count": 97,
   "metadata": {
    "colab": {
     "base_uri": "https://localhost:8080/",
     "height": 846
    },
    "id": "3hU_tK6Ebl5s",
    "outputId": "9a5f0462-c542-4086-c029-e07d23a9401c"
   },
   "outputs": [
    {
     "data": {
      "text/plain": [
       "<AxesSubplot:xlabel='likelihood_to_recommend'>"
      ]
     },
     "execution_count": 97,
     "metadata": {},
     "output_type": "execute_result"
    },
    {
     "data": {
      "image/png": "[encoded data removed]",
      "text/plain": [
       "<Figure size 1440x595.44 with 1 Axes>"
      ]
     },
     "metadata": {},
     "output_type": "display_data"
    }
   ],
   "source": [
    "import plotly.express as px\n",
    " \n",
    "df_plot = df1.groupby(['likelihood_to_recommend', 'themes']).size().reset_index().pivot(columns='themes', index='likelihood_to_recommend', values=0)\n",
    "df_plot.plot(kind='bar', stacked=True)\n"
   ]
  },
  {
   "cell_type": "markdown",
   "metadata": {
    "id": "5gsrZqlWFj3V"
   },
   "source": [
    "From the plot and the table above it seems like the themes associated with the likelihood to recommend a bank are **service**, **speed/efficiency** and **accessibility**"
   ]
  },
  {
   "cell_type": "markdown",
   "metadata": {},
   "source": [
    "### How would I go about training and deploying a multi-label model to classify the comments into at least one theme, based on the data provided in the comment_on_why and themes columns"
   ]
  },
  {
   "cell_type": "markdown",
   "metadata": {},
   "source": [
    "For this particular task, I will first have to flatten the column themes such that each theme is on its own column and the value underneath each theme is either a 1 or 0 showing whether a particular comment has that theme or not. \n",
    "\n",
    "I would then convert the comments into numerical vectors using **TF-IDF** which gives the value of how frequent a word is in a document multiplied by how unique the word is with respect to the entire corpus document. The words with high tf-idf score occur frequently in the document and provide most information about that specific document. I would then split the dataset into train and test and validation sets, using about 70% of the data to train and keeping the rest to test and validate the final model to see if the model generalized well on the data.\n",
    "\n",
    "There are various multi-label classification techniques. One method is with the use of the Multilabel KNN Classification algorithm, test the model using the validation set and when satisfied, finally test the model with the test set and get results and save the model to be used in the deployment phase.\n",
    "\n",
    "To deploy the application I would utilise **Streamlit** as the framework used to develop the graphical user interface to utilize the models. I would select streamlit mainly for three reasons. First, the framework is an installable Python library with built-in functions this means that the model can be incorporated into the interface efficiently without issues of language compatibility. Second, unlike other interface frameworks, Streamlit is intuitive to work with, only requires a few lines to implement complex features. Finally, deployment can be easily done through the Streamlit website, through a few simple steps. Allowing for a successful online deployment without too many restrictions.\n",
    "\n",
    "For the Graphical user interface, I would have a section where one would enter a comment, the comment is then passed through them model and it then outputs the theme(s) that have been predicted to be based on that particular comment. "
   ]
  },
  {
   "cell_type": "code",
   "execution_count": null,
   "metadata": {},
   "outputs": [],
   "source": []
  }
 ],
 "metadata": {
  "colab": {
   "collapsed_sections": [],
   "name": "Part_1.ipynb",
   "provenance": []
  },
  "hide_input": false,
  "kernelspec": {
   "display_name": "Python 3",
   "language": "python",
   "name": "python3"
  },
  "language_info": {
   "codemirror_mode": {
    "name": "ipython",
    "version": 3
   },
   "file_extension": ".py",
   "mimetype": "text/x-python",
   "name": "python",
   "nbconvert_exporter": "python",
   "pygments_lexer": "ipython3",
   "version": "3.7.9"
  },
  "toc": {
   "base_numbering": 1,
   "nav_menu": {},
   "number_sections": true,
   "sideBar": true,
   "skip_h1_title": false,
   "title_cell": "Table of Contents",
   "title_sidebar": "Contents",
   "toc_cell": true,
   "toc_position": {
    "height": "235px",
    "left": "379px",
    "top": "138.133px",
    "width": "165px"
   },
   "toc_section_display": false,
   "toc_window_display": false
  }
 },
 "nbformat": 4,
 "nbformat_minor": 1
}
