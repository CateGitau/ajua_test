{
 "cells": [
  {
   "cell_type": "code",
   "execution_count": 1,
   "metadata": {
    "colab": {
     "base_uri": "https://localhost:8080/"
    },
    "id": "B4UHgfwilLvj",
    "outputId": "7721bb4d-b0a3-43f7-b290-cbeea7cfbe76"
   },
   "outputs": [
    {
     "name": "stdout",
     "output_type": "stream",
     "text": [
      "Mounted at /content/gdrive\n"
     ]
    }
   ],
   "source": [
    "from google.colab import drive\n",
    "drive.mount('/content/gdrive')"
   ]
  },
  {
   "cell_type": "code",
   "execution_count": 2,
   "metadata": {
    "colab": {
     "base_uri": "https://localhost:8080/"
    },
    "id": "N2vt7hYOlfdn",
    "outputId": "7b494e66-925f-4860-f0a3-d92eecd3049d"
   },
   "outputs": [
    {
     "name": "stdout",
     "output_type": "stream",
     "text": [
      "/content/gdrive/MyDrive/Ajua_Test\n"
     ]
    }
   ],
   "source": [
    "%cd /content/gdrive/MyDrive/Ajua_Test"
   ]
  },
  {
   "cell_type": "code",
   "execution_count": null,
   "metadata": {
    "id": "dpXX3q_1uH8V"
   },
   "outputs": [],
   "source": [
    "#Presenting report: https://geoffruddock.com/share-results-from-jupyter-notebook/"
   ]
  },
  {
   "cell_type": "code",
   "execution_count": 1,
   "metadata": {},
   "outputs": [
    {
     "name": "stdout",
     "output_type": "stream",
     "text": [
      "Collecting jupyter_contrib_nbextensions\n",
      "  Downloading jupyter_contrib_nbextensions-0.5.1-py2.py3-none-any.whl (20.9 MB)\n",
      "\u001b[K     |████████████████████████████████| 20.9 MB 279 kB/s eta 0:00:01    |███████████                     | 7.2 MB 382 kB/s eta 0:00:36     |████████████████████████▊       | 16.1 MB 209 kB/s eta 0:00:23     |███████████████████████████▏    | 17.7 MB 206 kB/s eta 0:00:16\n",
      "\u001b[?25hCollecting jupyter-contrib-core>=0.3.3\n",
      "  Downloading jupyter_contrib_core-0.3.3-py2.py3-none-any.whl (18 kB)\n",
      "Collecting jupyter-nbextensions-configurator>=0.4.0\n",
      "  Downloading jupyter_nbextensions_configurator-0.4.1.tar.gz (479 kB)\n",
      "\u001b[K     |████████████████████████████████| 479 kB 329 kB/s eta 0:00:01\n",
      "\u001b[?25hRequirement already satisfied: pyyaml in /home/cate/anaconda3/lib/python3.7/site-packages (from jupyter_contrib_nbextensions) (5.3.1)\n",
      "Collecting jupyter-highlight-selected-word>=0.1.1\n",
      "  Downloading jupyter_highlight_selected_word-0.2.0-py2.py3-none-any.whl (11 kB)\n",
      "Requirement already satisfied: ipython-genutils in /home/cate/anaconda3/lib/python3.7/site-packages (from jupyter_contrib_nbextensions) (0.2.0)\n",
      "Requirement already satisfied: nbconvert>=4.2 in /home/cate/anaconda3/lib/python3.7/site-packages (from jupyter_contrib_nbextensions) (6.0.7)\n",
      "Requirement already satisfied: traitlets>=4.1 in /home/cate/anaconda3/lib/python3.7/site-packages (from jupyter_contrib_nbextensions) (5.0.4)\n",
      "Collecting jupyter-latex-envs>=1.3.8\n",
      "  Downloading jupyter_latex_envs-1.4.6.tar.gz (861 kB)\n",
      "\u001b[K     |████████████████████████████████| 861 kB 267 kB/s eta 0:00:01\n",
      "\u001b[?25hRequirement already satisfied: tornado in /home/cate/anaconda3/lib/python3.7/site-packages (from jupyter_contrib_nbextensions) (5.1.1)\n",
      "Requirement already satisfied: notebook>=4.0 in /home/cate/anaconda3/lib/python3.7/site-packages (from jupyter_contrib_nbextensions) (6.1.4)\n",
      "Requirement already satisfied: lxml in /home/cate/anaconda3/lib/python3.7/site-packages (from jupyter_contrib_nbextensions) (4.5.2)\n",
      "Requirement already satisfied: jupyter-core in /home/cate/anaconda3/lib/python3.7/site-packages (from jupyter_contrib_nbextensions) (4.6.3)\n",
      "Requirement already satisfied: setuptools in /home/cate/anaconda3/lib/python3.7/site-packages (from jupyter-contrib-core>=0.3.3->jupyter_contrib_nbextensions) (50.3.0.post20201006)\n",
      "Requirement already satisfied: jupyterlab-pygments in /home/cate/anaconda3/lib/python3.7/site-packages (from nbconvert>=4.2->jupyter_contrib_nbextensions) (0.1.2)\n",
      "Requirement already satisfied: nbformat>=4.4 in /home/cate/anaconda3/lib/python3.7/site-packages (from nbconvert>=4.2->jupyter_contrib_nbextensions) (5.0.7)\n",
      "Requirement already satisfied: pygments>=2.4.1 in /home/cate/anaconda3/lib/python3.7/site-packages (from nbconvert>=4.2->jupyter_contrib_nbextensions) (2.7.1)\n",
      "Requirement already satisfied: testpath in /home/cate/anaconda3/lib/python3.7/site-packages (from nbconvert>=4.2->jupyter_contrib_nbextensions) (0.4.4)\n",
      "Requirement already satisfied: defusedxml in /home/cate/anaconda3/lib/python3.7/site-packages (from nbconvert>=4.2->jupyter_contrib_nbextensions) (0.6.0)\n",
      "Requirement already satisfied: jinja2>=2.4 in /home/cate/anaconda3/lib/python3.7/site-packages (from nbconvert>=4.2->jupyter_contrib_nbextensions) (2.11.2)\n",
      "Requirement already satisfied: entrypoints>=0.2.2 in /home/cate/anaconda3/lib/python3.7/site-packages (from nbconvert>=4.2->jupyter_contrib_nbextensions) (0.3)\n",
      "Requirement already satisfied: pandocfilters>=1.4.1 in /home/cate/anaconda3/lib/python3.7/site-packages (from nbconvert>=4.2->jupyter_contrib_nbextensions) (1.4.2)\n",
      "Requirement already satisfied: mistune<2,>=0.8.1 in /home/cate/anaconda3/lib/python3.7/site-packages (from nbconvert>=4.2->jupyter_contrib_nbextensions) (0.8.4)\n",
      "Requirement already satisfied: nbclient<0.6.0,>=0.5.0 in /home/cate/anaconda3/lib/python3.7/site-packages (from nbconvert>=4.2->jupyter_contrib_nbextensions) (0.5.0)\n",
      "Requirement already satisfied: bleach in /home/cate/anaconda3/lib/python3.7/site-packages (from nbconvert>=4.2->jupyter_contrib_nbextensions) (3.2.1)\n",
      "Requirement already satisfied: ipython in /home/cate/anaconda3/lib/python3.7/site-packages (from jupyter-latex-envs>=1.3.8->jupyter_contrib_nbextensions) (7.18.1)\n",
      "Requirement already satisfied: pyzmq>=17 in /home/cate/anaconda3/lib/python3.7/site-packages (from notebook>=4.0->jupyter_contrib_nbextensions) (19.0.2)\n",
      "Requirement already satisfied: prometheus-client in /home/cate/anaconda3/lib/python3.7/site-packages (from notebook>=4.0->jupyter_contrib_nbextensions) (0.8.0)\n",
      "Requirement already satisfied: jupyter-client>=5.3.4 in /home/cate/anaconda3/lib/python3.7/site-packages (from notebook>=4.0->jupyter_contrib_nbextensions) (6.1.7)\n",
      "Requirement already satisfied: ipykernel in /home/cate/anaconda3/lib/python3.7/site-packages (from notebook>=4.0->jupyter_contrib_nbextensions) (5.3.4)\n",
      "Requirement already satisfied: terminado>=0.8.3 in /home/cate/anaconda3/lib/python3.7/site-packages (from notebook>=4.0->jupyter_contrib_nbextensions) (0.8.3)\n",
      "Requirement already satisfied: argon2-cffi in /home/cate/anaconda3/lib/python3.7/site-packages (from notebook>=4.0->jupyter_contrib_nbextensions) (20.1.0)\n",
      "Requirement already satisfied: Send2Trash in /home/cate/anaconda3/lib/python3.7/site-packages (from notebook>=4.0->jupyter_contrib_nbextensions) (1.5.0)\n",
      "Requirement already satisfied: jsonschema!=2.5.0,>=2.4 in /home/cate/anaconda3/lib/python3.7/site-packages (from nbformat>=4.4->nbconvert>=4.2->jupyter_contrib_nbextensions) (3.2.0)\n",
      "Requirement already satisfied: MarkupSafe>=0.23 in /home/cate/anaconda3/lib/python3.7/site-packages (from jinja2>=2.4->nbconvert>=4.2->jupyter_contrib_nbextensions) (1.1.1)\n",
      "Requirement already satisfied: async-generator in /home/cate/anaconda3/lib/python3.7/site-packages (from nbclient<0.6.0,>=0.5.0->nbconvert>=4.2->jupyter_contrib_nbextensions) (1.10)\n",
      "Requirement already satisfied: nest-asyncio in /home/cate/anaconda3/lib/python3.7/site-packages (from nbclient<0.6.0,>=0.5.0->nbconvert>=4.2->jupyter_contrib_nbextensions) (1.4.1)\n",
      "Requirement already satisfied: six>=1.9.0 in /home/cate/anaconda3/lib/python3.7/site-packages (from bleach->nbconvert>=4.2->jupyter_contrib_nbextensions) (1.15.0)\n",
      "Requirement already satisfied: packaging in /home/cate/anaconda3/lib/python3.7/site-packages (from bleach->nbconvert>=4.2->jupyter_contrib_nbextensions) (20.4)\n",
      "Requirement already satisfied: webencodings in /home/cate/anaconda3/lib/python3.7/site-packages (from bleach->nbconvert>=4.2->jupyter_contrib_nbextensions) (0.5.1)\n",
      "Requirement already satisfied: prompt-toolkit!=3.0.0,!=3.0.1,<3.1.0,>=2.0.0 in /home/cate/anaconda3/lib/python3.7/site-packages (from ipython->jupyter-latex-envs>=1.3.8->jupyter_contrib_nbextensions) (3.0.7)\n",
      "Requirement already satisfied: backcall in /home/cate/anaconda3/lib/python3.7/site-packages (from ipython->jupyter-latex-envs>=1.3.8->jupyter_contrib_nbextensions) (0.2.0)\n",
      "Requirement already satisfied: jedi>=0.10 in /home/cate/anaconda3/lib/python3.7/site-packages (from ipython->jupyter-latex-envs>=1.3.8->jupyter_contrib_nbextensions) (0.17.1)\n",
      "Requirement already satisfied: decorator in /home/cate/anaconda3/lib/python3.7/site-packages (from ipython->jupyter-latex-envs>=1.3.8->jupyter_contrib_nbextensions) (4.4.2)\n",
      "Requirement already satisfied: pickleshare in /home/cate/anaconda3/lib/python3.7/site-packages (from ipython->jupyter-latex-envs>=1.3.8->jupyter_contrib_nbextensions) (0.7.5)\n",
      "Requirement already satisfied: pexpect>4.3; sys_platform != \"win32\" in /home/cate/anaconda3/lib/python3.7/site-packages (from ipython->jupyter-latex-envs>=1.3.8->jupyter_contrib_nbextensions) (4.8.0)\n",
      "Requirement already satisfied: python-dateutil>=2.1 in /home/cate/anaconda3/lib/python3.7/site-packages (from jupyter-client>=5.3.4->notebook>=4.0->jupyter_contrib_nbextensions) (2.8.0)\n",
      "Requirement already satisfied: cffi>=1.0.0 in /home/cate/anaconda3/lib/python3.7/site-packages (from argon2-cffi->notebook>=4.0->jupyter_contrib_nbextensions) (1.14.3)\n",
      "Requirement already satisfied: attrs>=17.4.0 in /home/cate/anaconda3/lib/python3.7/site-packages (from jsonschema!=2.5.0,>=2.4->nbformat>=4.4->nbconvert>=4.2->jupyter_contrib_nbextensions) (20.2.0)\n",
      "Requirement already satisfied: importlib-metadata; python_version < \"3.8\" in /home/cate/anaconda3/lib/python3.7/site-packages (from jsonschema!=2.5.0,>=2.4->nbformat>=4.4->nbconvert>=4.2->jupyter_contrib_nbextensions) (1.7.0)\n",
      "Requirement already satisfied: pyrsistent>=0.14.0 in /home/cate/anaconda3/lib/python3.7/site-packages (from jsonschema!=2.5.0,>=2.4->nbformat>=4.4->nbconvert>=4.2->jupyter_contrib_nbextensions) (0.17.3)\n",
      "Requirement already satisfied: pyparsing>=2.0.2 in /home/cate/anaconda3/lib/python3.7/site-packages (from packaging->bleach->nbconvert>=4.2->jupyter_contrib_nbextensions) (2.4.7)\n"
     ]
    },
    {
     "name": "stdout",
     "output_type": "stream",
     "text": [
      "Requirement already satisfied: wcwidth in /home/cate/anaconda3/lib/python3.7/site-packages (from prompt-toolkit!=3.0.0,!=3.0.1,<3.1.0,>=2.0.0->ipython->jupyter-latex-envs>=1.3.8->jupyter_contrib_nbextensions) (0.2.5)\n",
      "Requirement already satisfied: parso<0.8.0,>=0.7.0 in /home/cate/anaconda3/lib/python3.7/site-packages (from jedi>=0.10->ipython->jupyter-latex-envs>=1.3.8->jupyter_contrib_nbextensions) (0.7.0)\n",
      "Requirement already satisfied: ptyprocess>=0.5 in /home/cate/anaconda3/lib/python3.7/site-packages (from pexpect>4.3; sys_platform != \"win32\"->ipython->jupyter-latex-envs>=1.3.8->jupyter_contrib_nbextensions) (0.6.0)\n",
      "Requirement already satisfied: pycparser in /home/cate/anaconda3/lib/python3.7/site-packages (from cffi>=1.0.0->argon2-cffi->notebook>=4.0->jupyter_contrib_nbextensions) (2.20)\n",
      "Requirement already satisfied: zipp>=0.5 in /home/cate/anaconda3/lib/python3.7/site-packages (from importlib-metadata; python_version < \"3.8\"->jsonschema!=2.5.0,>=2.4->nbformat>=4.4->nbconvert>=4.2->jupyter_contrib_nbextensions) (3.3.0)\n",
      "Building wheels for collected packages: jupyter-nbextensions-configurator, jupyter-latex-envs\n",
      "  Building wheel for jupyter-nbextensions-configurator (setup.py) ... \u001b[?25ldone\n",
      "\u001b[?25h  Created wheel for jupyter-nbextensions-configurator: filename=jupyter_nbextensions_configurator-0.4.1-py2.py3-none-any.whl size=465825 sha256=40bfd43f1bc51d4b417d966179a938d77e6133a370c1b953c983497934851848\n",
      "  Stored in directory: /home/cate/.cache/pip/wheels/8d/c4/b5/e4b61f624036f83566580d61f24af7b73180b1361ee1ab3722\n",
      "  Building wheel for jupyter-latex-envs (setup.py) ... \u001b[?25ldone\n",
      "\u001b[?25h  Created wheel for jupyter-latex-envs: filename=jupyter_latex_envs-1.4.6-py2.py3-none-any.whl size=963395 sha256=028d39aaab2899abce7f34f9f3933f454b521de94a953b6294b565ff7c39bd58\n",
      "  Stored in directory: /home/cate/.cache/pip/wheels/a0/95/26/4cf34fb92765c95fb7851fd447511594bcc3a50e504bd09af9\n",
      "Successfully built jupyter-nbextensions-configurator jupyter-latex-envs\n",
      "Installing collected packages: jupyter-contrib-core, jupyter-nbextensions-configurator, jupyter-highlight-selected-word, jupyter-latex-envs, jupyter-contrib-nbextensions\n",
      "Successfully installed jupyter-contrib-core-0.3.3 jupyter-contrib-nbextensions-0.5.1 jupyter-highlight-selected-word-0.2.0 jupyter-latex-envs-1.4.6 jupyter-nbextensions-configurator-0.4.1\n"
     ]
    }
   ],
   "source": [
    "!pip install jupyter_contrib_nbextensions"
   ]
  },
  {
   "cell_type": "markdown",
   "metadata": {
    "id": "CFy-zwmalD_S"
   },
   "source": [
    "# Technical Assignment: Senior Data Scientist, Product"
   ]
  },
  {
   "cell_type": "markdown",
   "metadata": {
    "id": "dAaWxXA3mOXy"
   },
   "source": [
    "Background:\n",
    "\n",
    "\n",
    "Ajua is continuously collecting feedback data from a sample of consumers to better understand\n",
    "and track the state of customer experience for the financial services sector, and for use in\n",
    "experimentation and product development. A sample feedback data set, titled FS Feedback Data\n",
    "is provided.\n",
    "The data includes some demographic characteristics of the customers, the consent(or lack\n",
    "thereof) to participate in a survey, the likelihood to recommend, and the reason why, as well as the\n",
    "date and time of the survey."
   ]
  },
  {
   "cell_type": "code",
   "execution_count": 3,
   "metadata": {
    "id": "OL339ELalJVU"
   },
   "outputs": [],
   "source": [
    "# import necessary libraries\n",
    "import csv\n",
    "import matplotlib.pyplot as plt\n",
    "import pandas as pd\n",
    "import numpy as np\n",
    "import seaborn as sns\n",
    "import sys\n",
    "pd.set_option('display.max_columns', 50)\n",
    "\n",
    "# Import Plotly Packages\n",
    "import plotly "
   ]
  },
  {
   "cell_type": "code",
   "execution_count": 4,
   "metadata": {
    "id": "0Fw69-Yvl9S8"
   },
   "outputs": [],
   "source": [
    "# load in the data\n",
    "data = pd.read_csv(\"data.csv\")"
   ]
  },
  {
   "cell_type": "code",
   "execution_count": 5,
   "metadata": {
    "colab": {
     "base_uri": "https://localhost:8080/",
     "height": 348
    },
    "id": "lvD6E4SfmFUS",
    "outputId": "8c779ce6-6c6c-4a21-fa43-4c13bdb8f614"
   },
   "outputs": [
    {
     "data": {
      "text/html": [
       "<div>\n",
       "<style scoped>\n",
       "    .dataframe tbody tr th:only-of-type {\n",
       "        vertical-align: middle;\n",
       "    }\n",
       "\n",
       "    .dataframe tbody tr th {\n",
       "        vertical-align: top;\n",
       "    }\n",
       "\n",
       "    .dataframe thead th {\n",
       "        text-align: right;\n",
       "    }\n",
       "</style>\n",
       "<table border=\"1\" class=\"dataframe\">\n",
       "  <thead>\n",
       "    <tr style=\"text-align: right;\">\n",
       "      <th></th>\n",
       "      <th>user_id</th>\n",
       "      <th>year_of_birth</th>\n",
       "      <th>gender</th>\n",
       "      <th>region</th>\n",
       "      <th>living_standards_measure</th>\n",
       "      <th>highest_education</th>\n",
       "      <th>employment</th>\n",
       "      <th>internet_access</th>\n",
       "      <th>cable_tv_subscription</th>\n",
       "      <th>survey_completion</th>\n",
       "      <th>survey_participation_consent</th>\n",
       "      <th>bank_account</th>\n",
       "      <th>bank</th>\n",
       "      <th>last_interaction_with_bank</th>\n",
       "      <th>likelihood_to_recommend</th>\n",
       "      <th>comment_on_why</th>\n",
       "      <th>themes</th>\n",
       "      <th>start_time(GMT)</th>\n",
       "      <th>time_of_last_update(GMT)</th>\n",
       "    </tr>\n",
       "  </thead>\n",
       "  <tbody>\n",
       "    <tr>\n",
       "      <th>0</th>\n",
       "      <td>358646</td>\n",
       "      <td>1991.0</td>\n",
       "      <td>Prefer not to answer</td>\n",
       "      <td>NaN</td>\n",
       "      <td>NaN</td>\n",
       "      <td>NaN</td>\n",
       "      <td>Student</td>\n",
       "      <td>Yes</td>\n",
       "      <td>No</td>\n",
       "      <td>TIMEDOUT</td>\n",
       "      <td>-</td>\n",
       "      <td>-</td>\n",
       "      <td>-</td>\n",
       "      <td>-</td>\n",
       "      <td>-</td>\n",
       "      <td>-</td>\n",
       "      <td>NaN</td>\n",
       "      <td>18:34.6</td>\n",
       "      <td>00:09.9</td>\n",
       "    </tr>\n",
       "    <tr>\n",
       "      <th>1</th>\n",
       "      <td>18003003</td>\n",
       "      <td>1984.0</td>\n",
       "      <td>Female</td>\n",
       "      <td>coast</td>\n",
       "      <td>5 to 8</td>\n",
       "      <td>Completed Secondary</td>\n",
       "      <td>Student</td>\n",
       "      <td>Yes</td>\n",
       "      <td>Yes</td>\n",
       "      <td>FINISHED</td>\n",
       "      <td>YES</td>\n",
       "      <td>Yes</td>\n",
       "      <td>KCB</td>\n",
       "      <td>Teller or Branch transactions</td>\n",
       "      <td>5</td>\n",
       "      <td>Safrcom don''t allow 1 person to Bank more tha...</td>\n",
       "      <td>speed/efficiency</td>\n",
       "      <td>00:02.9</td>\n",
       "      <td>16:14.6</td>\n",
       "    </tr>\n",
       "    <tr>\n",
       "      <th>2</th>\n",
       "      <td>5618870</td>\n",
       "      <td>1994.0</td>\n",
       "      <td>Male</td>\n",
       "      <td>riftvalley</td>\n",
       "      <td>5 to 8</td>\n",
       "      <td>Completed College</td>\n",
       "      <td>Student</td>\n",
       "      <td>Yes</td>\n",
       "      <td>No</td>\n",
       "      <td>FINISHED</td>\n",
       "      <td>YES</td>\n",
       "      <td>Yes</td>\n",
       "      <td>National Bank</td>\n",
       "      <td>Mobile banking</td>\n",
       "      <td>10</td>\n",
       "      <td>They offer good services</td>\n",
       "      <td>service</td>\n",
       "      <td>00:03.0</td>\n",
       "      <td>05:11.0</td>\n",
       "    </tr>\n",
       "    <tr>\n",
       "      <th>3</th>\n",
       "      <td>2951848</td>\n",
       "      <td>1995.0</td>\n",
       "      <td>Female</td>\n",
       "      <td>riftvalley</td>\n",
       "      <td>NaN</td>\n",
       "      <td>NaN</td>\n",
       "      <td>Other/Unemployed</td>\n",
       "      <td>Yes</td>\n",
       "      <td>NaN</td>\n",
       "      <td>TIMEDOUT</td>\n",
       "      <td>-</td>\n",
       "      <td>-</td>\n",
       "      <td>-</td>\n",
       "      <td>-</td>\n",
       "      <td>-</td>\n",
       "      <td>-</td>\n",
       "      <td>NaN</td>\n",
       "      <td>00:03.0</td>\n",
       "      <td>00:09.1</td>\n",
       "    </tr>\n",
       "    <tr>\n",
       "      <th>4</th>\n",
       "      <td>17386348</td>\n",
       "      <td>1999.0</td>\n",
       "      <td>Male</td>\n",
       "      <td>coast</td>\n",
       "      <td>9 to 12</td>\n",
       "      <td>In Uni</td>\n",
       "      <td>Student</td>\n",
       "      <td>Yes</td>\n",
       "      <td>Yes</td>\n",
       "      <td>FINISHED</td>\n",
       "      <td>YES</td>\n",
       "      <td>Yes</td>\n",
       "      <td>Equity</td>\n",
       "      <td>Teller or Branch transactions</td>\n",
       "      <td>7</td>\n",
       "      <td>Transaction cost are affordable</td>\n",
       "      <td>account,rates/charges</td>\n",
       "      <td>00:03.0</td>\n",
       "      <td>03:13.8</td>\n",
       "    </tr>\n",
       "  </tbody>\n",
       "</table>\n",
       "</div>"
      ],
      "text/plain": [
       "    user_id  year_of_birth                gender      region  \\\n",
       "0    358646         1991.0  Prefer not to answer         NaN   \n",
       "1  18003003         1984.0                Female       coast   \n",
       "2   5618870         1994.0                  Male  riftvalley   \n",
       "3   2951848         1995.0                Female  riftvalley   \n",
       "4  17386348         1999.0                  Male       coast   \n",
       "\n",
       "  living_standards_measure    highest_education        employment  \\\n",
       "0                      NaN                  NaN           Student   \n",
       "1                   5 to 8  Completed Secondary           Student   \n",
       "2                   5 to 8    Completed College           Student   \n",
       "3                      NaN                  NaN  Other/Unemployed   \n",
       "4                  9 to 12               In Uni           Student   \n",
       "\n",
       "  internet_access cable_tv_subscription survey_completion  \\\n",
       "0             Yes                    No          TIMEDOUT   \n",
       "1             Yes                   Yes          FINISHED   \n",
       "2             Yes                    No          FINISHED   \n",
       "3             Yes                   NaN          TIMEDOUT   \n",
       "4             Yes                   Yes          FINISHED   \n",
       "\n",
       "  survey_participation_consent bank_account           bank  \\\n",
       "0                            -            -              -   \n",
       "1                          YES          Yes            KCB   \n",
       "2                          YES          Yes  National Bank   \n",
       "3                            -            -              -   \n",
       "4                          YES          Yes         Equity   \n",
       "\n",
       "      last_interaction_with_bank likelihood_to_recommend  \\\n",
       "0                              -                       -   \n",
       "1  Teller or Branch transactions                       5   \n",
       "2                 Mobile banking                      10   \n",
       "3                              -                       -   \n",
       "4  Teller or Branch transactions                       7   \n",
       "\n",
       "                                      comment_on_why                 themes  \\\n",
       "0                                                  -                    NaN   \n",
       "1  Safrcom don''t allow 1 person to Bank more tha...       speed/efficiency   \n",
       "2                           They offer good services                service   \n",
       "3                                                  -                    NaN   \n",
       "4                    Transaction cost are affordable  account,rates/charges   \n",
       "\n",
       "  start_time(GMT) time_of_last_update(GMT)  \n",
       "0         18:34.6                  00:09.9  \n",
       "1         00:02.9                  16:14.6  \n",
       "2         00:03.0                  05:11.0  \n",
       "3         00:03.0                  00:09.1  \n",
       "4         00:03.0                  03:13.8  "
      ]
     },
     "execution_count": 5,
     "metadata": {
      "tags": []
     },
     "output_type": "execute_result"
    }
   ],
   "source": [
    "data.head(5)"
   ]
  },
  {
   "cell_type": "markdown",
   "metadata": {
    "id": "9yyjb3mznYe5"
   },
   "source": [
    "# Data Exploration and Cleaning"
   ]
  },
  {
   "cell_type": "code",
   "execution_count": null,
   "metadata": {
    "id": "Y4Rl6zqBnXyC"
   },
   "outputs": [],
   "source": [
    "# try find if there are unique user_ids\n",
    "# check if last_interaction/employment is a category\n",
    "# how to clean up the categories in themes"
   ]
  },
  {
   "cell_type": "code",
   "execution_count": 6,
   "metadata": {
    "colab": {
     "base_uri": "https://localhost:8080/"
    },
    "id": "OkQ60N4hKIAs",
    "outputId": "e77a5493-f9ec-4cdf-b289-7532770c7773"
   },
   "outputs": [
    {
     "name": "stdout",
     "output_type": "stream",
     "text": [
      "            user_id  year_of_birth\n",
      "count  6.464000e+03    6419.000000\n",
      "mean   4.062907e+06    1991.909176\n",
      "std    4.760673e+06       5.962645\n",
      "min    5.622500e+04    1945.000000\n",
      "25%    2.272753e+06    1991.000000\n",
      "50%    2.286668e+06    1993.000000\n",
      "75%    2.890747e+06    1995.000000\n",
      "max    2.182853e+07    2002.000000\n"
     ]
    }
   ],
   "source": [
    "print(data.describe())"
   ]
  },
  {
   "cell_type": "markdown",
   "metadata": {
    "id": "kEjDY09YEEsH"
   },
   "source": [
    "The data seems to have some cells filled up with the symbol \"-\", meaning no data was recorded in that cell. This will cause errors later on when we're trying to work with the data. We will replace the \"-\" with NaN to show that there's no data there, then find out how many NaN values we have for each column"
   ]
  },
  {
   "cell_type": "code",
   "execution_count": 7,
   "metadata": {
    "id": "YDJpqzSXT1g3"
   },
   "outputs": [],
   "source": [
    "#change all the dashes (-) to NA\n",
    "new_data = data.replace('-', np.NaN)"
   ]
  },
  {
   "cell_type": "code",
   "execution_count": 8,
   "metadata": {
    "colab": {
     "base_uri": "https://localhost:8080/"
    },
    "id": "-OuptCIbSuvS",
    "outputId": "553264dc-8534-4e03-c43b-3992ae5d0114"
   },
   "outputs": [
    {
     "name": "stdout",
     "output_type": "stream",
     "text": [
      "user_id                            0\n",
      "year_of_birth                     45\n",
      "gender                            31\n",
      "region                           208\n",
      "living_standards_measure        1208\n",
      "highest_education               1122\n",
      "employment                       124\n",
      "internet_access                  587\n",
      "cable_tv_subscription            921\n",
      "survey_completion                  0\n",
      "survey_participation_consent    2072\n",
      "bank_account                    2204\n",
      "bank                            2773\n",
      "last_interaction_with_bank      2803\n",
      "likelihood_to_recommend         2831\n",
      "comment_on_why                  2865\n",
      "themes                          3707\n",
      "start_time(GMT)                    0\n",
      "time_of_last_update(GMT)           0\n",
      "dtype: int64\n",
      "The data has a total of  6464 rows.\n",
      "The data consists of a total of  19 columns.\n"
     ]
    }
   ],
   "source": [
    "#checking number of Null values per column\n",
    "print(new_data.isna().sum())\n",
    "print(\"The data has a total of \", len(new_data), \"rows.\")\n",
    "print(\"The data consists of a total of \", len(new_data.columns), \"columns.\")"
   ]
  },
  {
   "cell_type": "markdown",
   "metadata": {
    "id": "zog17pB3EgnF"
   },
   "source": [
    "The table above shows the number of NaN cells in each column. The only columns that don't have missing data are  `user_id`, `time_of_last_update(GMT)` and `time_of_last_update`.\n",
    "\n",
    "The data consists of **6464** rows of data with a total of **19** columns "
   ]
  },
  {
   "cell_type": "markdown",
   "metadata": {
    "id": "Hr7JqSjBGIFo"
   },
   "source": [
    "Next, we identify the datatypes of each column and assign correct datatypes and format.\n",
    "\n"
   ]
  },
  {
   "cell_type": "code",
   "execution_count": 9,
   "metadata": {
    "colab": {
     "base_uri": "https://localhost:8080/"
    },
    "id": "FYeUQaHkUn17",
    "outputId": "3b4876d7-9fe0-45a4-a7a2-b5eb83472643"
   },
   "outputs": [
    {
     "name": "stdout",
     "output_type": "stream",
     "text": [
      "user_id                           int64\n",
      "year_of_birth                   float64\n",
      "gender                           object\n",
      "region                           object\n",
      "living_standards_measure         object\n",
      "highest_education                object\n",
      "employment                       object\n",
      "internet_access                  object\n",
      "cable_tv_subscription            object\n",
      "survey_completion                object\n",
      "survey_participation_consent     object\n",
      "bank_account                     object\n",
      "bank                             object\n",
      "last_interaction_with_bank       object\n",
      "likelihood_to_recommend          object\n",
      "comment_on_why                   object\n",
      "themes                           object\n",
      "start_time(GMT)                  object\n",
      "time_of_last_update(GMT)         object\n",
      "dtype: object\n"
     ]
    }
   ],
   "source": [
    "#checking the datatypes of the columns\n",
    "print(new_data.dtypes)"
   ]
  },
  {
   "cell_type": "markdown",
   "metadata": {
    "id": "QWIxfFvVGNnX"
   },
   "source": [
    "From the above, most columns are identified as objects which are basically strings but columns `year_of_birth`, `likelihood_to_recommend`, `start_time(GMT)`, `time_of_last_update(GMT)` have been assigned wong datatypes. The following steps were taken to chang them accordingly."
   ]
  },
  {
   "cell_type": "code",
   "execution_count": 10,
   "metadata": {
    "id": "_MBmEb51Rhh9"
   },
   "outputs": [],
   "source": [
    "new_data['user_id'] = new_data['user_id'].astype(str)"
   ]
  },
  {
   "cell_type": "code",
   "execution_count": 11,
   "metadata": {
    "colab": {
     "base_uri": "https://localhost:8080/"
    },
    "id": "1KN4IQFoVK7Y",
    "outputId": "e2e82403-3663-4b1a-84db-3a572cb7ec84"
   },
   "outputs": [
    {
     "data": {
      "text/plain": [
       "dtype('O')"
      ]
     },
     "execution_count": 11,
     "metadata": {
      "tags": []
     },
     "output_type": "execute_result"
    }
   ],
   "source": [
    "new_data['year_of_birth'] = new_data['year_of_birth'].astype('Int64').astype(str)\n",
    "new_data['year_of_birth'].dtypes"
   ]
  },
  {
   "cell_type": "code",
   "execution_count": 12,
   "metadata": {
    "colab": {
     "base_uri": "https://localhost:8080/"
    },
    "id": "NKqwqgYOZXwQ",
    "outputId": "10ba4186-1627-461f-944e-a6c9f5cf76e9"
   },
   "outputs": [
    {
     "data": {
      "text/plain": [
       "Int64Dtype()"
      ]
     },
     "execution_count": 12,
     "metadata": {
      "tags": []
     },
     "output_type": "execute_result"
    }
   ],
   "source": [
    "new_data['likelihood_to_recommend'] = new_data['likelihood_to_recommend'].astype('float').astype('Int64')\n",
    "new_data['likelihood_to_recommend'].dtypes"
   ]
  },
  {
   "cell_type": "code",
   "execution_count": 13,
   "metadata": {
    "id": "lvisF_pJH1OO"
   },
   "outputs": [],
   "source": [
    "import re\n",
    "\n",
    "def fix_date(column):\n",
    "  column = column.str.replace(r'.', r':')\n",
    "  return column\n",
    "\n",
    "\n",
    "new_data['start_time(GMT)'] = fix_date(new_data['start_time(GMT)'])\n",
    "new_data['time_of_last_update(GMT)'] = fix_date(new_data['time_of_last_update(GMT)'])"
   ]
  },
  {
   "cell_type": "code",
   "execution_count": 14,
   "metadata": {
    "colab": {
     "base_uri": "https://localhost:8080/"
    },
    "id": "cc3MzzRLH510",
    "outputId": "fee3cd17-e0aa-4302-a52f-70ea706380a8"
   },
   "outputs": [
    {
     "data": {
      "text/plain": [
       "user_id                         object\n",
       "year_of_birth                   object\n",
       "gender                          object\n",
       "region                          object\n",
       "living_standards_measure        object\n",
       "highest_education               object\n",
       "employment                      object\n",
       "internet_access                 object\n",
       "cable_tv_subscription           object\n",
       "survey_completion               object\n",
       "survey_participation_consent    object\n",
       "bank_account                    object\n",
       "bank                            object\n",
       "last_interaction_with_bank      object\n",
       "likelihood_to_recommend          Int64\n",
       "comment_on_why                  object\n",
       "themes                          object\n",
       "start_time(GMT)                 object\n",
       "time_of_last_update(GMT)        object\n",
       "dtype: object"
      ]
     },
     "execution_count": 14,
     "metadata": {
      "tags": []
     },
     "output_type": "execute_result"
    }
   ],
   "source": [
    "new_data.dtypes"
   ]
  },
  {
   "cell_type": "markdown",
   "metadata": {
    "id": "L7LCGWJHIHOC"
   },
   "source": [
    "Net, we perform a few more data explorations to identify information in the data that might be useful."
   ]
  },
  {
   "cell_type": "code",
   "execution_count": 15,
   "metadata": {
    "colab": {
     "base_uri": "https://localhost:8080/"
    },
    "id": "w3kC-UjDKcuT",
    "outputId": "3f415f69-8093-42c3-e430-0a10b5a38487"
   },
   "outputs": [
    {
     "data": {
      "text/plain": [
       "6454"
      ]
     },
     "execution_count": 15,
     "metadata": {
      "tags": []
     },
     "output_type": "execute_result"
    }
   ],
   "source": [
    "#checking number of unique Id's\n",
    "data['user_id'].nunique()"
   ]
  },
  {
   "cell_type": "markdown",
   "metadata": {
    "id": "2NZIBynpITD1"
   },
   "source": [
    "The data has **6454** unique user id's. Meaning there are **10** user id's that have been duplicated. Let's explore the user_id's with duplicates"
   ]
  },
  {
   "cell_type": "code",
   "execution_count": 16,
   "metadata": {
    "colab": {
     "base_uri": "https://localhost:8080/",
     "height": 696
    },
    "id": "Yjg30NTIaCm7",
    "outputId": "ceaaa1bf-d1ae-4f31-f573-427ba995911e"
   },
   "outputs": [
    {
     "data": {
      "text/html": [
       "<div>\n",
       "<style scoped>\n",
       "    .dataframe tbody tr th:only-of-type {\n",
       "        vertical-align: middle;\n",
       "    }\n",
       "\n",
       "    .dataframe tbody tr th {\n",
       "        vertical-align: top;\n",
       "    }\n",
       "\n",
       "    .dataframe thead th {\n",
       "        text-align: right;\n",
       "    }\n",
       "</style>\n",
       "<table border=\"1\" class=\"dataframe\">\n",
       "  <thead>\n",
       "    <tr style=\"text-align: right;\">\n",
       "      <th></th>\n",
       "      <th>user_id</th>\n",
       "      <th>year_of_birth</th>\n",
       "      <th>gender</th>\n",
       "      <th>region</th>\n",
       "      <th>living_standards_measure</th>\n",
       "      <th>highest_education</th>\n",
       "      <th>employment</th>\n",
       "      <th>internet_access</th>\n",
       "      <th>cable_tv_subscription</th>\n",
       "      <th>survey_completion</th>\n",
       "      <th>survey_participation_consent</th>\n",
       "      <th>bank_account</th>\n",
       "      <th>bank</th>\n",
       "      <th>last_interaction_with_bank</th>\n",
       "      <th>likelihood_to_recommend</th>\n",
       "      <th>comment_on_why</th>\n",
       "      <th>themes</th>\n",
       "      <th>start_time(GMT)</th>\n",
       "      <th>time_of_last_update(GMT)</th>\n",
       "    </tr>\n",
       "  </thead>\n",
       "  <tbody>\n",
       "    <tr>\n",
       "      <th>4176</th>\n",
       "      <td>2285581</td>\n",
       "      <td>1985</td>\n",
       "      <td>Male</td>\n",
       "      <td>eastern</td>\n",
       "      <td>9 to 12</td>\n",
       "      <td>Some University</td>\n",
       "      <td>Student</td>\n",
       "      <td>Yes</td>\n",
       "      <td>No</td>\n",
       "      <td>FINISHED</td>\n",
       "      <td>YES</td>\n",
       "      <td>Yes</td>\n",
       "      <td>KCB</td>\n",
       "      <td>Mobile banking</td>\n",
       "      <td>9</td>\n",
       "      <td>Customers Relations Is Good And Its Effeciency</td>\n",
       "      <td>speed/efficiency</td>\n",
       "      <td>00:06:5</td>\n",
       "      <td>53:09:2</td>\n",
       "    </tr>\n",
       "    <tr>\n",
       "      <th>4222</th>\n",
       "      <td>63541</td>\n",
       "      <td>1989</td>\n",
       "      <td>Male</td>\n",
       "      <td>nairobi</td>\n",
       "      <td>13 to 17</td>\n",
       "      <td>Completed PostGrad</td>\n",
       "      <td>Skilled worker</td>\n",
       "      <td>Yes</td>\n",
       "      <td>Yes</td>\n",
       "      <td>FINISHED</td>\n",
       "      <td>YES</td>\n",
       "      <td>Yes</td>\n",
       "      <td>CBA</td>\n",
       "      <td>Mobile banking</td>\n",
       "      <td>9</td>\n",
       "      <td>Seamless mobile banking solution</td>\n",
       "      <td>accessibility,mobile_banking</td>\n",
       "      <td>51:13:9</td>\n",
       "      <td>52:09:9</td>\n",
       "    </tr>\n",
       "    <tr>\n",
       "      <th>4694</th>\n",
       "      <td>5563784</td>\n",
       "      <td>1985</td>\n",
       "      <td>Female</td>\n",
       "      <td>nairobi</td>\n",
       "      <td>9 to 12</td>\n",
       "      <td>Completed Uni</td>\n",
       "      <td>Skilled worker</td>\n",
       "      <td>No</td>\n",
       "      <td>No</td>\n",
       "      <td>FINISHED</td>\n",
       "      <td>YES</td>\n",
       "      <td>Yes</td>\n",
       "      <td>KCB</td>\n",
       "      <td>Mobile banking</td>\n",
       "      <td>8</td>\n",
       "      <td>Great service, though unavailable at 5pm for a...</td>\n",
       "      <td>accessibility,mobile_banking,rates/charges,ser...</td>\n",
       "      <td>55:37:7</td>\n",
       "      <td>08:50:2</td>\n",
       "    </tr>\n",
       "    <tr>\n",
       "      <th>4733</th>\n",
       "      <td>742088</td>\n",
       "      <td>&lt;NA&gt;</td>\n",
       "      <td>NaN</td>\n",
       "      <td>NaN</td>\n",
       "      <td>NaN</td>\n",
       "      <td>NaN</td>\n",
       "      <td>NaN</td>\n",
       "      <td>NaN</td>\n",
       "      <td>NaN</td>\n",
       "      <td>FINISHED</td>\n",
       "      <td>YES</td>\n",
       "      <td>Yes</td>\n",
       "      <td>Equity</td>\n",
       "      <td>Mobile banking</td>\n",
       "      <td>5</td>\n",
       "      <td>It doesn''t work sometimes</td>\n",
       "      <td>NaN</td>\n",
       "      <td>22:07:9</td>\n",
       "      <td>24:48:9</td>\n",
       "    </tr>\n",
       "    <tr>\n",
       "      <th>4734</th>\n",
       "      <td>2567916</td>\n",
       "      <td>1989</td>\n",
       "      <td>Female</td>\n",
       "      <td>nairobi</td>\n",
       "      <td>13 to 17</td>\n",
       "      <td>Completed PostGrad</td>\n",
       "      <td>Skilled worker</td>\n",
       "      <td>Yes</td>\n",
       "      <td>Yes</td>\n",
       "      <td>FINISHED</td>\n",
       "      <td>YES</td>\n",
       "      <td>Yes</td>\n",
       "      <td>Co-operative</td>\n",
       "      <td>Mobile banking</td>\n",
       "      <td>8</td>\n",
       "      <td>Good service</td>\n",
       "      <td>service</td>\n",
       "      <td>52:13:2</td>\n",
       "      <td>55:40:7</td>\n",
       "    </tr>\n",
       "    <tr>\n",
       "      <th>4824</th>\n",
       "      <td>5748191</td>\n",
       "      <td>1994</td>\n",
       "      <td>Female</td>\n",
       "      <td>nyanza</td>\n",
       "      <td>5 to 8</td>\n",
       "      <td>Completed Secondary</td>\n",
       "      <td>Other/Unemployed</td>\n",
       "      <td>Yes</td>\n",
       "      <td>No</td>\n",
       "      <td>FINISHED</td>\n",
       "      <td>YES</td>\n",
       "      <td>Yes</td>\n",
       "      <td>KCB</td>\n",
       "      <td>Teller or Branch transactions</td>\n",
       "      <td>4</td>\n",
       "      <td>It Is Convinient</td>\n",
       "      <td>resolved</td>\n",
       "      <td>00:02:8</td>\n",
       "      <td>25:14:4</td>\n",
       "    </tr>\n",
       "    <tr>\n",
       "      <th>5408</th>\n",
       "      <td>8929280</td>\n",
       "      <td>&lt;NA&gt;</td>\n",
       "      <td>NaN</td>\n",
       "      <td>NaN</td>\n",
       "      <td>NaN</td>\n",
       "      <td>NaN</td>\n",
       "      <td>NaN</td>\n",
       "      <td>NaN</td>\n",
       "      <td>NaN</td>\n",
       "      <td>FINISHED</td>\n",
       "      <td>YES</td>\n",
       "      <td>Yes</td>\n",
       "      <td>KCB</td>\n",
       "      <td>Mobile banking</td>\n",
       "      <td>8</td>\n",
       "      <td>okay</td>\n",
       "      <td>NaN</td>\n",
       "      <td>12:14:4</td>\n",
       "      <td>13:18:5</td>\n",
       "    </tr>\n",
       "    <tr>\n",
       "      <th>5437</th>\n",
       "      <td>2567916</td>\n",
       "      <td>1989</td>\n",
       "      <td>Female</td>\n",
       "      <td>nairobi</td>\n",
       "      <td>13 to 17</td>\n",
       "      <td>Completed PostGrad</td>\n",
       "      <td>Skilled worker</td>\n",
       "      <td>Yes</td>\n",
       "      <td>Yes</td>\n",
       "      <td>FINISHED</td>\n",
       "      <td>YES</td>\n",
       "      <td>Yes</td>\n",
       "      <td>Standard Chartered</td>\n",
       "      <td>Mobile banking</td>\n",
       "      <td>6</td>\n",
       "      <td>Navigation of the app isn''t straightforward =%</td>\n",
       "      <td>mobile_banking</td>\n",
       "      <td>39:01:8</td>\n",
       "      <td>41:26:1</td>\n",
       "    </tr>\n",
       "    <tr>\n",
       "      <th>5599</th>\n",
       "      <td>2264403</td>\n",
       "      <td>1992</td>\n",
       "      <td>Male</td>\n",
       "      <td>riftvalley</td>\n",
       "      <td>9 to 12</td>\n",
       "      <td>Completed University</td>\n",
       "      <td>Non-skilled worker</td>\n",
       "      <td>Yes</td>\n",
       "      <td>No</td>\n",
       "      <td>FINISHED</td>\n",
       "      <td>YES</td>\n",
       "      <td>Yes</td>\n",
       "      <td>Equity</td>\n",
       "      <td>Mobile banking</td>\n",
       "      <td>9</td>\n",
       "      <td>Affordable banking services and good customer ...</td>\n",
       "      <td>affordability</td>\n",
       "      <td>00:03:7</td>\n",
       "      <td>05:19:3</td>\n",
       "    </tr>\n",
       "    <tr>\n",
       "      <th>6395</th>\n",
       "      <td>2265203</td>\n",
       "      <td>1985</td>\n",
       "      <td>Male</td>\n",
       "      <td>riftvalley</td>\n",
       "      <td>9 to 12</td>\n",
       "      <td>Completed Uni</td>\n",
       "      <td>Skilled worker</td>\n",
       "      <td>Yes</td>\n",
       "      <td>Yes</td>\n",
       "      <td>FINISHED</td>\n",
       "      <td>YES</td>\n",
       "      <td>Yes</td>\n",
       "      <td>Co-operative</td>\n",
       "      <td>Mobile banking</td>\n",
       "      <td>8</td>\n",
       "      <td>Efficient</td>\n",
       "      <td>speed/efficiency</td>\n",
       "      <td>00:04:7</td>\n",
       "      <td>55:56:9</td>\n",
       "    </tr>\n",
       "  </tbody>\n",
       "</table>\n",
       "</div>"
      ],
      "text/plain": [
       "      user_id year_of_birth  gender      region living_standards_measure  \\\n",
       "4176  2285581          1985    Male     eastern                  9 to 12   \n",
       "4222    63541          1989    Male     nairobi                 13 to 17   \n",
       "4694  5563784          1985  Female     nairobi                  9 to 12   \n",
       "4733   742088          <NA>     NaN         NaN                      NaN   \n",
       "4734  2567916          1989  Female     nairobi                 13 to 17   \n",
       "4824  5748191          1994  Female      nyanza                   5 to 8   \n",
       "5408  8929280          <NA>     NaN         NaN                      NaN   \n",
       "5437  2567916          1989  Female     nairobi                 13 to 17   \n",
       "5599  2264403          1992    Male  riftvalley                  9 to 12   \n",
       "6395  2265203          1985    Male  riftvalley                  9 to 12   \n",
       "\n",
       "         highest_education          employment internet_access  \\\n",
       "4176       Some University             Student             Yes   \n",
       "4222    Completed PostGrad      Skilled worker             Yes   \n",
       "4694         Completed Uni      Skilled worker              No   \n",
       "4733                   NaN                 NaN             NaN   \n",
       "4734    Completed PostGrad      Skilled worker             Yes   \n",
       "4824   Completed Secondary    Other/Unemployed             Yes   \n",
       "5408                   NaN                 NaN             NaN   \n",
       "5437    Completed PostGrad      Skilled worker             Yes   \n",
       "5599  Completed University  Non-skilled worker             Yes   \n",
       "6395         Completed Uni      Skilled worker             Yes   \n",
       "\n",
       "     cable_tv_subscription survey_completion survey_participation_consent  \\\n",
       "4176                    No          FINISHED                          YES   \n",
       "4222                   Yes          FINISHED                          YES   \n",
       "4694                    No          FINISHED                          YES   \n",
       "4733                   NaN          FINISHED                          YES   \n",
       "4734                   Yes          FINISHED                          YES   \n",
       "4824                    No          FINISHED                          YES   \n",
       "5408                   NaN          FINISHED                          YES   \n",
       "5437                   Yes          FINISHED                          YES   \n",
       "5599                    No          FINISHED                          YES   \n",
       "6395                   Yes          FINISHED                          YES   \n",
       "\n",
       "     bank_account                bank     last_interaction_with_bank  \\\n",
       "4176          Yes                 KCB                 Mobile banking   \n",
       "4222          Yes                 CBA                 Mobile banking   \n",
       "4694          Yes                 KCB                 Mobile banking   \n",
       "4733          Yes              Equity                 Mobile banking   \n",
       "4734          Yes        Co-operative                 Mobile banking   \n",
       "4824          Yes                 KCB  Teller or Branch transactions   \n",
       "5408          Yes                 KCB                 Mobile banking   \n",
       "5437          Yes  Standard Chartered                 Mobile banking   \n",
       "5599          Yes              Equity                 Mobile banking   \n",
       "6395          Yes        Co-operative                 Mobile banking   \n",
       "\n",
       "      likelihood_to_recommend  \\\n",
       "4176                        9   \n",
       "4222                        9   \n",
       "4694                        8   \n",
       "4733                        5   \n",
       "4734                        8   \n",
       "4824                        4   \n",
       "5408                        8   \n",
       "5437                        6   \n",
       "5599                        9   \n",
       "6395                        8   \n",
       "\n",
       "                                         comment_on_why  \\\n",
       "4176     Customers Relations Is Good And Its Effeciency   \n",
       "4222                   Seamless mobile banking solution   \n",
       "4694  Great service, though unavailable at 5pm for a...   \n",
       "4733                         It doesn''t work sometimes   \n",
       "4734                                       Good service   \n",
       "4824                                   It Is Convinient   \n",
       "5408                                               okay   \n",
       "5437    Navigation of the app isn''t straightforward =%   \n",
       "5599  Affordable banking services and good customer ...   \n",
       "6395                                          Efficient   \n",
       "\n",
       "                                                 themes start_time(GMT)  \\\n",
       "4176                                   speed/efficiency         00:06:5   \n",
       "4222                       accessibility,mobile_banking         51:13:9   \n",
       "4694  accessibility,mobile_banking,rates/charges,ser...         55:37:7   \n",
       "4733                                                NaN         22:07:9   \n",
       "4734                                            service         52:13:2   \n",
       "4824                                           resolved         00:02:8   \n",
       "5408                                                NaN         12:14:4   \n",
       "5437                                     mobile_banking         39:01:8   \n",
       "5599                                      affordability         00:03:7   \n",
       "6395                                   speed/efficiency         00:04:7   \n",
       "\n",
       "     time_of_last_update(GMT)  \n",
       "4176                  53:09:2  \n",
       "4222                  52:09:9  \n",
       "4694                  08:50:2  \n",
       "4733                  24:48:9  \n",
       "4734                  55:40:7  \n",
       "4824                  25:14:4  \n",
       "5408                  13:18:5  \n",
       "5437                  41:26:1  \n",
       "5599                  05:19:3  \n",
       "6395                  55:56:9  "
      ]
     },
     "execution_count": 16,
     "metadata": {
      "tags": []
     },
     "output_type": "execute_result"
    }
   ],
   "source": [
    "# find duplicated Id's\n",
    "new_data[new_data.duplicated(['user_id'], keep='first')]\n"
   ]
  },
  {
   "cell_type": "code",
   "execution_count": 17,
   "metadata": {
    "colab": {
     "base_uri": "https://localhost:8080/",
     "height": 678
    },
    "id": "-IziPWsLNEfT",
    "outputId": "f88af8cd-7b3d-40a2-abef-33b702f37168"
   },
   "outputs": [
    {
     "data": {
      "text/html": [
       "<div>\n",
       "<style scoped>\n",
       "    .dataframe tbody tr th:only-of-type {\n",
       "        vertical-align: middle;\n",
       "    }\n",
       "\n",
       "    .dataframe tbody tr th {\n",
       "        vertical-align: top;\n",
       "    }\n",
       "\n",
       "    .dataframe thead th {\n",
       "        text-align: right;\n",
       "    }\n",
       "</style>\n",
       "<table border=\"1\" class=\"dataframe\">\n",
       "  <thead>\n",
       "    <tr style=\"text-align: right;\">\n",
       "      <th></th>\n",
       "      <th>user_id</th>\n",
       "      <th>year_of_birth</th>\n",
       "      <th>gender</th>\n",
       "      <th>region</th>\n",
       "      <th>living_standards_measure</th>\n",
       "      <th>highest_education</th>\n",
       "      <th>employment</th>\n",
       "      <th>internet_access</th>\n",
       "      <th>cable_tv_subscription</th>\n",
       "      <th>survey_completion</th>\n",
       "      <th>survey_participation_consent</th>\n",
       "      <th>bank_account</th>\n",
       "      <th>bank</th>\n",
       "      <th>last_interaction_with_bank</th>\n",
       "      <th>likelihood_to_recommend</th>\n",
       "      <th>comment_on_why</th>\n",
       "      <th>themes</th>\n",
       "      <th>start_time(GMT)</th>\n",
       "      <th>time_of_last_update(GMT)</th>\n",
       "    </tr>\n",
       "  </thead>\n",
       "  <tbody>\n",
       "    <tr>\n",
       "      <th>4134</th>\n",
       "      <td>63541</td>\n",
       "      <td>1989</td>\n",
       "      <td>Male</td>\n",
       "      <td>nairobi</td>\n",
       "      <td>13 to 17</td>\n",
       "      <td>Completed PostGrad</td>\n",
       "      <td>Skilled worker</td>\n",
       "      <td>Yes</td>\n",
       "      <td>Yes</td>\n",
       "      <td>FINISHED</td>\n",
       "      <td>YES</td>\n",
       "      <td>Yes</td>\n",
       "      <td>CBA</td>\n",
       "      <td>Mobile banking</td>\n",
       "      <td>9</td>\n",
       "      <td>Very efficient and straightforward. Love the App</td>\n",
       "      <td>mobile_banking,speed/efficiency</td>\n",
       "      <td>00:05:4</td>\n",
       "      <td>29:13:7</td>\n",
       "    </tr>\n",
       "    <tr>\n",
       "      <th>4175</th>\n",
       "      <td>2285581</td>\n",
       "      <td>1985</td>\n",
       "      <td>Male</td>\n",
       "      <td>eastern</td>\n",
       "      <td>9 to 12</td>\n",
       "      <td>Some University</td>\n",
       "      <td>Student</td>\n",
       "      <td>Yes</td>\n",
       "      <td>No</td>\n",
       "      <td>FINISHED</td>\n",
       "      <td>YES</td>\n",
       "      <td>Yes</td>\n",
       "      <td>KCB</td>\n",
       "      <td>Mobile banking</td>\n",
       "      <td>9</td>\n",
       "      <td>Customers Relations Is Good And Its Effeciency</td>\n",
       "      <td>service</td>\n",
       "      <td>00:06:5</td>\n",
       "      <td>53:09:2</td>\n",
       "    </tr>\n",
       "    <tr>\n",
       "      <th>4201</th>\n",
       "      <td>5563784</td>\n",
       "      <td>1985</td>\n",
       "      <td>Female</td>\n",
       "      <td>nairobi</td>\n",
       "      <td>9 to 12</td>\n",
       "      <td>Completed Uni</td>\n",
       "      <td>Skilled worker</td>\n",
       "      <td>No</td>\n",
       "      <td>No</td>\n",
       "      <td>FINISHED</td>\n",
       "      <td>YES</td>\n",
       "      <td>Yes</td>\n",
       "      <td>KCB</td>\n",
       "      <td>Mobile banking</td>\n",
       "      <td>10</td>\n",
       "      <td>Test</td>\n",
       "      <td>NaN</td>\n",
       "      <td>29:13:4</td>\n",
       "      <td>47:53:5</td>\n",
       "    </tr>\n",
       "    <tr>\n",
       "      <th>4202</th>\n",
       "      <td>2567916</td>\n",
       "      <td>1989</td>\n",
       "      <td>Female</td>\n",
       "      <td>nairobi</td>\n",
       "      <td>13 to 17</td>\n",
       "      <td>Completed PostGrad</td>\n",
       "      <td>Skilled worker</td>\n",
       "      <td>Yes</td>\n",
       "      <td>Yes</td>\n",
       "      <td>FINISHED</td>\n",
       "      <td>YES</td>\n",
       "      <td>Yes</td>\n",
       "      <td>Standard Chartered</td>\n",
       "      <td>ATM</td>\n",
       "      <td>7</td>\n",
       "      <td>The atms are well maintained but they should b...</td>\n",
       "      <td>atm</td>\n",
       "      <td>29:27:4</td>\n",
       "      <td>33:50:0</td>\n",
       "    </tr>\n",
       "    <tr>\n",
       "      <th>4220</th>\n",
       "      <td>742088</td>\n",
       "      <td>&lt;NA&gt;</td>\n",
       "      <td>NaN</td>\n",
       "      <td>NaN</td>\n",
       "      <td>NaN</td>\n",
       "      <td>NaN</td>\n",
       "      <td>NaN</td>\n",
       "      <td>NaN</td>\n",
       "      <td>NaN</td>\n",
       "      <td>FINISHED</td>\n",
       "      <td>YES</td>\n",
       "      <td>Yes</td>\n",
       "      <td>Equity</td>\n",
       "      <td>ATM</td>\n",
       "      <td>10</td>\n",
       "      <td>Test</td>\n",
       "      <td>NaN</td>\n",
       "      <td>42:41:0</td>\n",
       "      <td>44:10:5</td>\n",
       "    </tr>\n",
       "    <tr>\n",
       "      <th>4223</th>\n",
       "      <td>8929280</td>\n",
       "      <td>&lt;NA&gt;</td>\n",
       "      <td>NaN</td>\n",
       "      <td>NaN</td>\n",
       "      <td>NaN</td>\n",
       "      <td>NaN</td>\n",
       "      <td>NaN</td>\n",
       "      <td>NaN</td>\n",
       "      <td>NaN</td>\n",
       "      <td>FINISHED</td>\n",
       "      <td>YES</td>\n",
       "      <td>Yes</td>\n",
       "      <td>KCB</td>\n",
       "      <td>Mobile banking</td>\n",
       "      <td>8</td>\n",
       "      <td>Mostly good; customer care could improve.</td>\n",
       "      <td>service</td>\n",
       "      <td>22:04:8</td>\n",
       "      <td>23:21:5</td>\n",
       "    </tr>\n",
       "    <tr>\n",
       "      <th>4734</th>\n",
       "      <td>2567916</td>\n",
       "      <td>1989</td>\n",
       "      <td>Female</td>\n",
       "      <td>nairobi</td>\n",
       "      <td>13 to 17</td>\n",
       "      <td>Completed PostGrad</td>\n",
       "      <td>Skilled worker</td>\n",
       "      <td>Yes</td>\n",
       "      <td>Yes</td>\n",
       "      <td>FINISHED</td>\n",
       "      <td>YES</td>\n",
       "      <td>Yes</td>\n",
       "      <td>Co-operative</td>\n",
       "      <td>Mobile banking</td>\n",
       "      <td>8</td>\n",
       "      <td>Good service</td>\n",
       "      <td>service</td>\n",
       "      <td>52:13:2</td>\n",
       "      <td>55:40:7</td>\n",
       "    </tr>\n",
       "    <tr>\n",
       "      <th>4823</th>\n",
       "      <td>5748191</td>\n",
       "      <td>1994</td>\n",
       "      <td>Female</td>\n",
       "      <td>nyanza</td>\n",
       "      <td>5 to 8</td>\n",
       "      <td>Completed Secondary</td>\n",
       "      <td>Other/Unemployed</td>\n",
       "      <td>Yes</td>\n",
       "      <td>No</td>\n",
       "      <td>FINISHED</td>\n",
       "      <td>YES</td>\n",
       "      <td>Yes</td>\n",
       "      <td>KCB</td>\n",
       "      <td>Teller or Branch transactions</td>\n",
       "      <td>4</td>\n",
       "      <td>It Is Convinient</td>\n",
       "      <td>accessibility</td>\n",
       "      <td>00:02:8</td>\n",
       "      <td>25:14:4</td>\n",
       "    </tr>\n",
       "    <tr>\n",
       "      <th>5598</th>\n",
       "      <td>2264403</td>\n",
       "      <td>1992</td>\n",
       "      <td>Male</td>\n",
       "      <td>riftvalley</td>\n",
       "      <td>9 to 12</td>\n",
       "      <td>Completed University</td>\n",
       "      <td>Non-skilled worker</td>\n",
       "      <td>Yes</td>\n",
       "      <td>No</td>\n",
       "      <td>FINISHED</td>\n",
       "      <td>YES</td>\n",
       "      <td>Yes</td>\n",
       "      <td>Equity</td>\n",
       "      <td>Mobile banking</td>\n",
       "      <td>9</td>\n",
       "      <td>Affordable banking services and good customer ...</td>\n",
       "      <td>accessibility,rates/charges,service</td>\n",
       "      <td>00:03:7</td>\n",
       "      <td>05:19:3</td>\n",
       "    </tr>\n",
       "    <tr>\n",
       "      <th>6394</th>\n",
       "      <td>2265203</td>\n",
       "      <td>1985</td>\n",
       "      <td>Male</td>\n",
       "      <td>riftvalley</td>\n",
       "      <td>9 to 12</td>\n",
       "      <td>Completed Uni</td>\n",
       "      <td>Skilled worker</td>\n",
       "      <td>Yes</td>\n",
       "      <td>Yes</td>\n",
       "      <td>FINISHED</td>\n",
       "      <td>YES</td>\n",
       "      <td>Yes</td>\n",
       "      <td>Co-operative</td>\n",
       "      <td>Mobile banking</td>\n",
       "      <td>8</td>\n",
       "      <td>Efficient</td>\n",
       "      <td>new product</td>\n",
       "      <td>00:04:7</td>\n",
       "      <td>55:56:9</td>\n",
       "    </tr>\n",
       "  </tbody>\n",
       "</table>\n",
       "</div>"
      ],
      "text/plain": [
       "      user_id year_of_birth  gender      region living_standards_measure  \\\n",
       "4134    63541          1989    Male     nairobi                 13 to 17   \n",
       "4175  2285581          1985    Male     eastern                  9 to 12   \n",
       "4201  5563784          1985  Female     nairobi                  9 to 12   \n",
       "4202  2567916          1989  Female     nairobi                 13 to 17   \n",
       "4220   742088          <NA>     NaN         NaN                      NaN   \n",
       "4223  8929280          <NA>     NaN         NaN                      NaN   \n",
       "4734  2567916          1989  Female     nairobi                 13 to 17   \n",
       "4823  5748191          1994  Female      nyanza                   5 to 8   \n",
       "5598  2264403          1992    Male  riftvalley                  9 to 12   \n",
       "6394  2265203          1985    Male  riftvalley                  9 to 12   \n",
       "\n",
       "         highest_education          employment internet_access  \\\n",
       "4134    Completed PostGrad      Skilled worker             Yes   \n",
       "4175       Some University             Student             Yes   \n",
       "4201         Completed Uni      Skilled worker              No   \n",
       "4202    Completed PostGrad      Skilled worker             Yes   \n",
       "4220                   NaN                 NaN             NaN   \n",
       "4223                   NaN                 NaN             NaN   \n",
       "4734    Completed PostGrad      Skilled worker             Yes   \n",
       "4823   Completed Secondary    Other/Unemployed             Yes   \n",
       "5598  Completed University  Non-skilled worker             Yes   \n",
       "6394         Completed Uni      Skilled worker             Yes   \n",
       "\n",
       "     cable_tv_subscription survey_completion survey_participation_consent  \\\n",
       "4134                   Yes          FINISHED                          YES   \n",
       "4175                    No          FINISHED                          YES   \n",
       "4201                    No          FINISHED                          YES   \n",
       "4202                   Yes          FINISHED                          YES   \n",
       "4220                   NaN          FINISHED                          YES   \n",
       "4223                   NaN          FINISHED                          YES   \n",
       "4734                   Yes          FINISHED                          YES   \n",
       "4823                    No          FINISHED                          YES   \n",
       "5598                    No          FINISHED                          YES   \n",
       "6394                   Yes          FINISHED                          YES   \n",
       "\n",
       "     bank_account                bank     last_interaction_with_bank  \\\n",
       "4134          Yes                 CBA                 Mobile banking   \n",
       "4175          Yes                 KCB                 Mobile banking   \n",
       "4201          Yes                 KCB                 Mobile banking   \n",
       "4202          Yes  Standard Chartered                            ATM   \n",
       "4220          Yes              Equity                            ATM   \n",
       "4223          Yes                 KCB                 Mobile banking   \n",
       "4734          Yes        Co-operative                 Mobile banking   \n",
       "4823          Yes                 KCB  Teller or Branch transactions   \n",
       "5598          Yes              Equity                 Mobile banking   \n",
       "6394          Yes        Co-operative                 Mobile banking   \n",
       "\n",
       "      likelihood_to_recommend  \\\n",
       "4134                        9   \n",
       "4175                        9   \n",
       "4201                       10   \n",
       "4202                        7   \n",
       "4220                       10   \n",
       "4223                        8   \n",
       "4734                        8   \n",
       "4823                        4   \n",
       "5598                        9   \n",
       "6394                        8   \n",
       "\n",
       "                                         comment_on_why  \\\n",
       "4134   Very efficient and straightforward. Love the App   \n",
       "4175     Customers Relations Is Good And Its Effeciency   \n",
       "4201                                               Test   \n",
       "4202  The atms are well maintained but they should b...   \n",
       "4220                                               Test   \n",
       "4223          Mostly good; customer care could improve.   \n",
       "4734                                       Good service   \n",
       "4823                                   It Is Convinient   \n",
       "5598  Affordable banking services and good customer ...   \n",
       "6394                                          Efficient   \n",
       "\n",
       "                                   themes start_time(GMT)  \\\n",
       "4134      mobile_banking,speed/efficiency         00:05:4   \n",
       "4175                              service         00:06:5   \n",
       "4201                                  NaN         29:13:4   \n",
       "4202                                  atm         29:27:4   \n",
       "4220                                  NaN         42:41:0   \n",
       "4223                              service         22:04:8   \n",
       "4734                              service         52:13:2   \n",
       "4823                        accessibility         00:02:8   \n",
       "5598  accessibility,rates/charges,service         00:03:7   \n",
       "6394                          new product         00:04:7   \n",
       "\n",
       "     time_of_last_update(GMT)  \n",
       "4134                  29:13:7  \n",
       "4175                  53:09:2  \n",
       "4201                  47:53:5  \n",
       "4202                  33:50:0  \n",
       "4220                  44:10:5  \n",
       "4223                  23:21:5  \n",
       "4734                  55:40:7  \n",
       "4823                  25:14:4  \n",
       "5598                  05:19:3  \n",
       "6394                  55:56:9  "
      ]
     },
     "execution_count": 17,
     "metadata": {
      "tags": []
     },
     "output_type": "execute_result"
    }
   ],
   "source": [
    "new_data[new_data.duplicated(['user_id'], keep='last')]"
   ]
  },
  {
   "cell_type": "code",
   "execution_count": 18,
   "metadata": {
    "colab": {
     "base_uri": "https://localhost:8080/",
     "height": 69
    },
    "id": "UNiboV70IzIG",
    "outputId": "59c86725-a27b-457c-f5e2-7d6835cd0c54"
   },
   "outputs": [
    {
     "data": {
      "text/html": [
       "<div>\n",
       "<style scoped>\n",
       "    .dataframe tbody tr th:only-of-type {\n",
       "        vertical-align: middle;\n",
       "    }\n",
       "\n",
       "    .dataframe tbody tr th {\n",
       "        vertical-align: top;\n",
       "    }\n",
       "\n",
       "    .dataframe thead th {\n",
       "        text-align: right;\n",
       "    }\n",
       "</style>\n",
       "<table border=\"1\" class=\"dataframe\">\n",
       "  <thead>\n",
       "    <tr style=\"text-align: right;\">\n",
       "      <th></th>\n",
       "      <th>user_id</th>\n",
       "      <th>year_of_birth</th>\n",
       "      <th>gender</th>\n",
       "      <th>region</th>\n",
       "      <th>living_standards_measure</th>\n",
       "      <th>highest_education</th>\n",
       "      <th>employment</th>\n",
       "      <th>internet_access</th>\n",
       "      <th>cable_tv_subscription</th>\n",
       "      <th>survey_completion</th>\n",
       "      <th>survey_participation_consent</th>\n",
       "      <th>bank_account</th>\n",
       "      <th>bank</th>\n",
       "      <th>last_interaction_with_bank</th>\n",
       "      <th>likelihood_to_recommend</th>\n",
       "      <th>comment_on_why</th>\n",
       "      <th>themes</th>\n",
       "      <th>start_time(GMT)</th>\n",
       "      <th>time_of_last_update(GMT)</th>\n",
       "    </tr>\n",
       "  </thead>\n",
       "  <tbody>\n",
       "  </tbody>\n",
       "</table>\n",
       "</div>"
      ],
      "text/plain": [
       "Empty DataFrame\n",
       "Columns: [user_id, year_of_birth, gender, region, living_standards_measure, highest_education, employment, internet_access, cable_tv_subscription, survey_completion, survey_participation_consent, bank_account, bank, last_interaction_with_bank, likelihood_to_recommend, comment_on_why, themes, start_time(GMT), time_of_last_update(GMT)]\n",
       "Index: []"
      ]
     },
     "execution_count": 18,
     "metadata": {
      "tags": []
     },
     "output_type": "execute_result"
    }
   ],
   "source": [
    "new_data[new_data.duplicated()]"
   ]
  },
  {
   "cell_type": "markdown",
   "metadata": {
    "id": "JQF8oYb_N7jk"
   },
   "source": [
    "It seems like the user_id's each have one duplicate row with the same user_id but there are no rows that are duplicates. which probably means these users gave feedback probably at different times or gave different feedback using the same id's"
   ]
  },
  {
   "cell_type": "markdown",
   "metadata": {
    "id": "vDASGR_rmTgq"
   },
   "source": [
    "### 1. What is the Net Promoter Score by Bank, and by Week\n"
   ]
  },
  {
   "cell_type": "code",
   "execution_count": 19,
   "metadata": {
    "id": "XOlhjmmoTnPf"
   },
   "outputs": [],
   "source": [
    "# drop missing values for likelihood\n",
    "likelihood_data = new_data[new_data.likelihood_to_recommend != \"nan\"]"
   ]
  },
  {
   "cell_type": "code",
   "execution_count": 20,
   "metadata": {
    "colab": {
     "base_uri": "https://localhost:8080/"
    },
    "id": "gHXONriNNMEx",
    "outputId": "51f47ab3-c802-4f14-871b-d71dbcc67cf3"
   },
   "outputs": [
    {
     "data": {
      "text/plain": [
       "bank\n",
       "Equity                1338\n",
       "KCB                   1142\n",
       "Co-operative           710\n",
       "Other                  159\n",
       "National Bank          109\n",
       "Barclays                38\n",
       "CBA                     33\n",
       "Diamond Trust Bank      25\n",
       "Standard Chartered      24\n",
       "Stanbic Bank            22\n",
       "NIC                     18\n",
       "I&M                     14\n",
       "dtype: int64"
      ]
     },
     "execution_count": 20,
     "metadata": {
      "tags": []
     },
     "output_type": "execute_result"
    }
   ],
   "source": [
    "likelihood_data.value_counts(new_data['bank'])"
   ]
  },
  {
   "cell_type": "markdown",
   "metadata": {
    "id": "6s_rCST2PWpz"
   },
   "source": [
    "The table above shows the number of feedback comments given for every bank. There are a total of **12** banks mentioned in this dataset."
   ]
  },
  {
   "cell_type": "code",
   "execution_count": 21,
   "metadata": {
    "colab": {
     "base_uri": "https://localhost:8080/"
    },
    "id": "KEw32sd1P-zi",
    "outputId": "60551212-a787-44b3-f603-633f9237b423"
   },
   "outputs": [
    {
     "data": {
      "text/plain": [
       "bank                likelihood_to_recommend\n",
       "Barclays            8                          10\n",
       "                    9                           7\n",
       "                    10                          7\n",
       "                    7                           6\n",
       "                    6                           4\n",
       "                                               ..\n",
       "Standard Chartered  9                           6\n",
       "                    8                           4\n",
       "                    6                           3\n",
       "                    3                           2\n",
       "                    7                           1\n",
       "Name: likelihood_to_recommend, Length: 101, dtype: int64"
      ]
     },
     "execution_count": 21,
     "metadata": {
      "tags": []
     },
     "output_type": "execute_result"
    }
   ],
   "source": [
    "ls = likelihood_data.groupby(['bank'])\n",
    "ls.likelihood_to_recommend.value_counts()"
   ]
  },
  {
   "cell_type": "code",
   "execution_count": 22,
   "metadata": {
    "id": "WY31Hmd6L_Yo"
   },
   "outputs": [],
   "source": [
    "# the function below calculates the NPS of each bank\n",
    "def calculate_nps(likelihood):\n",
    "  detractors, promoters = 0, 0 \n",
    "  for l in likelihood:\n",
    "    if l <= 6:\n",
    "      detractors +=1\n",
    "    if l >= 9:\n",
    "      promoters +=1\n",
    "  \n",
    "  nps = (float(promoters) / len(likelihood) - float(detractors) / len(likelihood)) * 100\n",
    "  return nps"
   ]
  },
  {
   "cell_type": "code",
   "execution_count": 23,
   "metadata": {
    "colab": {
     "base_uri": "https://localhost:8080/",
     "height": 426
    },
    "id": "2VHbWkhENC_-",
    "outputId": "dc641610-2181-4b98-9a6d-e9825115a336"
   },
   "outputs": [
    {
     "data": {
      "text/html": [
       "<div>\n",
       "<style scoped>\n",
       "    .dataframe tbody tr th:only-of-type {\n",
       "        vertical-align: middle;\n",
       "    }\n",
       "\n",
       "    .dataframe tbody tr th {\n",
       "        vertical-align: top;\n",
       "    }\n",
       "\n",
       "    .dataframe thead th {\n",
       "        text-align: right;\n",
       "    }\n",
       "</style>\n",
       "<table border=\"1\" class=\"dataframe\">\n",
       "  <thead>\n",
       "    <tr style=\"text-align: right;\">\n",
       "      <th></th>\n",
       "      <th>bank</th>\n",
       "      <th>likelihood_to_recommend</th>\n",
       "    </tr>\n",
       "  </thead>\n",
       "  <tbody>\n",
       "    <tr>\n",
       "      <th>0</th>\n",
       "      <td>CBA</td>\n",
       "      <td>57.575758</td>\n",
       "    </tr>\n",
       "    <tr>\n",
       "      <th>1</th>\n",
       "      <td>Standard Chartered</td>\n",
       "      <td>37.500000</td>\n",
       "    </tr>\n",
       "    <tr>\n",
       "      <th>2</th>\n",
       "      <td>Other</td>\n",
       "      <td>35.849057</td>\n",
       "    </tr>\n",
       "    <tr>\n",
       "      <th>3</th>\n",
       "      <td>I&amp;M</td>\n",
       "      <td>35.714286</td>\n",
       "    </tr>\n",
       "    <tr>\n",
       "      <th>4</th>\n",
       "      <td>Stanbic Bank</td>\n",
       "      <td>31.818182</td>\n",
       "    </tr>\n",
       "    <tr>\n",
       "      <th>5</th>\n",
       "      <td>Co-operative</td>\n",
       "      <td>26.901408</td>\n",
       "    </tr>\n",
       "    <tr>\n",
       "      <th>6</th>\n",
       "      <td>KCB</td>\n",
       "      <td>24.956217</td>\n",
       "    </tr>\n",
       "    <tr>\n",
       "      <th>7</th>\n",
       "      <td>Equity</td>\n",
       "      <td>24.588939</td>\n",
       "    </tr>\n",
       "    <tr>\n",
       "      <th>8</th>\n",
       "      <td>Diamond Trust Bank</td>\n",
       "      <td>24.000000</td>\n",
       "    </tr>\n",
       "    <tr>\n",
       "      <th>9</th>\n",
       "      <td>Barclays</td>\n",
       "      <td>15.789474</td>\n",
       "    </tr>\n",
       "    <tr>\n",
       "      <th>10</th>\n",
       "      <td>National Bank</td>\n",
       "      <td>14.678899</td>\n",
       "    </tr>\n",
       "    <tr>\n",
       "      <th>11</th>\n",
       "      <td>NIC</td>\n",
       "      <td>0.000000</td>\n",
       "    </tr>\n",
       "  </tbody>\n",
       "</table>\n",
       "</div>"
      ],
      "text/plain": [
       "                  bank  likelihood_to_recommend\n",
       "0                  CBA                57.575758\n",
       "1   Standard Chartered                37.500000\n",
       "2                Other                35.849057\n",
       "3                  I&M                35.714286\n",
       "4         Stanbic Bank                31.818182\n",
       "5         Co-operative                26.901408\n",
       "6                  KCB                24.956217\n",
       "7               Equity                24.588939\n",
       "8   Diamond Trust Bank                24.000000\n",
       "9             Barclays                15.789474\n",
       "10       National Bank                14.678899\n",
       "11                 NIC                 0.000000"
      ]
     },
     "execution_count": 23,
     "metadata": {
      "tags": []
     },
     "output_type": "execute_result"
    }
   ],
   "source": [
    "banks_nps = likelihood_data.groupby(['bank']).agg(calculate_nps)\n",
    "\n",
    "\n",
    "# sort df by nps column\n",
    "banks_nps = banks_nps.sort_values(['likelihood_to_recommend'], ascending= False).reset_index(drop=False)\n",
    "banks_nps"
   ]
  },
  {
   "cell_type": "code",
   "execution_count": 24,
   "metadata": {
    "colab": {
     "base_uri": "https://localhost:8080/",
     "height": 561
    },
    "id": "FF_lMblfXMwm",
    "outputId": "7adada24-07d9-4760-9766-19ac0f8675c5"
   },
   "outputs": [
    {
     "data": {
      "image/png": "[encoded data removed]",
      "text/plain": [
       "<Figure size 842.4x595.44 with 1 Axes>"
      ]
     },
     "metadata": {
      "needs_background": "light",
      "tags": []
     },
     "output_type": "display_data"
    }
   ],
   "source": [
    "a4_dims = (11.7, 8.27)\n",
    "fig, ax = plt.subplots(figsize=a4_dims)\n",
    "\n",
    "fig = sns.barplot(ax = ax, x = 'bank', y='likelihood_to_recommend', data=banks_nps)\n",
    "\n",
    "ax.set_xticklabels(banks_nps.bank)\n",
    "for item in ax.get_xticklabels(): item.set_rotation(30)"
   ]
  },
  {
   "cell_type": "code",
   "execution_count": 25,
   "metadata": {
    "colab": {
     "base_uri": "https://localhost:8080/"
    },
    "id": "OIz48RQfLrph",
    "outputId": "7b930f89-f435-48f6-fe88-7e0e3aeafce8"
   },
   "outputs": [
    {
     "name": "stdout",
     "output_type": "stream",
     "text": [
      "204.1515234186417\n"
     ]
    }
   ],
   "source": [
    "print(banks_nps.var()['likelihood_to_recommend'])"
   ]
  },
  {
   "cell_type": "code",
   "execution_count": 26,
   "metadata": {
    "colab": {
     "base_uri": "https://localhost:8080/"
    },
    "id": "R8pFzPvML3-D",
    "outputId": "e28bdf0b-2c4d-4243-b024-71094d17c4b9"
   },
   "outputs": [
    {
     "name": "stdout",
     "output_type": "stream",
     "text": [
      "The mean of sample is 27.44768490057114 \n",
      "Standard Deviation of sample is 14.288160253113123 \n"
     ]
    }
   ],
   "source": [
    "import statistics\n",
    "print(\"The mean of sample is % s \" \n",
    "                % (statistics.mean(banks_nps.likelihood_to_recommend))) \n",
    "print(\"Standard Deviation of sample is % s \" \n",
    "                % (statistics.stdev(banks_nps.likelihood_to_recommend))) "
   ]
  },
  {
   "cell_type": "markdown",
   "metadata": {
    "id": "Iq4yBERcmatw"
   },
   "source": [
    "### 2. Does the Net Promoter Score vary significantly across touchpoints/interaction channels?"
   ]
  },
  {
   "cell_type": "code",
   "execution_count": 27,
   "metadata": {
    "id": "l-Lm71scnsc6"
   },
   "outputs": [],
   "source": [
    "# go through data science stats course to see if variation and std deviation works here...\n",
    "# check how NPS varies between the last_interaction channels"
   ]
  },
  {
   "cell_type": "code",
   "execution_count": 28,
   "metadata": {
    "colab": {
     "base_uri": "https://localhost:8080/",
     "height": 363
    },
    "id": "CPjx0FzfZUzL",
    "outputId": "f997d339-2ec1-4409-c504-eaba8cb2f953"
   },
   "outputs": [
    {
     "data": {
      "text/html": [
       "<div>\n",
       "<style scoped>\n",
       "    .dataframe tbody tr th:only-of-type {\n",
       "        vertical-align: middle;\n",
       "    }\n",
       "\n",
       "    .dataframe tbody tr th {\n",
       "        vertical-align: top;\n",
       "    }\n",
       "\n",
       "    .dataframe thead th {\n",
       "        text-align: right;\n",
       "    }\n",
       "</style>\n",
       "<table border=\"1\" class=\"dataframe\">\n",
       "  <thead>\n",
       "    <tr style=\"text-align: right;\">\n",
       "      <th></th>\n",
       "      <th>last_interaction_with_bank</th>\n",
       "      <th>likelihood_to_recommend</th>\n",
       "    </tr>\n",
       "  </thead>\n",
       "  <tbody>\n",
       "    <tr>\n",
       "      <th>0</th>\n",
       "      <td>Teller or Branch transactions</td>\n",
       "      <td>13.866667</td>\n",
       "    </tr>\n",
       "    <tr>\n",
       "      <th>1</th>\n",
       "      <td>Social media</td>\n",
       "      <td>17.857143</td>\n",
       "    </tr>\n",
       "    <tr>\n",
       "      <th>2</th>\n",
       "      <td>Other</td>\n",
       "      <td>17.241379</td>\n",
       "    </tr>\n",
       "    <tr>\n",
       "      <th>3</th>\n",
       "      <td>Mobile banking</td>\n",
       "      <td>32.249322</td>\n",
       "    </tr>\n",
       "    <tr>\n",
       "      <th>4</th>\n",
       "      <td>Internet banking</td>\n",
       "      <td>41.538462</td>\n",
       "    </tr>\n",
       "    <tr>\n",
       "      <th>5</th>\n",
       "      <td>Insurance</td>\n",
       "      <td>-50.000000</td>\n",
       "    </tr>\n",
       "    <tr>\n",
       "      <th>6</th>\n",
       "      <td>Customer service desk/ enquiries</td>\n",
       "      <td>35.928144</td>\n",
       "    </tr>\n",
       "    <tr>\n",
       "      <th>7</th>\n",
       "      <td>Call centre</td>\n",
       "      <td>16.666667</td>\n",
       "    </tr>\n",
       "    <tr>\n",
       "      <th>8</th>\n",
       "      <td>Bank agent/ agency banking</td>\n",
       "      <td>22.314050</td>\n",
       "    </tr>\n",
       "    <tr>\n",
       "      <th>9</th>\n",
       "      <td>ATM</td>\n",
       "      <td>27.021494</td>\n",
       "    </tr>\n",
       "  </tbody>\n",
       "</table>\n",
       "</div>"
      ],
      "text/plain": [
       "         last_interaction_with_bank  likelihood_to_recommend\n",
       "0     Teller or Branch transactions                13.866667\n",
       "1                      Social media                17.857143\n",
       "2                             Other                17.241379\n",
       "3                    Mobile banking                32.249322\n",
       "4                  Internet banking                41.538462\n",
       "5                         Insurance               -50.000000\n",
       "6  Customer service desk/ enquiries                35.928144\n",
       "7                       Call centre                16.666667\n",
       "8        Bank agent/ agency banking                22.314050\n",
       "9                               ATM                27.021494"
      ]
     },
     "execution_count": 28,
     "metadata": {
      "tags": []
     },
     "output_type": "execute_result"
    }
   ],
   "source": [
    "channels_nps = likelihood_data.groupby(['last_interaction_with_bank']).agg(calculate_nps)\n",
    "\n",
    "# sort df by nps column\n",
    "channels_nps = channels_nps.sort_values(['last_interaction_with_bank'], ascending= False).reset_index(drop=False)\n",
    "channels_nps"
   ]
  },
  {
   "cell_type": "code",
   "execution_count": 29,
   "metadata": {
    "colab": {
     "base_uri": "https://localhost:8080/",
     "height": 594
    },
    "id": "3ic2EZJvVSqb",
    "outputId": "9977c509-e56f-42f6-a254-05e3bb5483d9"
   },
   "outputs": [
    {
     "data": {
      "image/png": "[encoded data removed]",
      "text/plain": [
       "<Figure size 842.4x595.44 with 1 Axes>"
      ]
     },
     "metadata": {
      "needs_background": "light",
      "tags": []
     },
     "output_type": "display_data"
    }
   ],
   "source": [
    "a4_dims = (11.7, 8.27)\n",
    "fig, ax = plt.subplots(figsize=a4_dims)\n",
    "\n",
    "fig = sns.barplot(ax = ax, x = 'last_interaction_with_bank', y='likelihood_to_recommend', data=channels_nps)\n",
    "\n",
    "ax.set_xticklabels(channels_nps.last_interaction_with_bank)\n",
    "for item in ax.get_xticklabels(): item.set_rotation(30)"
   ]
  },
  {
   "cell_type": "code",
   "execution_count": 30,
   "metadata": {
    "colab": {
     "base_uri": "https://localhost:8080/"
    },
    "id": "f0FNq_OJOqRA",
    "outputId": "783e1de0-8692-4bb5-fcfb-9dc181c87b6a"
   },
   "outputs": [
    {
     "name": "stdout",
     "output_type": "stream",
     "text": [
      "The mean of sample is 17.46833272023812 \n",
      "Standard Deviation of sample is 25.427785588427547 \n"
     ]
    }
   ],
   "source": [
    "print(\"The mean of sample is % s \" \n",
    "                % (statistics.mean(channels_nps.likelihood_to_recommend))) \n",
    "print(\"Standard Deviation of sample is % s \" \n",
    "                % (statistics.stdev(channels_nps.likelihood_to_recommend))) "
   ]
  },
  {
   "cell_type": "markdown",
   "metadata": {
    "id": "dCnsb8vomalM"
   },
   "source": [
    "### 3. Does the Net Promoter Score vary by Demographic characteristics?"
   ]
  },
  {
   "cell_type": "code",
   "execution_count": 31,
   "metadata": {
    "colab": {
     "base_uri": "https://localhost:8080/",
     "height": 363
    },
    "id": "1OP_Kwvbn12X",
    "outputId": "47e901ad-fb1a-4969-d1a3-95810b865950"
   },
   "outputs": [
    {
     "data": {
      "text/html": [
       "<div>\n",
       "<style scoped>\n",
       "    .dataframe tbody tr th:only-of-type {\n",
       "        vertical-align: middle;\n",
       "    }\n",
       "\n",
       "    .dataframe tbody tr th {\n",
       "        vertical-align: top;\n",
       "    }\n",
       "\n",
       "    .dataframe thead th {\n",
       "        text-align: right;\n",
       "    }\n",
       "</style>\n",
       "<table border=\"1\" class=\"dataframe\">\n",
       "  <thead>\n",
       "    <tr style=\"text-align: right;\">\n",
       "      <th></th>\n",
       "      <th>region</th>\n",
       "      <th>likelihood_to_recommend</th>\n",
       "    </tr>\n",
       "  </thead>\n",
       "  <tbody>\n",
       "    <tr>\n",
       "      <th>0</th>\n",
       "      <td>western</td>\n",
       "      <td>27.622378</td>\n",
       "    </tr>\n",
       "    <tr>\n",
       "      <th>1</th>\n",
       "      <td>riftvalley</td>\n",
       "      <td>30.833333</td>\n",
       "    </tr>\n",
       "    <tr>\n",
       "      <th>2</th>\n",
       "      <td>nyanza</td>\n",
       "      <td>26.012793</td>\n",
       "    </tr>\n",
       "    <tr>\n",
       "      <th>3</th>\n",
       "      <td>northeastern</td>\n",
       "      <td>-5.555556</td>\n",
       "    </tr>\n",
       "    <tr>\n",
       "      <th>4</th>\n",
       "      <td>nairobi</td>\n",
       "      <td>16.978417</td>\n",
       "    </tr>\n",
       "    <tr>\n",
       "      <th>5</th>\n",
       "      <td>eastern</td>\n",
       "      <td>27.164179</td>\n",
       "    </tr>\n",
       "    <tr>\n",
       "      <th>6</th>\n",
       "      <td>coast</td>\n",
       "      <td>16.239316</td>\n",
       "    </tr>\n",
       "    <tr>\n",
       "      <th>7</th>\n",
       "      <td>central</td>\n",
       "      <td>23.671498</td>\n",
       "    </tr>\n",
       "    <tr>\n",
       "      <th>8</th>\n",
       "      <td>Nairobi</td>\n",
       "      <td>10.526316</td>\n",
       "    </tr>\n",
       "    <tr>\n",
       "      <th>9</th>\n",
       "      <td>Coast</td>\n",
       "      <td>100.000000</td>\n",
       "    </tr>\n",
       "  </tbody>\n",
       "</table>\n",
       "</div>"
      ],
      "text/plain": [
       "         region  likelihood_to_recommend\n",
       "0       western                27.622378\n",
       "1    riftvalley                30.833333\n",
       "2        nyanza                26.012793\n",
       "3  northeastern                -5.555556\n",
       "4       nairobi                16.978417\n",
       "5       eastern                27.164179\n",
       "6         coast                16.239316\n",
       "7       central                23.671498\n",
       "8       Nairobi                10.526316\n",
       "9         Coast               100.000000"
      ]
     },
     "execution_count": 31,
     "metadata": {
      "tags": []
     },
     "output_type": "execute_result"
    }
   ],
   "source": [
    "region_nps = likelihood_data.groupby(['region']).agg(calculate_nps)\n",
    "\n",
    "# sort df by nps column\n",
    "region_nps = region_nps.sort_values(['region'], ascending= False).reset_index(drop=False)\n",
    "region_nps"
   ]
  },
  {
   "cell_type": "code",
   "execution_count": 32,
   "metadata": {
    "colab": {
     "base_uri": "https://localhost:8080/",
     "height": 542
    },
    "id": "uIUW8etmWTy-",
    "outputId": "a8aecdb4-e71d-4ec5-ef2a-5b1e7c0d6d12"
   },
   "outputs": [
    {
     "data": {
      "image/png": "[encoded data removed]",
      "text/plain": [
       "<Figure size 842.4x595.44 with 1 Axes>"
      ]
     },
     "metadata": {
      "needs_background": "light",
      "tags": []
     },
     "output_type": "display_data"
    }
   ],
   "source": [
    "a4_dims = (11.7, 8.27)\n",
    "fig, ax = plt.subplots(figsize=a4_dims)\n",
    "\n",
    "fig = sns.barplot(ax = ax, x = 'region', y='likelihood_to_recommend', data=region_nps)\n",
    "\n",
    "ax.set_xticklabels(region_nps.region)\n",
    "for item in ax.get_xticklabels(): item.set_rotation(30)"
   ]
  },
  {
   "cell_type": "code",
   "execution_count": 33,
   "metadata": {
    "colab": {
     "base_uri": "https://localhost:8080/"
    },
    "id": "KErJHacwO4oR",
    "outputId": "4a30138a-1d7a-4723-cc66-027666f00347"
   },
   "outputs": [
    {
     "name": "stdout",
     "output_type": "stream",
     "text": [
      "The mean of sample is 27.349267456112333 \n",
      "Standard Deviation of sample is 27.69358787737474 \n"
     ]
    }
   ],
   "source": [
    "print(\"The mean of sample is % s \" \n",
    "                % (statistics.mean(region_nps.likelihood_to_recommend))) \n",
    "print(\"Standard Deviation of sample is % s \" \n",
    "                % (statistics.stdev(region_nps.likelihood_to_recommend))) "
   ]
  },
  {
   "cell_type": "markdown",
   "metadata": {
    "id": "u7R80qZsmaf8"
   },
   "source": [
    "### 4. Does the Response rate* vary significantly across any of the characteristics (Customer Demographics, Bank, Touchpoints, Week, Time of Day)?"
   ]
  },
  {
   "cell_type": "code",
   "execution_count": 34,
   "metadata": {
    "colab": {
     "base_uri": "https://localhost:8080/",
     "height": 348
    },
    "id": "n3LFzTa5WgIA",
    "outputId": "be3e6d00-a07a-4019-f2cf-5dde4b894045"
   },
   "outputs": [
    {
     "data": {
      "text/html": [
       "<div>\n",
       "<style scoped>\n",
       "    .dataframe tbody tr th:only-of-type {\n",
       "        vertical-align: middle;\n",
       "    }\n",
       "\n",
       "    .dataframe tbody tr th {\n",
       "        vertical-align: top;\n",
       "    }\n",
       "\n",
       "    .dataframe thead th {\n",
       "        text-align: right;\n",
       "    }\n",
       "</style>\n",
       "<table border=\"1\" class=\"dataframe\">\n",
       "  <thead>\n",
       "    <tr style=\"text-align: right;\">\n",
       "      <th></th>\n",
       "      <th>user_id</th>\n",
       "      <th>year_of_birth</th>\n",
       "      <th>gender</th>\n",
       "      <th>region</th>\n",
       "      <th>living_standards_measure</th>\n",
       "      <th>highest_education</th>\n",
       "      <th>employment</th>\n",
       "      <th>internet_access</th>\n",
       "      <th>cable_tv_subscription</th>\n",
       "      <th>survey_completion</th>\n",
       "      <th>survey_participation_consent</th>\n",
       "      <th>bank_account</th>\n",
       "      <th>bank</th>\n",
       "      <th>last_interaction_with_bank</th>\n",
       "      <th>likelihood_to_recommend</th>\n",
       "      <th>comment_on_why</th>\n",
       "      <th>themes</th>\n",
       "      <th>start_time(GMT)</th>\n",
       "      <th>time_of_last_update(GMT)</th>\n",
       "    </tr>\n",
       "  </thead>\n",
       "  <tbody>\n",
       "    <tr>\n",
       "      <th>0</th>\n",
       "      <td>358646</td>\n",
       "      <td>1991</td>\n",
       "      <td>Prefer not to answer</td>\n",
       "      <td>NaN</td>\n",
       "      <td>NaN</td>\n",
       "      <td>NaN</td>\n",
       "      <td>Student</td>\n",
       "      <td>Yes</td>\n",
       "      <td>No</td>\n",
       "      <td>TIMEDOUT</td>\n",
       "      <td>NaN</td>\n",
       "      <td>NaN</td>\n",
       "      <td>NaN</td>\n",
       "      <td>NaN</td>\n",
       "      <td>&lt;NA&gt;</td>\n",
       "      <td>NaN</td>\n",
       "      <td>NaN</td>\n",
       "      <td>18:34:6</td>\n",
       "      <td>00:09:9</td>\n",
       "    </tr>\n",
       "    <tr>\n",
       "      <th>1</th>\n",
       "      <td>18003003</td>\n",
       "      <td>1984</td>\n",
       "      <td>Female</td>\n",
       "      <td>coast</td>\n",
       "      <td>5 to 8</td>\n",
       "      <td>Completed Secondary</td>\n",
       "      <td>Student</td>\n",
       "      <td>Yes</td>\n",
       "      <td>Yes</td>\n",
       "      <td>FINISHED</td>\n",
       "      <td>YES</td>\n",
       "      <td>Yes</td>\n",
       "      <td>KCB</td>\n",
       "      <td>Teller or Branch transactions</td>\n",
       "      <td>5</td>\n",
       "      <td>Safrcom don''t allow 1 person to Bank more tha...</td>\n",
       "      <td>speed/efficiency</td>\n",
       "      <td>00:02:9</td>\n",
       "      <td>16:14:6</td>\n",
       "    </tr>\n",
       "    <tr>\n",
       "      <th>2</th>\n",
       "      <td>5618870</td>\n",
       "      <td>1994</td>\n",
       "      <td>Male</td>\n",
       "      <td>riftvalley</td>\n",
       "      <td>5 to 8</td>\n",
       "      <td>Completed College</td>\n",
       "      <td>Student</td>\n",
       "      <td>Yes</td>\n",
       "      <td>No</td>\n",
       "      <td>FINISHED</td>\n",
       "      <td>YES</td>\n",
       "      <td>Yes</td>\n",
       "      <td>National Bank</td>\n",
       "      <td>Mobile banking</td>\n",
       "      <td>10</td>\n",
       "      <td>They offer good services</td>\n",
       "      <td>service</td>\n",
       "      <td>00:03:0</td>\n",
       "      <td>05:11:0</td>\n",
       "    </tr>\n",
       "    <tr>\n",
       "      <th>3</th>\n",
       "      <td>2951848</td>\n",
       "      <td>1995</td>\n",
       "      <td>Female</td>\n",
       "      <td>riftvalley</td>\n",
       "      <td>NaN</td>\n",
       "      <td>NaN</td>\n",
       "      <td>Other/Unemployed</td>\n",
       "      <td>Yes</td>\n",
       "      <td>NaN</td>\n",
       "      <td>TIMEDOUT</td>\n",
       "      <td>NaN</td>\n",
       "      <td>NaN</td>\n",
       "      <td>NaN</td>\n",
       "      <td>NaN</td>\n",
       "      <td>&lt;NA&gt;</td>\n",
       "      <td>NaN</td>\n",
       "      <td>NaN</td>\n",
       "      <td>00:03:0</td>\n",
       "      <td>00:09:1</td>\n",
       "    </tr>\n",
       "    <tr>\n",
       "      <th>4</th>\n",
       "      <td>17386348</td>\n",
       "      <td>1999</td>\n",
       "      <td>Male</td>\n",
       "      <td>coast</td>\n",
       "      <td>9 to 12</td>\n",
       "      <td>In Uni</td>\n",
       "      <td>Student</td>\n",
       "      <td>Yes</td>\n",
       "      <td>Yes</td>\n",
       "      <td>FINISHED</td>\n",
       "      <td>YES</td>\n",
       "      <td>Yes</td>\n",
       "      <td>Equity</td>\n",
       "      <td>Teller or Branch transactions</td>\n",
       "      <td>7</td>\n",
       "      <td>Transaction cost are affordable</td>\n",
       "      <td>account,rates/charges</td>\n",
       "      <td>00:03:0</td>\n",
       "      <td>03:13:8</td>\n",
       "    </tr>\n",
       "  </tbody>\n",
       "</table>\n",
       "</div>"
      ],
      "text/plain": [
       "    user_id year_of_birth                gender      region  \\\n",
       "0    358646          1991  Prefer not to answer         NaN   \n",
       "1  18003003          1984                Female       coast   \n",
       "2   5618870          1994                  Male  riftvalley   \n",
       "3   2951848          1995                Female  riftvalley   \n",
       "4  17386348          1999                  Male       coast   \n",
       "\n",
       "  living_standards_measure    highest_education        employment  \\\n",
       "0                      NaN                  NaN           Student   \n",
       "1                   5 to 8  Completed Secondary           Student   \n",
       "2                   5 to 8    Completed College           Student   \n",
       "3                      NaN                  NaN  Other/Unemployed   \n",
       "4                  9 to 12               In Uni           Student   \n",
       "\n",
       "  internet_access cable_tv_subscription survey_completion  \\\n",
       "0             Yes                    No          TIMEDOUT   \n",
       "1             Yes                   Yes          FINISHED   \n",
       "2             Yes                    No          FINISHED   \n",
       "3             Yes                   NaN          TIMEDOUT   \n",
       "4             Yes                   Yes          FINISHED   \n",
       "\n",
       "  survey_participation_consent bank_account           bank  \\\n",
       "0                          NaN          NaN            NaN   \n",
       "1                          YES          Yes            KCB   \n",
       "2                          YES          Yes  National Bank   \n",
       "3                          NaN          NaN            NaN   \n",
       "4                          YES          Yes         Equity   \n",
       "\n",
       "      last_interaction_with_bank  likelihood_to_recommend  \\\n",
       "0                            NaN                     <NA>   \n",
       "1  Teller or Branch transactions                        5   \n",
       "2                 Mobile banking                       10   \n",
       "3                            NaN                     <NA>   \n",
       "4  Teller or Branch transactions                        7   \n",
       "\n",
       "                                      comment_on_why                 themes  \\\n",
       "0                                                NaN                    NaN   \n",
       "1  Safrcom don''t allow 1 person to Bank more tha...       speed/efficiency   \n",
       "2                           They offer good services                service   \n",
       "3                                                NaN                    NaN   \n",
       "4                    Transaction cost are affordable  account,rates/charges   \n",
       "\n",
       "  start_time(GMT) time_of_last_update(GMT)  \n",
       "0         18:34:6                  00:09:9  \n",
       "1         00:02:9                  16:14:6  \n",
       "2         00:03:0                  05:11:0  \n",
       "3         00:03:0                  00:09:1  \n",
       "4         00:03:0                  03:13:8  "
      ]
     },
     "execution_count": 34,
     "metadata": {
      "tags": []
     },
     "output_type": "execute_result"
    }
   ],
   "source": [
    "new_data.head()"
   ]
  },
  {
   "cell_type": "markdown",
   "metadata": {
    "id": "YzOQvyJLXCh6"
   },
   "source": [
    "### Demographics"
   ]
  },
  {
   "cell_type": "code",
   "execution_count": 35,
   "metadata": {
    "colab": {
     "base_uri": "https://localhost:8080/",
     "height": 948
    },
    "id": "PjWd8B3FZlbj",
    "outputId": "b2ea62f3-f16e-42c7-96e4-4dcfd34b9ab0"
   },
   "outputs": [
    {
     "data": {
      "text/html": [
       "<div>\n",
       "<style scoped>\n",
       "    .dataframe tbody tr th:only-of-type {\n",
       "        vertical-align: middle;\n",
       "    }\n",
       "\n",
       "    .dataframe tbody tr th {\n",
       "        vertical-align: top;\n",
       "    }\n",
       "\n",
       "    .dataframe thead th {\n",
       "        text-align: right;\n",
       "    }\n",
       "</style>\n",
       "<table border=\"1\" class=\"dataframe\">\n",
       "  <thead>\n",
       "    <tr style=\"text-align: right;\">\n",
       "      <th></th>\n",
       "      <th></th>\n",
       "      <th>user_id</th>\n",
       "      <th>year_of_birth</th>\n",
       "      <th>gender</th>\n",
       "      <th>living_standards_measure</th>\n",
       "      <th>highest_education</th>\n",
       "      <th>employment</th>\n",
       "      <th>internet_access</th>\n",
       "      <th>cable_tv_subscription</th>\n",
       "      <th>survey_participation_consent</th>\n",
       "      <th>bank_account</th>\n",
       "      <th>bank</th>\n",
       "      <th>last_interaction_with_bank</th>\n",
       "      <th>likelihood_to_recommend</th>\n",
       "      <th>comment_on_why</th>\n",
       "      <th>themes</th>\n",
       "      <th>start_time(GMT)</th>\n",
       "      <th>time_of_last_update(GMT)</th>\n",
       "    </tr>\n",
       "    <tr>\n",
       "      <th>region</th>\n",
       "      <th>survey_completion</th>\n",
       "      <th></th>\n",
       "      <th></th>\n",
       "      <th></th>\n",
       "      <th></th>\n",
       "      <th></th>\n",
       "      <th></th>\n",
       "      <th></th>\n",
       "      <th></th>\n",
       "      <th></th>\n",
       "      <th></th>\n",
       "      <th></th>\n",
       "      <th></th>\n",
       "      <th></th>\n",
       "      <th></th>\n",
       "      <th></th>\n",
       "      <th></th>\n",
       "      <th></th>\n",
       "    </tr>\n",
       "  </thead>\n",
       "  <tbody>\n",
       "    <tr>\n",
       "      <th rowspan=\"2\" valign=\"top\">Coast</th>\n",
       "      <th>FINISHED</th>\n",
       "      <td>5</td>\n",
       "      <td>5</td>\n",
       "      <td>5</td>\n",
       "      <td>5</td>\n",
       "      <td>5</td>\n",
       "      <td>5</td>\n",
       "      <td>5</td>\n",
       "      <td>5</td>\n",
       "      <td>5</td>\n",
       "      <td>5</td>\n",
       "      <td>5</td>\n",
       "      <td>5</td>\n",
       "      <td>5</td>\n",
       "      <td>5</td>\n",
       "      <td>3</td>\n",
       "      <td>5</td>\n",
       "      <td>5</td>\n",
       "    </tr>\n",
       "    <tr>\n",
       "      <th>TIMEDOUT</th>\n",
       "      <td>4</td>\n",
       "      <td>4</td>\n",
       "      <td>4</td>\n",
       "      <td>4</td>\n",
       "      <td>4</td>\n",
       "      <td>4</td>\n",
       "      <td>3</td>\n",
       "      <td>3</td>\n",
       "      <td>1</td>\n",
       "      <td>1</td>\n",
       "      <td>1</td>\n",
       "      <td>1</td>\n",
       "      <td>0</td>\n",
       "      <td>0</td>\n",
       "      <td>0</td>\n",
       "      <td>4</td>\n",
       "      <td>4</td>\n",
       "    </tr>\n",
       "    <tr>\n",
       "      <th rowspan=\"3\" valign=\"top\">Nairobi</th>\n",
       "      <th>FINISHED</th>\n",
       "      <td>21</td>\n",
       "      <td>21</td>\n",
       "      <td>21</td>\n",
       "      <td>21</td>\n",
       "      <td>21</td>\n",
       "      <td>21</td>\n",
       "      <td>21</td>\n",
       "      <td>21</td>\n",
       "      <td>21</td>\n",
       "      <td>21</td>\n",
       "      <td>19</td>\n",
       "      <td>19</td>\n",
       "      <td>19</td>\n",
       "      <td>19</td>\n",
       "      <td>13</td>\n",
       "      <td>21</td>\n",
       "      <td>21</td>\n",
       "    </tr>\n",
       "    <tr>\n",
       "      <th>OPTOUT</th>\n",
       "      <td>2</td>\n",
       "      <td>2</td>\n",
       "      <td>2</td>\n",
       "      <td>2</td>\n",
       "      <td>2</td>\n",
       "      <td>2</td>\n",
       "      <td>2</td>\n",
       "      <td>2</td>\n",
       "      <td>2</td>\n",
       "      <td>0</td>\n",
       "      <td>0</td>\n",
       "      <td>0</td>\n",
       "      <td>0</td>\n",
       "      <td>0</td>\n",
       "      <td>0</td>\n",
       "      <td>2</td>\n",
       "      <td>2</td>\n",
       "    </tr>\n",
       "    <tr>\n",
       "      <th>TIMEDOUT</th>\n",
       "      <td>6</td>\n",
       "      <td>6</td>\n",
       "      <td>6</td>\n",
       "      <td>6</td>\n",
       "      <td>6</td>\n",
       "      <td>6</td>\n",
       "      <td>6</td>\n",
       "      <td>6</td>\n",
       "      <td>0</td>\n",
       "      <td>0</td>\n",
       "      <td>0</td>\n",
       "      <td>0</td>\n",
       "      <td>0</td>\n",
       "      <td>0</td>\n",
       "      <td>0</td>\n",
       "      <td>6</td>\n",
       "      <td>6</td>\n",
       "    </tr>\n",
       "    <tr>\n",
       "      <th rowspan=\"3\" valign=\"top\">central</th>\n",
       "      <th>FINISHED</th>\n",
       "      <td>462</td>\n",
       "      <td>462</td>\n",
       "      <td>462</td>\n",
       "      <td>378</td>\n",
       "      <td>382</td>\n",
       "      <td>458</td>\n",
       "      <td>423</td>\n",
       "      <td>393</td>\n",
       "      <td>461</td>\n",
       "      <td>461</td>\n",
       "      <td>410</td>\n",
       "      <td>410</td>\n",
       "      <td>410</td>\n",
       "      <td>410</td>\n",
       "      <td>321</td>\n",
       "      <td>462</td>\n",
       "      <td>462</td>\n",
       "    </tr>\n",
       "    <tr>\n",
       "      <th>OPTOUT</th>\n",
       "      <td>12</td>\n",
       "      <td>12</td>\n",
       "      <td>12</td>\n",
       "      <td>7</td>\n",
       "      <td>6</td>\n",
       "      <td>12</td>\n",
       "      <td>10</td>\n",
       "      <td>7</td>\n",
       "      <td>12</td>\n",
       "      <td>0</td>\n",
       "      <td>0</td>\n",
       "      <td>0</td>\n",
       "      <td>0</td>\n",
       "      <td>0</td>\n",
       "      <td>0</td>\n",
       "      <td>12</td>\n",
       "      <td>12</td>\n",
       "    </tr>\n",
       "    <tr>\n",
       "      <th>TIMEDOUT</th>\n",
       "      <td>248</td>\n",
       "      <td>248</td>\n",
       "      <td>248</td>\n",
       "      <td>186</td>\n",
       "      <td>192</td>\n",
       "      <td>246</td>\n",
       "      <td>221</td>\n",
       "      <td>207</td>\n",
       "      <td>16</td>\n",
       "      <td>11</td>\n",
       "      <td>8</td>\n",
       "      <td>5</td>\n",
       "      <td>4</td>\n",
       "      <td>0</td>\n",
       "      <td>0</td>\n",
       "      <td>248</td>\n",
       "      <td>248</td>\n",
       "    </tr>\n",
       "    <tr>\n",
       "      <th rowspan=\"2\" valign=\"top\">coast</th>\n",
       "      <th>FINISHED</th>\n",
       "      <td>141</td>\n",
       "      <td>141</td>\n",
       "      <td>141</td>\n",
       "      <td>116</td>\n",
       "      <td>116</td>\n",
       "      <td>138</td>\n",
       "      <td>123</td>\n",
       "      <td>119</td>\n",
       "      <td>141</td>\n",
       "      <td>140</td>\n",
       "      <td>116</td>\n",
       "      <td>116</td>\n",
       "      <td>116</td>\n",
       "      <td>116</td>\n",
       "      <td>86</td>\n",
       "      <td>141</td>\n",
       "      <td>141</td>\n",
       "    </tr>\n",
       "    <tr>\n",
       "      <th>TIMEDOUT</th>\n",
       "      <td>67</td>\n",
       "      <td>67</td>\n",
       "      <td>66</td>\n",
       "      <td>52</td>\n",
       "      <td>53</td>\n",
       "      <td>65</td>\n",
       "      <td>59</td>\n",
       "      <td>54</td>\n",
       "      <td>6</td>\n",
       "      <td>4</td>\n",
       "      <td>3</td>\n",
       "      <td>2</td>\n",
       "      <td>1</td>\n",
       "      <td>0</td>\n",
       "      <td>0</td>\n",
       "      <td>67</td>\n",
       "      <td>67</td>\n",
       "    </tr>\n",
       "    <tr>\n",
       "      <th rowspan=\"3\" valign=\"top\">eastern</th>\n",
       "      <th>FINISHED</th>\n",
       "      <td>379</td>\n",
       "      <td>379</td>\n",
       "      <td>379</td>\n",
       "      <td>312</td>\n",
       "      <td>315</td>\n",
       "      <td>374</td>\n",
       "      <td>346</td>\n",
       "      <td>331</td>\n",
       "      <td>379</td>\n",
       "      <td>379</td>\n",
       "      <td>332</td>\n",
       "      <td>332</td>\n",
       "      <td>332</td>\n",
       "      <td>332</td>\n",
       "      <td>259</td>\n",
       "      <td>379</td>\n",
       "      <td>379</td>\n",
       "    </tr>\n",
       "    <tr>\n",
       "      <th>OPTOUT</th>\n",
       "      <td>5</td>\n",
       "      <td>5</td>\n",
       "      <td>5</td>\n",
       "      <td>5</td>\n",
       "      <td>5</td>\n",
       "      <td>5</td>\n",
       "      <td>5</td>\n",
       "      <td>5</td>\n",
       "      <td>5</td>\n",
       "      <td>0</td>\n",
       "      <td>0</td>\n",
       "      <td>0</td>\n",
       "      <td>0</td>\n",
       "      <td>0</td>\n",
       "      <td>0</td>\n",
       "      <td>5</td>\n",
       "      <td>5</td>\n",
       "    </tr>\n",
       "    <tr>\n",
       "      <th>TIMEDOUT</th>\n",
       "      <td>168</td>\n",
       "      <td>168</td>\n",
       "      <td>168</td>\n",
       "      <td>118</td>\n",
       "      <td>131</td>\n",
       "      <td>167</td>\n",
       "      <td>147</td>\n",
       "      <td>139</td>\n",
       "      <td>10</td>\n",
       "      <td>6</td>\n",
       "      <td>5</td>\n",
       "      <td>5</td>\n",
       "      <td>3</td>\n",
       "      <td>0</td>\n",
       "      <td>0</td>\n",
       "      <td>168</td>\n",
       "      <td>168</td>\n",
       "    </tr>\n",
       "    <tr>\n",
       "      <th rowspan=\"3\" valign=\"top\">nairobi</th>\n",
       "      <th>FINISHED</th>\n",
       "      <td>757</td>\n",
       "      <td>757</td>\n",
       "      <td>756</td>\n",
       "      <td>648</td>\n",
       "      <td>656</td>\n",
       "      <td>750</td>\n",
       "      <td>692</td>\n",
       "      <td>654</td>\n",
       "      <td>757</td>\n",
       "      <td>757</td>\n",
       "      <td>686</td>\n",
       "      <td>686</td>\n",
       "      <td>686</td>\n",
       "      <td>685</td>\n",
       "      <td>516</td>\n",
       "      <td>757</td>\n",
       "      <td>757</td>\n",
       "    </tr>\n",
       "    <tr>\n",
       "      <th>OPTOUT</th>\n",
       "      <td>20</td>\n",
       "      <td>20</td>\n",
       "      <td>20</td>\n",
       "      <td>18</td>\n",
       "      <td>18</td>\n",
       "      <td>20</td>\n",
       "      <td>17</td>\n",
       "      <td>17</td>\n",
       "      <td>20</td>\n",
       "      <td>0</td>\n",
       "      <td>0</td>\n",
       "      <td>0</td>\n",
       "      <td>0</td>\n",
       "      <td>0</td>\n",
       "      <td>0</td>\n",
       "      <td>20</td>\n",
       "      <td>20</td>\n",
       "    </tr>\n",
       "    <tr>\n",
       "      <th>TIMEDOUT</th>\n",
       "      <td>447</td>\n",
       "      <td>447</td>\n",
       "      <td>446</td>\n",
       "      <td>364</td>\n",
       "      <td>362</td>\n",
       "      <td>434</td>\n",
       "      <td>395</td>\n",
       "      <td>366</td>\n",
       "      <td>39</td>\n",
       "      <td>29</td>\n",
       "      <td>20</td>\n",
       "      <td>15</td>\n",
       "      <td>9</td>\n",
       "      <td>0</td>\n",
       "      <td>0</td>\n",
       "      <td>447</td>\n",
       "      <td>447</td>\n",
       "    </tr>\n",
       "    <tr>\n",
       "      <th rowspan=\"2\" valign=\"top\">northeastern</th>\n",
       "      <th>FINISHED</th>\n",
       "      <td>28</td>\n",
       "      <td>28</td>\n",
       "      <td>28</td>\n",
       "      <td>26</td>\n",
       "      <td>25</td>\n",
       "      <td>27</td>\n",
       "      <td>27</td>\n",
       "      <td>26</td>\n",
       "      <td>28</td>\n",
       "      <td>28</td>\n",
       "      <td>17</td>\n",
       "      <td>17</td>\n",
       "      <td>17</td>\n",
       "      <td>17</td>\n",
       "      <td>13</td>\n",
       "      <td>28</td>\n",
       "      <td>28</td>\n",
       "    </tr>\n",
       "    <tr>\n",
       "      <th>TIMEDOUT</th>\n",
       "      <td>18</td>\n",
       "      <td>18</td>\n",
       "      <td>18</td>\n",
       "      <td>14</td>\n",
       "      <td>14</td>\n",
       "      <td>17</td>\n",
       "      <td>16</td>\n",
       "      <td>15</td>\n",
       "      <td>2</td>\n",
       "      <td>1</td>\n",
       "      <td>1</td>\n",
       "      <td>1</td>\n",
       "      <td>1</td>\n",
       "      <td>0</td>\n",
       "      <td>0</td>\n",
       "      <td>18</td>\n",
       "      <td>18</td>\n",
       "    </tr>\n",
       "    <tr>\n",
       "      <th rowspan=\"3\" valign=\"top\">nyanza</th>\n",
       "      <th>FINISHED</th>\n",
       "      <td>541</td>\n",
       "      <td>541</td>\n",
       "      <td>541</td>\n",
       "      <td>434</td>\n",
       "      <td>440</td>\n",
       "      <td>535</td>\n",
       "      <td>488</td>\n",
       "      <td>458</td>\n",
       "      <td>541</td>\n",
       "      <td>541</td>\n",
       "      <td>464</td>\n",
       "      <td>464</td>\n",
       "      <td>464</td>\n",
       "      <td>463</td>\n",
       "      <td>368</td>\n",
       "      <td>541</td>\n",
       "      <td>541</td>\n",
       "    </tr>\n",
       "    <tr>\n",
       "      <th>OPTOUT</th>\n",
       "      <td>4</td>\n",
       "      <td>4</td>\n",
       "      <td>4</td>\n",
       "      <td>3</td>\n",
       "      <td>3</td>\n",
       "      <td>4</td>\n",
       "      <td>3</td>\n",
       "      <td>3</td>\n",
       "      <td>4</td>\n",
       "      <td>0</td>\n",
       "      <td>0</td>\n",
       "      <td>0</td>\n",
       "      <td>0</td>\n",
       "      <td>0</td>\n",
       "      <td>0</td>\n",
       "      <td>4</td>\n",
       "      <td>4</td>\n",
       "    </tr>\n",
       "    <tr>\n",
       "      <th>TIMEDOUT</th>\n",
       "      <td>267</td>\n",
       "      <td>267</td>\n",
       "      <td>267</td>\n",
       "      <td>197</td>\n",
       "      <td>202</td>\n",
       "      <td>262</td>\n",
       "      <td>237</td>\n",
       "      <td>217</td>\n",
       "      <td>28</td>\n",
       "      <td>19</td>\n",
       "      <td>11</td>\n",
       "      <td>9</td>\n",
       "      <td>5</td>\n",
       "      <td>0</td>\n",
       "      <td>0</td>\n",
       "      <td>267</td>\n",
       "      <td>267</td>\n",
       "    </tr>\n",
       "    <tr>\n",
       "      <th rowspan=\"3\" valign=\"top\">riftvalley</th>\n",
       "      <th>FINISHED</th>\n",
       "      <td>1381</td>\n",
       "      <td>1381</td>\n",
       "      <td>1380</td>\n",
       "      <td>1196</td>\n",
       "      <td>1205</td>\n",
       "      <td>1369</td>\n",
       "      <td>1295</td>\n",
       "      <td>1236</td>\n",
       "      <td>1380</td>\n",
       "      <td>1377</td>\n",
       "      <td>1195</td>\n",
       "      <td>1196</td>\n",
       "      <td>1196</td>\n",
       "      <td>1196</td>\n",
       "      <td>911</td>\n",
       "      <td>1381</td>\n",
       "      <td>1381</td>\n",
       "    </tr>\n",
       "    <tr>\n",
       "      <th>OPTOUT</th>\n",
       "      <td>18</td>\n",
       "      <td>18</td>\n",
       "      <td>18</td>\n",
       "      <td>15</td>\n",
       "      <td>16</td>\n",
       "      <td>18</td>\n",
       "      <td>18</td>\n",
       "      <td>17</td>\n",
       "      <td>18</td>\n",
       "      <td>0</td>\n",
       "      <td>0</td>\n",
       "      <td>0</td>\n",
       "      <td>0</td>\n",
       "      <td>0</td>\n",
       "      <td>0</td>\n",
       "      <td>18</td>\n",
       "      <td>18</td>\n",
       "    </tr>\n",
       "    <tr>\n",
       "      <th>TIMEDOUT</th>\n",
       "      <td>759</td>\n",
       "      <td>759</td>\n",
       "      <td>756</td>\n",
       "      <td>624</td>\n",
       "      <td>630</td>\n",
       "      <td>749</td>\n",
       "      <td>697</td>\n",
       "      <td>650</td>\n",
       "      <td>56</td>\n",
       "      <td>35</td>\n",
       "      <td>28</td>\n",
       "      <td>15</td>\n",
       "      <td>4</td>\n",
       "      <td>0</td>\n",
       "      <td>0</td>\n",
       "      <td>759</td>\n",
       "      <td>759</td>\n",
       "    </tr>\n",
       "    <tr>\n",
       "      <th rowspan=\"3\" valign=\"top\">western</th>\n",
       "      <th>FINISHED</th>\n",
       "      <td>337</td>\n",
       "      <td>337</td>\n",
       "      <td>337</td>\n",
       "      <td>292</td>\n",
       "      <td>295</td>\n",
       "      <td>333</td>\n",
       "      <td>320</td>\n",
       "      <td>305</td>\n",
       "      <td>337</td>\n",
       "      <td>337</td>\n",
       "      <td>282</td>\n",
       "      <td>282</td>\n",
       "      <td>282</td>\n",
       "      <td>282</td>\n",
       "      <td>209</td>\n",
       "      <td>337</td>\n",
       "      <td>337</td>\n",
       "    </tr>\n",
       "    <tr>\n",
       "      <th>OPTOUT</th>\n",
       "      <td>8</td>\n",
       "      <td>8</td>\n",
       "      <td>8</td>\n",
       "      <td>7</td>\n",
       "      <td>7</td>\n",
       "      <td>8</td>\n",
       "      <td>8</td>\n",
       "      <td>7</td>\n",
       "      <td>8</td>\n",
       "      <td>0</td>\n",
       "      <td>0</td>\n",
       "      <td>0</td>\n",
       "      <td>0</td>\n",
       "      <td>0</td>\n",
       "      <td>0</td>\n",
       "      <td>8</td>\n",
       "      <td>8</td>\n",
       "    </tr>\n",
       "    <tr>\n",
       "      <th>TIMEDOUT</th>\n",
       "      <td>151</td>\n",
       "      <td>151</td>\n",
       "      <td>151</td>\n",
       "      <td>123</td>\n",
       "      <td>125</td>\n",
       "      <td>151</td>\n",
       "      <td>135</td>\n",
       "      <td>127</td>\n",
       "      <td>15</td>\n",
       "      <td>11</td>\n",
       "      <td>8</td>\n",
       "      <td>5</td>\n",
       "      <td>4</td>\n",
       "      <td>0</td>\n",
       "      <td>0</td>\n",
       "      <td>151</td>\n",
       "      <td>151</td>\n",
       "    </tr>\n",
       "  </tbody>\n",
       "</table>\n",
       "</div>"
      ],
      "text/plain": [
       "                                user_id  year_of_birth  gender  \\\n",
       "region       survey_completion                                   \n",
       "Coast        FINISHED                 5              5       5   \n",
       "             TIMEDOUT                 4              4       4   \n",
       "Nairobi      FINISHED                21             21      21   \n",
       "             OPTOUT                   2              2       2   \n",
       "             TIMEDOUT                 6              6       6   \n",
       "central      FINISHED               462            462     462   \n",
       "             OPTOUT                  12             12      12   \n",
       "             TIMEDOUT               248            248     248   \n",
       "coast        FINISHED               141            141     141   \n",
       "             TIMEDOUT                67             67      66   \n",
       "eastern      FINISHED               379            379     379   \n",
       "             OPTOUT                   5              5       5   \n",
       "             TIMEDOUT               168            168     168   \n",
       "nairobi      FINISHED               757            757     756   \n",
       "             OPTOUT                  20             20      20   \n",
       "             TIMEDOUT               447            447     446   \n",
       "northeastern FINISHED                28             28      28   \n",
       "             TIMEDOUT                18             18      18   \n",
       "nyanza       FINISHED               541            541     541   \n",
       "             OPTOUT                   4              4       4   \n",
       "             TIMEDOUT               267            267     267   \n",
       "riftvalley   FINISHED              1381           1381    1380   \n",
       "             OPTOUT                  18             18      18   \n",
       "             TIMEDOUT               759            759     756   \n",
       "western      FINISHED               337            337     337   \n",
       "             OPTOUT                   8              8       8   \n",
       "             TIMEDOUT               151            151     151   \n",
       "\n",
       "                                living_standards_measure  highest_education  \\\n",
       "region       survey_completion                                                \n",
       "Coast        FINISHED                                  5                  5   \n",
       "             TIMEDOUT                                  4                  4   \n",
       "Nairobi      FINISHED                                 21                 21   \n",
       "             OPTOUT                                    2                  2   \n",
       "             TIMEDOUT                                  6                  6   \n",
       "central      FINISHED                                378                382   \n",
       "             OPTOUT                                    7                  6   \n",
       "             TIMEDOUT                                186                192   \n",
       "coast        FINISHED                                116                116   \n",
       "             TIMEDOUT                                 52                 53   \n",
       "eastern      FINISHED                                312                315   \n",
       "             OPTOUT                                    5                  5   \n",
       "             TIMEDOUT                                118                131   \n",
       "nairobi      FINISHED                                648                656   \n",
       "             OPTOUT                                   18                 18   \n",
       "             TIMEDOUT                                364                362   \n",
       "northeastern FINISHED                                 26                 25   \n",
       "             TIMEDOUT                                 14                 14   \n",
       "nyanza       FINISHED                                434                440   \n",
       "             OPTOUT                                    3                  3   \n",
       "             TIMEDOUT                                197                202   \n",
       "riftvalley   FINISHED                               1196               1205   \n",
       "             OPTOUT                                   15                 16   \n",
       "             TIMEDOUT                                624                630   \n",
       "western      FINISHED                                292                295   \n",
       "             OPTOUT                                    7                  7   \n",
       "             TIMEDOUT                                123                125   \n",
       "\n",
       "                                employment  internet_access  \\\n",
       "region       survey_completion                                \n",
       "Coast        FINISHED                    5                5   \n",
       "             TIMEDOUT                    4                3   \n",
       "Nairobi      FINISHED                   21               21   \n",
       "             OPTOUT                      2                2   \n",
       "             TIMEDOUT                    6                6   \n",
       "central      FINISHED                  458              423   \n",
       "             OPTOUT                     12               10   \n",
       "             TIMEDOUT                  246              221   \n",
       "coast        FINISHED                  138              123   \n",
       "             TIMEDOUT                   65               59   \n",
       "eastern      FINISHED                  374              346   \n",
       "             OPTOUT                      5                5   \n",
       "             TIMEDOUT                  167              147   \n",
       "nairobi      FINISHED                  750              692   \n",
       "             OPTOUT                     20               17   \n",
       "             TIMEDOUT                  434              395   \n",
       "northeastern FINISHED                   27               27   \n",
       "             TIMEDOUT                   17               16   \n",
       "nyanza       FINISHED                  535              488   \n",
       "             OPTOUT                      4                3   \n",
       "             TIMEDOUT                  262              237   \n",
       "riftvalley   FINISHED                 1369             1295   \n",
       "             OPTOUT                     18               18   \n",
       "             TIMEDOUT                  749              697   \n",
       "western      FINISHED                  333              320   \n",
       "             OPTOUT                      8                8   \n",
       "             TIMEDOUT                  151              135   \n",
       "\n",
       "                                cable_tv_subscription  \\\n",
       "region       survey_completion                          \n",
       "Coast        FINISHED                               5   \n",
       "             TIMEDOUT                               3   \n",
       "Nairobi      FINISHED                              21   \n",
       "             OPTOUT                                 2   \n",
       "             TIMEDOUT                               6   \n",
       "central      FINISHED                             393   \n",
       "             OPTOUT                                 7   \n",
       "             TIMEDOUT                             207   \n",
       "coast        FINISHED                             119   \n",
       "             TIMEDOUT                              54   \n",
       "eastern      FINISHED                             331   \n",
       "             OPTOUT                                 5   \n",
       "             TIMEDOUT                             139   \n",
       "nairobi      FINISHED                             654   \n",
       "             OPTOUT                                17   \n",
       "             TIMEDOUT                             366   \n",
       "northeastern FINISHED                              26   \n",
       "             TIMEDOUT                              15   \n",
       "nyanza       FINISHED                             458   \n",
       "             OPTOUT                                 3   \n",
       "             TIMEDOUT                             217   \n",
       "riftvalley   FINISHED                            1236   \n",
       "             OPTOUT                                17   \n",
       "             TIMEDOUT                             650   \n",
       "western      FINISHED                             305   \n",
       "             OPTOUT                                 7   \n",
       "             TIMEDOUT                             127   \n",
       "\n",
       "                                survey_participation_consent  bank_account  \\\n",
       "region       survey_completion                                               \n",
       "Coast        FINISHED                                      5             5   \n",
       "             TIMEDOUT                                      1             1   \n",
       "Nairobi      FINISHED                                     21            21   \n",
       "             OPTOUT                                        2             0   \n",
       "             TIMEDOUT                                      0             0   \n",
       "central      FINISHED                                    461           461   \n",
       "             OPTOUT                                       12             0   \n",
       "             TIMEDOUT                                     16            11   \n",
       "coast        FINISHED                                    141           140   \n",
       "             TIMEDOUT                                      6             4   \n",
       "eastern      FINISHED                                    379           379   \n",
       "             OPTOUT                                        5             0   \n",
       "             TIMEDOUT                                     10             6   \n",
       "nairobi      FINISHED                                    757           757   \n",
       "             OPTOUT                                       20             0   \n",
       "             TIMEDOUT                                     39            29   \n",
       "northeastern FINISHED                                     28            28   \n",
       "             TIMEDOUT                                      2             1   \n",
       "nyanza       FINISHED                                    541           541   \n",
       "             OPTOUT                                        4             0   \n",
       "             TIMEDOUT                                     28            19   \n",
       "riftvalley   FINISHED                                   1380          1377   \n",
       "             OPTOUT                                       18             0   \n",
       "             TIMEDOUT                                     56            35   \n",
       "western      FINISHED                                    337           337   \n",
       "             OPTOUT                                        8             0   \n",
       "             TIMEDOUT                                     15            11   \n",
       "\n",
       "                                bank  last_interaction_with_bank  \\\n",
       "region       survey_completion                                     \n",
       "Coast        FINISHED              5                           5   \n",
       "             TIMEDOUT              1                           1   \n",
       "Nairobi      FINISHED             19                          19   \n",
       "             OPTOUT                0                           0   \n",
       "             TIMEDOUT              0                           0   \n",
       "central      FINISHED            410                         410   \n",
       "             OPTOUT                0                           0   \n",
       "             TIMEDOUT              8                           5   \n",
       "coast        FINISHED            116                         116   \n",
       "             TIMEDOUT              3                           2   \n",
       "eastern      FINISHED            332                         332   \n",
       "             OPTOUT                0                           0   \n",
       "             TIMEDOUT              5                           5   \n",
       "nairobi      FINISHED            686                         686   \n",
       "             OPTOUT                0                           0   \n",
       "             TIMEDOUT             20                          15   \n",
       "northeastern FINISHED             17                          17   \n",
       "             TIMEDOUT              1                           1   \n",
       "nyanza       FINISHED            464                         464   \n",
       "             OPTOUT                0                           0   \n",
       "             TIMEDOUT             11                           9   \n",
       "riftvalley   FINISHED           1195                        1196   \n",
       "             OPTOUT                0                           0   \n",
       "             TIMEDOUT             28                          15   \n",
       "western      FINISHED            282                         282   \n",
       "             OPTOUT                0                           0   \n",
       "             TIMEDOUT              8                           5   \n",
       "\n",
       "                                likelihood_to_recommend  comment_on_why  \\\n",
       "region       survey_completion                                            \n",
       "Coast        FINISHED                                 5               5   \n",
       "             TIMEDOUT                                 0               0   \n",
       "Nairobi      FINISHED                                19              19   \n",
       "             OPTOUT                                   0               0   \n",
       "             TIMEDOUT                                 0               0   \n",
       "central      FINISHED                               410             410   \n",
       "             OPTOUT                                   0               0   \n",
       "             TIMEDOUT                                 4               0   \n",
       "coast        FINISHED                               116             116   \n",
       "             TIMEDOUT                                 1               0   \n",
       "eastern      FINISHED                               332             332   \n",
       "             OPTOUT                                   0               0   \n",
       "             TIMEDOUT                                 3               0   \n",
       "nairobi      FINISHED                               686             685   \n",
       "             OPTOUT                                   0               0   \n",
       "             TIMEDOUT                                 9               0   \n",
       "northeastern FINISHED                                17              17   \n",
       "             TIMEDOUT                                 1               0   \n",
       "nyanza       FINISHED                               464             463   \n",
       "             OPTOUT                                   0               0   \n",
       "             TIMEDOUT                                 5               0   \n",
       "riftvalley   FINISHED                              1196            1196   \n",
       "             OPTOUT                                   0               0   \n",
       "             TIMEDOUT                                 4               0   \n",
       "western      FINISHED                               282             282   \n",
       "             OPTOUT                                   0               0   \n",
       "             TIMEDOUT                                 4               0   \n",
       "\n",
       "                                themes  start_time(GMT)  \\\n",
       "region       survey_completion                            \n",
       "Coast        FINISHED                3                5   \n",
       "             TIMEDOUT                0                4   \n",
       "Nairobi      FINISHED               13               21   \n",
       "             OPTOUT                  0                2   \n",
       "             TIMEDOUT                0                6   \n",
       "central      FINISHED              321              462   \n",
       "             OPTOUT                  0               12   \n",
       "             TIMEDOUT                0              248   \n",
       "coast        FINISHED               86              141   \n",
       "             TIMEDOUT                0               67   \n",
       "eastern      FINISHED              259              379   \n",
       "             OPTOUT                  0                5   \n",
       "             TIMEDOUT                0              168   \n",
       "nairobi      FINISHED              516              757   \n",
       "             OPTOUT                  0               20   \n",
       "             TIMEDOUT                0              447   \n",
       "northeastern FINISHED               13               28   \n",
       "             TIMEDOUT                0               18   \n",
       "nyanza       FINISHED              368              541   \n",
       "             OPTOUT                  0                4   \n",
       "             TIMEDOUT                0              267   \n",
       "riftvalley   FINISHED              911             1381   \n",
       "             OPTOUT                  0               18   \n",
       "             TIMEDOUT                0              759   \n",
       "western      FINISHED              209              337   \n",
       "             OPTOUT                  0                8   \n",
       "             TIMEDOUT                0              151   \n",
       "\n",
       "                                time_of_last_update(GMT)  \n",
       "region       survey_completion                            \n",
       "Coast        FINISHED                                  5  \n",
       "             TIMEDOUT                                  4  \n",
       "Nairobi      FINISHED                                 21  \n",
       "             OPTOUT                                    2  \n",
       "             TIMEDOUT                                  6  \n",
       "central      FINISHED                                462  \n",
       "             OPTOUT                                   12  \n",
       "             TIMEDOUT                                248  \n",
       "coast        FINISHED                                141  \n",
       "             TIMEDOUT                                 67  \n",
       "eastern      FINISHED                                379  \n",
       "             OPTOUT                                    5  \n",
       "             TIMEDOUT                                168  \n",
       "nairobi      FINISHED                                757  \n",
       "             OPTOUT                                   20  \n",
       "             TIMEDOUT                                447  \n",
       "northeastern FINISHED                                 28  \n",
       "             TIMEDOUT                                 18  \n",
       "nyanza       FINISHED                                541  \n",
       "             OPTOUT                                    4  \n",
       "             TIMEDOUT                                267  \n",
       "riftvalley   FINISHED                               1381  \n",
       "             OPTOUT                                   18  \n",
       "             TIMEDOUT                                759  \n",
       "western      FINISHED                                337  \n",
       "             OPTOUT                                    8  \n",
       "             TIMEDOUT                                151  "
      ]
     },
     "execution_count": 35,
     "metadata": {
      "tags": []
     },
     "output_type": "execute_result"
    }
   ],
   "source": [
    "new_data.groupby(['region', 'survey_completion']).count()"
   ]
  },
  {
   "cell_type": "code",
   "execution_count": 36,
   "metadata": {
    "colab": {
     "base_uri": "https://localhost:8080/",
     "height": 896
    },
    "id": "grklGHFlZQjy",
    "outputId": "6bf16baf-27a6-44af-d15e-443111eb2703"
   },
   "outputs": [
    {
     "data": {
      "text/html": [
       "<div>\n",
       "<style scoped>\n",
       "    .dataframe tbody tr th:only-of-type {\n",
       "        vertical-align: middle;\n",
       "    }\n",
       "\n",
       "    .dataframe tbody tr th {\n",
       "        vertical-align: top;\n",
       "    }\n",
       "\n",
       "    .dataframe thead th {\n",
       "        text-align: right;\n",
       "    }\n",
       "</style>\n",
       "<table border=\"1\" class=\"dataframe\">\n",
       "  <thead>\n",
       "    <tr style=\"text-align: right;\">\n",
       "      <th></th>\n",
       "      <th>region</th>\n",
       "      <th>survey_completion</th>\n",
       "      <th>percent</th>\n",
       "    </tr>\n",
       "  </thead>\n",
       "  <tbody>\n",
       "    <tr>\n",
       "      <th>0</th>\n",
       "      <td>Coast</td>\n",
       "      <td>FINISHED</td>\n",
       "      <td>0.555556</td>\n",
       "    </tr>\n",
       "    <tr>\n",
       "      <th>1</th>\n",
       "      <td>Coast</td>\n",
       "      <td>TIMEDOUT</td>\n",
       "      <td>0.444444</td>\n",
       "    </tr>\n",
       "    <tr>\n",
       "      <th>2</th>\n",
       "      <td>Nairobi</td>\n",
       "      <td>FINISHED</td>\n",
       "      <td>0.724138</td>\n",
       "    </tr>\n",
       "    <tr>\n",
       "      <th>3</th>\n",
       "      <td>Nairobi</td>\n",
       "      <td>TIMEDOUT</td>\n",
       "      <td>0.206897</td>\n",
       "    </tr>\n",
       "    <tr>\n",
       "      <th>4</th>\n",
       "      <td>Nairobi</td>\n",
       "      <td>OPTOUT</td>\n",
       "      <td>0.068966</td>\n",
       "    </tr>\n",
       "    <tr>\n",
       "      <th>5</th>\n",
       "      <td>central</td>\n",
       "      <td>FINISHED</td>\n",
       "      <td>0.639889</td>\n",
       "    </tr>\n",
       "    <tr>\n",
       "      <th>6</th>\n",
       "      <td>central</td>\n",
       "      <td>TIMEDOUT</td>\n",
       "      <td>0.343490</td>\n",
       "    </tr>\n",
       "    <tr>\n",
       "      <th>7</th>\n",
       "      <td>central</td>\n",
       "      <td>OPTOUT</td>\n",
       "      <td>0.016620</td>\n",
       "    </tr>\n",
       "    <tr>\n",
       "      <th>8</th>\n",
       "      <td>coast</td>\n",
       "      <td>FINISHED</td>\n",
       "      <td>0.677885</td>\n",
       "    </tr>\n",
       "    <tr>\n",
       "      <th>9</th>\n",
       "      <td>coast</td>\n",
       "      <td>TIMEDOUT</td>\n",
       "      <td>0.322115</td>\n",
       "    </tr>\n",
       "    <tr>\n",
       "      <th>10</th>\n",
       "      <td>eastern</td>\n",
       "      <td>FINISHED</td>\n",
       "      <td>0.686594</td>\n",
       "    </tr>\n",
       "    <tr>\n",
       "      <th>11</th>\n",
       "      <td>eastern</td>\n",
       "      <td>TIMEDOUT</td>\n",
       "      <td>0.304348</td>\n",
       "    </tr>\n",
       "    <tr>\n",
       "      <th>12</th>\n",
       "      <td>eastern</td>\n",
       "      <td>OPTOUT</td>\n",
       "      <td>0.009058</td>\n",
       "    </tr>\n",
       "    <tr>\n",
       "      <th>13</th>\n",
       "      <td>nairobi</td>\n",
       "      <td>FINISHED</td>\n",
       "      <td>0.618464</td>\n",
       "    </tr>\n",
       "    <tr>\n",
       "      <th>14</th>\n",
       "      <td>nairobi</td>\n",
       "      <td>TIMEDOUT</td>\n",
       "      <td>0.365196</td>\n",
       "    </tr>\n",
       "    <tr>\n",
       "      <th>15</th>\n",
       "      <td>nairobi</td>\n",
       "      <td>OPTOUT</td>\n",
       "      <td>0.016340</td>\n",
       "    </tr>\n",
       "    <tr>\n",
       "      <th>16</th>\n",
       "      <td>northeastern</td>\n",
       "      <td>FINISHED</td>\n",
       "      <td>0.608696</td>\n",
       "    </tr>\n",
       "    <tr>\n",
       "      <th>17</th>\n",
       "      <td>northeastern</td>\n",
       "      <td>TIMEDOUT</td>\n",
       "      <td>0.391304</td>\n",
       "    </tr>\n",
       "    <tr>\n",
       "      <th>18</th>\n",
       "      <td>nyanza</td>\n",
       "      <td>FINISHED</td>\n",
       "      <td>0.666256</td>\n",
       "    </tr>\n",
       "    <tr>\n",
       "      <th>19</th>\n",
       "      <td>nyanza</td>\n",
       "      <td>TIMEDOUT</td>\n",
       "      <td>0.328818</td>\n",
       "    </tr>\n",
       "    <tr>\n",
       "      <th>20</th>\n",
       "      <td>nyanza</td>\n",
       "      <td>OPTOUT</td>\n",
       "      <td>0.004926</td>\n",
       "    </tr>\n",
       "    <tr>\n",
       "      <th>21</th>\n",
       "      <td>riftvalley</td>\n",
       "      <td>FINISHED</td>\n",
       "      <td>0.639944</td>\n",
       "    </tr>\n",
       "    <tr>\n",
       "      <th>22</th>\n",
       "      <td>riftvalley</td>\n",
       "      <td>TIMEDOUT</td>\n",
       "      <td>0.351715</td>\n",
       "    </tr>\n",
       "    <tr>\n",
       "      <th>23</th>\n",
       "      <td>riftvalley</td>\n",
       "      <td>OPTOUT</td>\n",
       "      <td>0.008341</td>\n",
       "    </tr>\n",
       "    <tr>\n",
       "      <th>24</th>\n",
       "      <td>western</td>\n",
       "      <td>FINISHED</td>\n",
       "      <td>0.679435</td>\n",
       "    </tr>\n",
       "    <tr>\n",
       "      <th>25</th>\n",
       "      <td>western</td>\n",
       "      <td>TIMEDOUT</td>\n",
       "      <td>0.304435</td>\n",
       "    </tr>\n",
       "    <tr>\n",
       "      <th>26</th>\n",
       "      <td>western</td>\n",
       "      <td>OPTOUT</td>\n",
       "      <td>0.016129</td>\n",
       "    </tr>\n",
       "  </tbody>\n",
       "</table>\n",
       "</div>"
      ],
      "text/plain": [
       "          region survey_completion   percent\n",
       "0          Coast          FINISHED  0.555556\n",
       "1          Coast          TIMEDOUT  0.444444\n",
       "2        Nairobi          FINISHED  0.724138\n",
       "3        Nairobi          TIMEDOUT  0.206897\n",
       "4        Nairobi            OPTOUT  0.068966\n",
       "5        central          FINISHED  0.639889\n",
       "6        central          TIMEDOUT  0.343490\n",
       "7        central            OPTOUT  0.016620\n",
       "8          coast          FINISHED  0.677885\n",
       "9          coast          TIMEDOUT  0.322115\n",
       "10       eastern          FINISHED  0.686594\n",
       "11       eastern          TIMEDOUT  0.304348\n",
       "12       eastern            OPTOUT  0.009058\n",
       "13       nairobi          FINISHED  0.618464\n",
       "14       nairobi          TIMEDOUT  0.365196\n",
       "15       nairobi            OPTOUT  0.016340\n",
       "16  northeastern          FINISHED  0.608696\n",
       "17  northeastern          TIMEDOUT  0.391304\n",
       "18        nyanza          FINISHED  0.666256\n",
       "19        nyanza          TIMEDOUT  0.328818\n",
       "20        nyanza            OPTOUT  0.004926\n",
       "21    riftvalley          FINISHED  0.639944\n",
       "22    riftvalley          TIMEDOUT  0.351715\n",
       "23    riftvalley            OPTOUT  0.008341\n",
       "24       western          FINISHED  0.679435\n",
       "25       western          TIMEDOUT  0.304435\n",
       "26       western            OPTOUT  0.016129"
      ]
     },
     "execution_count": 36,
     "metadata": {
      "tags": []
     },
     "output_type": "execute_result"
    }
   ],
   "source": [
    "l = new_data.groupby(['region'])\n",
    "pct = l.survey_completion.value_counts(normalize = True).reset_index(name = 'percent')\n",
    "pct"
   ]
  },
  {
   "cell_type": "code",
   "execution_count": 37,
   "metadata": {
    "colab": {
     "base_uri": "https://localhost:8080/",
     "height": 383
    },
    "id": "h3HEhpLyXPo-",
    "outputId": "2f164ed0-346e-4952-bb9e-b8fb8271a96f"
   },
   "outputs": [
    {
     "data": {
      "image/png": "[encoded data removed]",
      "text/plain": [
       "<Figure size 462.125x360 with 1 Axes>"
      ]
     },
     "metadata": {
      "needs_background": "light",
      "tags": []
     },
     "output_type": "display_data"
    }
   ],
   "source": [
    "# a4_dims = (11.7, 8.27)\n",
    "# fig, ax = plt.subplots(figsize=a4_dims)\n",
    "\n",
    "fig = sns.catplot(x = 'region', y= 'percent',\n",
    "            hue = 'survey_completion',data=pct, kind = 'bar')\n",
    "\n",
    "# ax.set_xticklabels(pct.region)\n",
    "# for item in ax.get_xticklabels(): item.set_rotation(30)"
   ]
  },
  {
   "cell_type": "markdown",
   "metadata": {
    "id": "KogOri2hXC6U"
   },
   "source": [
    "### Bank"
   ]
  },
  {
   "cell_type": "code",
   "execution_count": 38,
   "metadata": {
    "colab": {
     "base_uri": "https://localhost:8080/"
    },
    "id": "tzaQrWHNbI_w",
    "outputId": "642b1ce9-9c2b-4cf8-f411-373e62c88be7"
   },
   "outputs": [
    {
     "data": {
      "text/plain": [
       "bank                survey_completion\n",
       "Barclays            FINISHED             0.974359\n",
       "                    TIMEDOUT             0.025641\n",
       "CBA                 FINISHED             0.942857\n",
       "                    TIMEDOUT             0.057143\n",
       "Co-operative        FINISHED             0.980420\n",
       "                    TIMEDOUT             0.019580\n",
       "Diamond Trust Bank  FINISHED             0.960000\n",
       "                    TIMEDOUT             0.040000\n",
       "Equity              FINISHED             0.978676\n",
       "                    TIMEDOUT             0.021324\n",
       "I&M                 FINISHED             1.000000\n",
       "KCB                 FINISHED             0.971576\n",
       "                    TIMEDOUT             0.028424\n",
       "NIC                 FINISHED             0.947368\n",
       "                    TIMEDOUT             0.052632\n",
       "National Bank       FINISHED             0.981982\n",
       "                    TIMEDOUT             0.018018\n",
       "Other               FINISHED             0.963415\n",
       "                    TIMEDOUT             0.036585\n",
       "Stanbic Bank        FINISHED             0.956522\n",
       "                    TIMEDOUT             0.043478\n",
       "Standard Chartered  FINISHED             0.960000\n",
       "                    TIMEDOUT             0.040000\n",
       "Name: survey_completion, dtype: float64"
      ]
     },
     "execution_count": 38,
     "metadata": {
      "tags": []
     },
     "output_type": "execute_result"
    }
   ],
   "source": [
    "l = new_data.groupby(['bank'])\n",
    "pct = l.survey_completion.value_counts(normalize = True)\n",
    "pct"
   ]
  },
  {
   "cell_type": "code",
   "execution_count": 39,
   "metadata": {
    "colab": {
     "base_uri": "https://localhost:8080/",
     "height": 560
    },
    "id": "y52xo51sYrbE",
    "outputId": "5fd9af67-1144-43f9-a3c5-70fd317fd1ef"
   },
   "outputs": [
    {
     "data": {
      "image/png": "[encoded data removed]",
      "text/plain": [
       "<Figure size 842.4x595.44 with 1 Axes>"
      ]
     },
     "metadata": {
      "needs_background": "light",
      "tags": []
     },
     "output_type": "display_data"
    }
   ],
   "source": [
    "a4_dims = (11.7, 8.27)\n",
    "fig, ax = plt.subplots(figsize=a4_dims)\n",
    "\n",
    "sns.countplot(x = 'bank', \n",
    "            hue = 'survey_completion',data=new_data)\n",
    "\n",
    "ax.set_xticklabels(new_data.bank)\n",
    "for item in ax.get_xticklabels(): item.set_rotation(30)"
   ]
  },
  {
   "cell_type": "markdown",
   "metadata": {
    "id": "ZLNEch0RXDSo"
   },
   "source": [
    "### Time of Day"
   ]
  },
  {
   "cell_type": "code",
   "execution_count": 40,
   "metadata": {
    "colab": {
     "base_uri": "https://localhost:8080/"
    },
    "id": "GjRHCjsDbQv9",
    "outputId": "2d2f6315-277f-420d-dfec-e9592fbcf103"
   },
   "outputs": [
    {
     "data": {
      "text/plain": [
       "region        survey_completion\n",
       "Coast         FINISHED             0.555556\n",
       "              TIMEDOUT             0.444444\n",
       "Nairobi       FINISHED             0.724138\n",
       "              TIMEDOUT             0.206897\n",
       "              OPTOUT               0.068966\n",
       "central       FINISHED             0.639889\n",
       "              TIMEDOUT             0.343490\n",
       "              OPTOUT               0.016620\n",
       "coast         FINISHED             0.677885\n",
       "              TIMEDOUT             0.322115\n",
       "eastern       FINISHED             0.686594\n",
       "              TIMEDOUT             0.304348\n",
       "              OPTOUT               0.009058\n",
       "nairobi       FINISHED             0.618464\n",
       "              TIMEDOUT             0.365196\n",
       "              OPTOUT               0.016340\n",
       "northeastern  FINISHED             0.608696\n",
       "              TIMEDOUT             0.391304\n",
       "nyanza        FINISHED             0.666256\n",
       "              TIMEDOUT             0.328818\n",
       "              OPTOUT               0.004926\n",
       "riftvalley    FINISHED             0.639944\n",
       "              TIMEDOUT             0.351715\n",
       "              OPTOUT               0.008341\n",
       "western       FINISHED             0.679435\n",
       "              TIMEDOUT             0.304435\n",
       "              OPTOUT               0.016129\n",
       "Name: survey_completion, dtype: float64"
      ]
     },
     "execution_count": 40,
     "metadata": {
      "tags": []
     },
     "output_type": "execute_result"
    }
   ],
   "source": [
    "l = new_data.groupby(['region'])\n",
    "pct = l.survey_completion.value_counts(normalize = True)\n",
    "pct "
   ]
  },
  {
   "cell_type": "code",
   "execution_count": 41,
   "metadata": {
    "id": "DrPN_YEpowKX"
   },
   "outputs": [],
   "source": [
    "# ceate new column with response rate\n",
    "# create 5 graphs comparing how the response rate varies "
   ]
  },
  {
   "cell_type": "markdown",
   "metadata": {
    "id": "PPxA4IF9maLg"
   },
   "source": [
    "### 5. What themes are most associated with the likelihood to recommend a bank?"
   ]
  },
  {
   "cell_type": "code",
   "execution_count": 42,
   "metadata": {
    "id": "n_Q-MPYYmGko"
   },
   "outputs": [],
   "source": [
    "#break down themes plot graph\n",
    "#group likelihoods 0-3 4-6 7-8 9-10"
   ]
  },
  {
   "cell_type": "code",
   "execution_count": 47,
   "metadata": {
    "id": "91b5OmaMfaJf"
   },
   "outputs": [],
   "source": [
    "# drop missing values for likelihood\n",
    "themes_data = new_data.dropna()"
   ]
  },
  {
   "cell_type": "code",
   "execution_count": 48,
   "metadata": {
    "colab": {
     "base_uri": "https://localhost:8080/"
    },
    "id": "R948z_zNp3wJ",
    "outputId": "b9dc5b67-77e4-4f66-f32d-aa3944b1a90d"
   },
   "outputs": [
    {
     "data": {
      "text/plain": [
       "service                                  708\n",
       "speed/efficiency                         329\n",
       "service,speed/efficiency                 232\n",
       "accessibility                            156\n",
       "accessibility,speed/efficiency            71\n",
       "                                        ... \n",
       "mobile_banking,speed/efficiency,staff      1\n",
       "atm,rates/charges                          1\n",
       "account,service,staff                      1\n",
       "atm,service,system                         1\n",
       "account,mobile_banking,rates/charges       1\n",
       "Name: themes, Length: 180, dtype: int64"
      ]
     },
     "execution_count": 48,
     "metadata": {
      "tags": []
     },
     "output_type": "execute_result"
    }
   ],
   "source": [
    "themes_data['themes'].value_counts()"
   ]
  },
  {
   "cell_type": "code",
   "execution_count": 49,
   "metadata": {
    "colab": {
     "base_uri": "https://localhost:8080/"
    },
    "id": "DPdQmP9Yfkfy",
    "outputId": "2f7afc67-ec57-4813-d7ee-83d8dc4c6808"
   },
   "outputs": [
    {
     "data": {
      "text/plain": [
       "2225"
      ]
     },
     "execution_count": 49,
     "metadata": {
      "tags": []
     },
     "output_type": "execute_result"
    }
   ],
   "source": [
    "len(themes_data)"
   ]
  },
  {
   "cell_type": "code",
   "execution_count": 50,
   "metadata": {
    "colab": {
     "base_uri": "https://localhost:8080/"
    },
    "id": "CZVXwCP2aa0H",
    "outputId": "39cb0a78-3383-488e-ee4f-9c65f861a3f7"
   },
   "outputs": [
    {
     "data": {
      "text/plain": [
       "4118"
      ]
     },
     "execution_count": 50,
     "metadata": {
      "tags": []
     },
     "output_type": "execute_result"
    }
   ],
   "source": [
    "#Reindex and repeat cols on len of split and reset index\n",
    "df1 = themes_data.reindex(themes_data.index.repeat(themes_data['themes'].fillna(\"\").str.split(',').apply(len)))\n",
    "df1 = df1.drop(['themes'],1)\n",
    "\n",
    "# Splitting both cols\n",
    "s = new_data['themes'].str.split(',', expand=True).stack().reset_index(level=1,drop=True)\n",
    "\n",
    "# Now grouping the series and df using cumcount.\n",
    "df1 = df1.set_index(df1.groupby(df1.index).cumcount(), append=True)\n",
    "s = s.to_frame('themes').set_index(s.groupby(s.index).cumcount(), append=True)\n",
    "\n",
    "# Joining the all of them together and reset index.\n",
    "df1 = df1.join(s, how='outer').reset_index(level=[0,1],drop=True)\n",
    "\n",
    "len(df1)"
   ]
  },
  {
   "cell_type": "code",
   "execution_count": 51,
   "metadata": {
    "colab": {
     "base_uri": "https://localhost:8080/"
    },
    "id": "kKXYC49QbHvk",
    "outputId": "22dbe054-5be7-49e3-b4a9-dd4336b5bcaa"
   },
   "outputs": [
    {
     "data": {
      "text/plain": [
       "service                      1478\n",
       "speed/efficiency             1019\n",
       "accessibility                 543\n",
       "rates/charges                 219\n",
       "account                       201\n",
       "staff                         197\n",
       "mobile_banking                 99\n",
       "security                       96\n",
       "atm                            68\n",
       "loan                           57\n",
       "system                         48\n",
       "facilities                     44\n",
       "information/communication      28\n",
       "online_banking                 18\n",
       "affordability                   1\n",
       "new product                     1\n",
       "resolved                        1\n",
       "Name: themes, dtype: int64"
      ]
     },
     "execution_count": 51,
     "metadata": {
      "tags": []
     },
     "output_type": "execute_result"
    }
   ],
   "source": [
    "df1['themes'].value_counts()"
   ]
  },
  {
   "cell_type": "code",
   "execution_count": 52,
   "metadata": {
    "colab": {
     "base_uri": "https://localhost:8080/"
    },
    "id": "xIa-cIm_dyo6",
    "outputId": "eb564ebb-c5b2-4241-c9ce-ee5848a0ada1"
   },
   "outputs": [
    {
     "name": "stdout",
     "output_type": "stream",
     "text": [
      "Collecting plotly_express\n",
      "  Downloading https://files.pythonhosted.org/packages/d4/d6/8a2906f51e073a4be80cab35cfa10e7a34853e60f3ed5304ac470852a08d/plotly_express-0.4.1-py2.py3-none-any.whl\n",
      "Requirement already satisfied: numpy>=1.11 in /usr/local/lib/python3.6/dist-packages (from plotly_express) (1.19.5)\n",
      "Requirement already satisfied: plotly>=4.1.0 in /usr/local/lib/python3.6/dist-packages (from plotly_express) (4.4.1)\n",
      "Requirement already satisfied: statsmodels>=0.9.0 in /usr/local/lib/python3.6/dist-packages (from plotly_express) (0.10.2)\n",
      "Requirement already satisfied: scipy>=0.18 in /usr/local/lib/python3.6/dist-packages (from plotly_express) (1.4.1)\n",
      "Requirement already satisfied: pandas>=0.20.0 in /usr/local/lib/python3.6/dist-packages (from plotly_express) (1.1.5)\n",
      "Requirement already satisfied: patsy>=0.5 in /usr/local/lib/python3.6/dist-packages (from plotly_express) (0.5.1)\n",
      "Requirement already satisfied: six in /usr/local/lib/python3.6/dist-packages (from plotly>=4.1.0->plotly_express) (1.15.0)\n",
      "Requirement already satisfied: retrying>=1.3.3 in /usr/local/lib/python3.6/dist-packages (from plotly>=4.1.0->plotly_express) (1.3.3)\n",
      "Requirement already satisfied: pytz>=2017.2 in /usr/local/lib/python3.6/dist-packages (from pandas>=0.20.0->plotly_express) (2018.9)\n",
      "Requirement already satisfied: python-dateutil>=2.7.3 in /usr/local/lib/python3.6/dist-packages (from pandas>=0.20.0->plotly_express) (2.8.1)\n",
      "Installing collected packages: plotly-express\n",
      "Successfully installed plotly-express-0.4.1\n"
     ]
    }
   ],
   "source": [
    "! pip install plotly_express"
   ]
  },
  {
   "cell_type": "code",
   "execution_count": 53,
   "metadata": {
    "colab": {
     "base_uri": "https://localhost:8080/",
     "height": 846
    },
    "id": "3hU_tK6Ebl5s",
    "outputId": "9a5f0462-c542-4086-c029-e07d23a9401c"
   },
   "outputs": [
    {
     "data": {
      "text/plain": [
       "<matplotlib.axes._subplots.AxesSubplot at 0x7f0da5963978>"
      ]
     },
     "execution_count": 53,
     "metadata": {
      "tags": []
     },
     "output_type": "execute_result"
    },
    {
     "data": {
      "image/png": "[encoded data removed]",
      "text/plain": [
       "<Figure size 842.4x595.44 with 1 Axes>"
      ]
     },
     "metadata": {
      "needs_background": "light",
      "tags": []
     },
     "output_type": "display_data"
    },
    {
     "data": {
      "image/png": "[encoded data removed]",
      "text/plain": [
       "<Figure size 432x288 with 1 Axes>"
      ]
     },
     "metadata": {
      "needs_background": "light",
      "tags": []
     },
     "output_type": "display_data"
    }
   ],
   "source": [
    "import plotly.express as px\n",
    "\n",
    "a4_dims = (11.7, 8.27)\n",
    "fig, ax = plt.subplots(figsize=a4_dims)\n",
    " \n",
    "df_plot = df1.groupby(['likelihood_to_recommend', 'themes']).size().reset_index().pivot(columns='themes', index='likelihood_to_recommend', values=0)\n",
    "df_plot.plot(kind='bar', stacked=True)\n"
   ]
  },
  {
   "cell_type": "code",
   "execution_count": 44,
   "metadata": {
    "id": "5gsrZqlWFj3V"
   },
   "outputs": [],
   "source": []
  }
 ],
 "metadata": {
  "colab": {
   "collapsed_sections": [],
   "name": "Part_1.ipynb",
   "provenance": []
  },
  "kernelspec": {
   "display_name": "Python 3",
   "language": "python",
   "name": "python3"
  },
  "language_info": {
   "codemirror_mode": {
    "name": "ipython",
    "version": 3
   },
   "file_extension": ".py",
   "mimetype": "text/x-python",
   "name": "python",
   "nbconvert_exporter": "python",
   "pygments_lexer": "ipython3",
   "version": "3.7.9"
  }
 },
 "nbformat": 4,
 "nbformat_minor": 1
}
