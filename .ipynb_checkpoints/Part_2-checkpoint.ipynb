{
 "cells": [
  {
   "cell_type": "markdown",
   "metadata": {
    "toc": true
   },
   "source": [
    "<h1>Table of Contents<span class=\"tocSkip\"></span></h1>\n",
    "<div class=\"toc\"><ul class=\"toc-item\"><li><span><a href=\"#Modelling\" data-toc-modified-id=\"Modelling-1\"><span class=\"toc-item-num\">1&nbsp;&nbsp;</span>Modelling</a></span><ul class=\"toc-item\"><li><ul class=\"toc-item\"><li><span><a href=\"#1.-Using-off-the-shelf-trained-models,-perform-sentiment-analysis-on-the-comments-provided-by-customers-and-establish-if-there-is-harmony-between-the-classification/polarity-and-the-likelihood-to-recommend.\" data-toc-modified-id=\"1.-Using-off-the-shelf-trained-models,-perform-sentiment-analysis-on-the-comments-provided-by-customers-and-establish-if-there-is-harmony-between-the-classification/polarity-and-the-likelihood-to-recommend.-1.0.1\"><span class=\"toc-item-num\">1.0.1&nbsp;&nbsp;</span>1. Using off the shelf trained models, perform sentiment analysis on the comments provided by customers and establish if there is harmony between the classification/polarity and the likelihood to recommend.</a></span></li><li><span><a href=\"#Sentiment-Analysis-using-Flair\" data-toc-modified-id=\"Sentiment-Analysis-using-Flair-1.0.2\"><span class=\"toc-item-num\">1.0.2&nbsp;&nbsp;</span>Sentiment Analysis using Flair</a></span></li><li><span><a href=\"#Compare-Sentiment-confidence-and-how-one-is-likely-to-recommend\" data-toc-modified-id=\"Compare-Sentiment-confidence-and-how-one-is-likely-to-recommend-1.0.3\"><span class=\"toc-item-num\">1.0.3&nbsp;&nbsp;</span>Compare Sentiment confidence and how one is likely to recommend</a></span></li><li><span><a href=\"#2.-Using-appropriate-performance-metrics,-compare-various-learning-algorithms-to-determine-the-possibility-of-predicting-the-likelihood-to-respond-to-a-survey-based-on-the-demographic-characteristics-as-well-as-the-time-and-day.-Outline-the-response-variable-definition-process-as-well-as-the-feature-selection-process,-with-a-focus-on-interpretability.\" data-toc-modified-id=\"2.-Using-appropriate-performance-metrics,-compare-various-learning-algorithms-to-determine-the-possibility-of-predicting-the-likelihood-to-respond-to-a-survey-based-on-the-demographic-characteristics-as-well-as-the-time-and-day.-Outline-the-response-variable-definition-process-as-well-as-the-feature-selection-process,-with-a-focus-on-interpretability.-1.0.4\"><span class=\"toc-item-num\">1.0.4&nbsp;&nbsp;</span>2. Using appropriate performance metrics, compare various learning algorithms to determine the possibility of predicting the likelihood to respond to a survey based on the demographic characteristics as well as the time and day. Outline the response variable definition process as well as the feature selection process, with a focus on interpretability.</a></span></li></ul></li></ul></li></ul></div>"
   ]
  },
  {
   "cell_type": "code",
   "execution_count": 1,
   "metadata": {
    "colab": {
     "base_uri": "https://localhost:8080/"
    },
    "id": "RV6dAELasJMp",
    "outputId": "b7bdc597-ec96-496c-db66-c33b71cc1012"
   },
   "outputs": [
    {
     "name": "stdout",
     "output_type": "stream",
     "text": [
      "Mounted at /content/gdrive\n"
     ]
    }
   ],
   "source": [
    "from google.colab import drive\n",
    "drive.mount('/content/gdrive')"
   ]
  },
  {
   "cell_type": "code",
   "execution_count": 8,
   "metadata": {
    "colab": {
     "base_uri": "https://localhost:8080/"
    },
    "id": "SUI6RT7csNpK",
    "outputId": "add04cdf-5202-4e4d-da1a-81f23eddd613"
   },
   "outputs": [
    {
     "name": "stdout",
     "output_type": "stream",
     "text": [
      "/content/gdrive/MyDrive/Ajua_Test\n"
     ]
    }
   ],
   "source": [
    "%cd /content/gdrive/MyDrive/Ajua_Test"
   ]
  },
  {
   "cell_type": "markdown",
   "metadata": {
    "id": "f0Df5C6vsTx3"
   },
   "source": [
    "# Modelling"
   ]
  },
  {
   "cell_type": "markdown",
   "metadata": {
    "id": "qVtWHZcSuz5z"
   },
   "source": [
    "### 1. Using off the shelf trained models, perform sentiment analysis on the comments provided by customers and establish if there is harmony between the classification/polarity and the likelihood to recommend."
   ]
  },
  {
   "cell_type": "code",
   "execution_count": 9,
   "metadata": {
    "id": "F-dl58Y5suTA"
   },
   "outputs": [],
   "source": [
    "# importing necessary libraries\n",
    "import pandas as pd\n",
    "import numpy as np"
   ]
  },
  {
   "cell_type": "code",
   "execution_count": 10,
   "metadata": {
    "id": "89r-qAcIsuQY"
   },
   "outputs": [],
   "source": [
    "# loading in the cleaned dataset\n",
    "# load in the data\n",
    "data = pd.read_csv(\"data.csv\")"
   ]
  },
  {
   "cell_type": "code",
   "execution_count": 11,
   "metadata": {
    "id": "RMMn7FV7jXS4"
   },
   "outputs": [],
   "source": [
    "#change all the dashes (-) to NA\n",
    "new_data = data.replace('-', np.NaN)"
   ]
  },
  {
   "cell_type": "code",
   "execution_count": 12,
   "metadata": {
    "colab": {
     "base_uri": "https://localhost:8080/",
     "height": 348
    },
    "id": "ApUwzAGdjZ_P",
    "outputId": "ca629976-6f1e-4d98-93a2-597bd9bdd02c"
   },
   "outputs": [
    {
     "data": {
      "text/html": [
       "<div>\n",
       "<style scoped>\n",
       "    .dataframe tbody tr th:only-of-type {\n",
       "        vertical-align: middle;\n",
       "    }\n",
       "\n",
       "    .dataframe tbody tr th {\n",
       "        vertical-align: top;\n",
       "    }\n",
       "\n",
       "    .dataframe thead th {\n",
       "        text-align: right;\n",
       "    }\n",
       "</style>\n",
       "<table border=\"1\" class=\"dataframe\">\n",
       "  <thead>\n",
       "    <tr style=\"text-align: right;\">\n",
       "      <th></th>\n",
       "      <th>user_id</th>\n",
       "      <th>year_of_birth</th>\n",
       "      <th>gender</th>\n",
       "      <th>region</th>\n",
       "      <th>living_standards_measure</th>\n",
       "      <th>highest_education</th>\n",
       "      <th>employment</th>\n",
       "      <th>internet_access</th>\n",
       "      <th>cable_tv_subscription</th>\n",
       "      <th>survey_completion</th>\n",
       "      <th>survey_participation_consent</th>\n",
       "      <th>bank_account</th>\n",
       "      <th>bank</th>\n",
       "      <th>last_interaction_with_bank</th>\n",
       "      <th>likelihood_to_recommend</th>\n",
       "      <th>comment_on_why</th>\n",
       "      <th>themes</th>\n",
       "      <th>start_time(GMT)</th>\n",
       "      <th>time_of_last_update(GMT)</th>\n",
       "    </tr>\n",
       "  </thead>\n",
       "  <tbody>\n",
       "    <tr>\n",
       "      <th>0</th>\n",
       "      <td>358646</td>\n",
       "      <td>1991.0</td>\n",
       "      <td>Prefer not to answer</td>\n",
       "      <td>NaN</td>\n",
       "      <td>NaN</td>\n",
       "      <td>NaN</td>\n",
       "      <td>Student</td>\n",
       "      <td>Yes</td>\n",
       "      <td>No</td>\n",
       "      <td>TIMEDOUT</td>\n",
       "      <td>NaN</td>\n",
       "      <td>NaN</td>\n",
       "      <td>NaN</td>\n",
       "      <td>NaN</td>\n",
       "      <td>NaN</td>\n",
       "      <td>NaN</td>\n",
       "      <td>NaN</td>\n",
       "      <td>18:34.6</td>\n",
       "      <td>00:09.9</td>\n",
       "    </tr>\n",
       "    <tr>\n",
       "      <th>1</th>\n",
       "      <td>18003003</td>\n",
       "      <td>1984.0</td>\n",
       "      <td>Female</td>\n",
       "      <td>coast</td>\n",
       "      <td>5 to 8</td>\n",
       "      <td>Completed Secondary</td>\n",
       "      <td>Student</td>\n",
       "      <td>Yes</td>\n",
       "      <td>Yes</td>\n",
       "      <td>FINISHED</td>\n",
       "      <td>YES</td>\n",
       "      <td>Yes</td>\n",
       "      <td>KCB</td>\n",
       "      <td>Teller or Branch transactions</td>\n",
       "      <td>5</td>\n",
       "      <td>Safrcom don''t allow 1 person to Bank more tha...</td>\n",
       "      <td>speed/efficiency</td>\n",
       "      <td>00:02.9</td>\n",
       "      <td>16:14.6</td>\n",
       "    </tr>\n",
       "    <tr>\n",
       "      <th>2</th>\n",
       "      <td>5618870</td>\n",
       "      <td>1994.0</td>\n",
       "      <td>Male</td>\n",
       "      <td>riftvalley</td>\n",
       "      <td>5 to 8</td>\n",
       "      <td>Completed College</td>\n",
       "      <td>Student</td>\n",
       "      <td>Yes</td>\n",
       "      <td>No</td>\n",
       "      <td>FINISHED</td>\n",
       "      <td>YES</td>\n",
       "      <td>Yes</td>\n",
       "      <td>National Bank</td>\n",
       "      <td>Mobile banking</td>\n",
       "      <td>10</td>\n",
       "      <td>They offer good services</td>\n",
       "      <td>service</td>\n",
       "      <td>00:03.0</td>\n",
       "      <td>05:11.0</td>\n",
       "    </tr>\n",
       "    <tr>\n",
       "      <th>3</th>\n",
       "      <td>2951848</td>\n",
       "      <td>1995.0</td>\n",
       "      <td>Female</td>\n",
       "      <td>riftvalley</td>\n",
       "      <td>NaN</td>\n",
       "      <td>NaN</td>\n",
       "      <td>Other/Unemployed</td>\n",
       "      <td>Yes</td>\n",
       "      <td>NaN</td>\n",
       "      <td>TIMEDOUT</td>\n",
       "      <td>NaN</td>\n",
       "      <td>NaN</td>\n",
       "      <td>NaN</td>\n",
       "      <td>NaN</td>\n",
       "      <td>NaN</td>\n",
       "      <td>NaN</td>\n",
       "      <td>NaN</td>\n",
       "      <td>00:03.0</td>\n",
       "      <td>00:09.1</td>\n",
       "    </tr>\n",
       "    <tr>\n",
       "      <th>4</th>\n",
       "      <td>17386348</td>\n",
       "      <td>1999.0</td>\n",
       "      <td>Male</td>\n",
       "      <td>coast</td>\n",
       "      <td>9 to 12</td>\n",
       "      <td>In Uni</td>\n",
       "      <td>Student</td>\n",
       "      <td>Yes</td>\n",
       "      <td>Yes</td>\n",
       "      <td>FINISHED</td>\n",
       "      <td>YES</td>\n",
       "      <td>Yes</td>\n",
       "      <td>Equity</td>\n",
       "      <td>Teller or Branch transactions</td>\n",
       "      <td>7</td>\n",
       "      <td>Transaction cost are affordable</td>\n",
       "      <td>account,rates/charges</td>\n",
       "      <td>00:03.0</td>\n",
       "      <td>03:13.8</td>\n",
       "    </tr>\n",
       "  </tbody>\n",
       "</table>\n",
       "</div>"
      ],
      "text/plain": [
       "    user_id  year_of_birth  ... start_time(GMT) time_of_last_update(GMT)\n",
       "0    358646         1991.0  ...         18:34.6                  00:09.9\n",
       "1  18003003         1984.0  ...         00:02.9                  16:14.6\n",
       "2   5618870         1994.0  ...         00:03.0                  05:11.0\n",
       "3   2951848         1995.0  ...         00:03.0                  00:09.1\n",
       "4  17386348         1999.0  ...         00:03.0                  03:13.8\n",
       "\n",
       "[5 rows x 19 columns]"
      ]
     },
     "execution_count": 12,
     "metadata": {
      "tags": []
     },
     "output_type": "execute_result"
    }
   ],
   "source": [
    "new_data.head()"
   ]
  },
  {
   "cell_type": "code",
   "execution_count": 13,
   "metadata": {
    "colab": {
     "base_uri": "https://localhost:8080/"
    },
    "id": "uJq-3AC5jxJZ",
    "outputId": "0fd72664-1a2b-4f2b-e3a8-d5b3c9328797"
   },
   "outputs": [
    {
     "data": {
      "text/plain": [
       "2865"
      ]
     },
     "execution_count": 13,
     "metadata": {
      "tags": []
     },
     "output_type": "execute_result"
    }
   ],
   "source": [
    "new_data['comment_on_why'].isna().sum()"
   ]
  },
  {
   "cell_type": "code",
   "execution_count": 14,
   "metadata": {
    "id": "3xgj4wZ6j9fp"
   },
   "outputs": [],
   "source": [
    "#filter data to have userid, likelihood to recommend and comment on why\n",
    "\n",
    "comments_data = new_data[['user_id','comment_on_why', 'likelihood_to_recommend']]"
   ]
  },
  {
   "cell_type": "code",
   "execution_count": 15,
   "metadata": {
    "id": "J1OiClS6kU1u"
   },
   "outputs": [],
   "source": [
    "# drop NaN rows \n",
    "\n",
    "non_na_comments = comments_data.dropna()"
   ]
  },
  {
   "cell_type": "code",
   "execution_count": 16,
   "metadata": {
    "colab": {
     "base_uri": "https://localhost:8080/"
    },
    "id": "vVXZUV8yk06L",
    "outputId": "fad95bab-f885-4226-9f0b-caf963da65ff"
   },
   "outputs": [
    {
     "data": {
      "text/plain": [
       "3599"
      ]
     },
     "execution_count": 16,
     "metadata": {
      "tags": []
     },
     "output_type": "execute_result"
    }
   ],
   "source": [
    "len(non_na_comments)"
   ]
  },
  {
   "cell_type": "code",
   "execution_count": 17,
   "metadata": {
    "colab": {
     "base_uri": "https://localhost:8080/",
     "height": 677
    },
    "id": "9crpM7b6k3Pc",
    "outputId": "640d8b70-191a-4c78-c9a2-aedf0ff29bc4"
   },
   "outputs": [
    {
     "data": {
      "text/html": [
       "<div>\n",
       "<style scoped>\n",
       "    .dataframe tbody tr th:only-of-type {\n",
       "        vertical-align: middle;\n",
       "    }\n",
       "\n",
       "    .dataframe tbody tr th {\n",
       "        vertical-align: top;\n",
       "    }\n",
       "\n",
       "    .dataframe thead th {\n",
       "        text-align: right;\n",
       "    }\n",
       "</style>\n",
       "<table border=\"1\" class=\"dataframe\">\n",
       "  <thead>\n",
       "    <tr style=\"text-align: right;\">\n",
       "      <th></th>\n",
       "      <th>user_id</th>\n",
       "      <th>comment_on_why</th>\n",
       "      <th>likelihood_to_recommend</th>\n",
       "    </tr>\n",
       "  </thead>\n",
       "  <tbody>\n",
       "    <tr>\n",
       "      <th>1</th>\n",
       "      <td>18003003</td>\n",
       "      <td>Safrcom don''t allow 1 person to Bank more tha...</td>\n",
       "      <td>5</td>\n",
       "    </tr>\n",
       "    <tr>\n",
       "      <th>2</th>\n",
       "      <td>5618870</td>\n",
       "      <td>They offer good services</td>\n",
       "      <td>10</td>\n",
       "    </tr>\n",
       "    <tr>\n",
       "      <th>4</th>\n",
       "      <td>17386348</td>\n",
       "      <td>Transaction cost are affordable</td>\n",
       "      <td>7</td>\n",
       "    </tr>\n",
       "    <tr>\n",
       "      <th>5</th>\n",
       "      <td>2888859</td>\n",
       "      <td>Good service but long queues</td>\n",
       "      <td>7</td>\n",
       "    </tr>\n",
       "    <tr>\n",
       "      <th>7</th>\n",
       "      <td>2274344</td>\n",
       "      <td>Convinient</td>\n",
       "      <td>8</td>\n",
       "    </tr>\n",
       "    <tr>\n",
       "      <th>8</th>\n",
       "      <td>2273177</td>\n",
       "      <td>They attend customers very fast</td>\n",
       "      <td>8</td>\n",
       "    </tr>\n",
       "    <tr>\n",
       "      <th>9</th>\n",
       "      <td>17774579</td>\n",
       "      <td>Services are okay</td>\n",
       "      <td>8</td>\n",
       "    </tr>\n",
       "    <tr>\n",
       "      <th>10</th>\n",
       "      <td>5748358</td>\n",
       "      <td>Because is the highly and likely recommend</td>\n",
       "      <td>10</td>\n",
       "    </tr>\n",
       "    <tr>\n",
       "      <th>11</th>\n",
       "      <td>18002059</td>\n",
       "      <td>I was served well and quick</td>\n",
       "      <td>10</td>\n",
       "    </tr>\n",
       "    <tr>\n",
       "      <th>14</th>\n",
       "      <td>2296678</td>\n",
       "      <td>Equity agents easily available..</td>\n",
       "      <td>10</td>\n",
       "    </tr>\n",
       "    <tr>\n",
       "      <th>15</th>\n",
       "      <td>17386389</td>\n",
       "      <td>Equity does not charge expensively for its ser...</td>\n",
       "      <td>10</td>\n",
       "    </tr>\n",
       "    <tr>\n",
       "      <th>17</th>\n",
       "      <td>2303433</td>\n",
       "      <td>Customer friendly</td>\n",
       "      <td>7</td>\n",
       "    </tr>\n",
       "    <tr>\n",
       "      <th>21</th>\n",
       "      <td>2909192</td>\n",
       "      <td>Care</td>\n",
       "      <td>10</td>\n",
       "    </tr>\n",
       "    <tr>\n",
       "      <th>22</th>\n",
       "      <td>17389712</td>\n",
       "      <td>It was very fast and convenient</td>\n",
       "      <td>10</td>\n",
       "    </tr>\n",
       "    <tr>\n",
       "      <th>23</th>\n",
       "      <td>2279544</td>\n",
       "      <td>They are efficient and have great customer ser...</td>\n",
       "      <td>10</td>\n",
       "    </tr>\n",
       "    <tr>\n",
       "      <th>25</th>\n",
       "      <td>18001948</td>\n",
       "      <td>Easy to access my account and excellent servic...</td>\n",
       "      <td>10</td>\n",
       "    </tr>\n",
       "    <tr>\n",
       "      <th>27</th>\n",
       "      <td>5613260</td>\n",
       "      <td>Good.</td>\n",
       "      <td>7</td>\n",
       "    </tr>\n",
       "    <tr>\n",
       "      <th>29</th>\n",
       "      <td>2917531</td>\n",
       "      <td>Fast and convenient</td>\n",
       "      <td>7</td>\n",
       "    </tr>\n",
       "    <tr>\n",
       "      <th>31</th>\n",
       "      <td>5578837</td>\n",
       "      <td>The services are quick and efficient</td>\n",
       "      <td>8</td>\n",
       "    </tr>\n",
       "    <tr>\n",
       "      <th>32</th>\n",
       "      <td>1466851</td>\n",
       "      <td>Slow service</td>\n",
       "      <td>2</td>\n",
       "    </tr>\n",
       "  </tbody>\n",
       "</table>\n",
       "</div>"
      ],
      "text/plain": [
       "     user_id  ... likelihood_to_recommend\n",
       "1   18003003  ...                       5\n",
       "2    5618870  ...                      10\n",
       "4   17386348  ...                       7\n",
       "5    2888859  ...                       7\n",
       "7    2274344  ...                       8\n",
       "8    2273177  ...                       8\n",
       "9   17774579  ...                       8\n",
       "10   5748358  ...                      10\n",
       "11  18002059  ...                      10\n",
       "14   2296678  ...                      10\n",
       "15  17386389  ...                      10\n",
       "17   2303433  ...                       7\n",
       "21   2909192  ...                      10\n",
       "22  17389712  ...                      10\n",
       "23   2279544  ...                      10\n",
       "25  18001948  ...                      10\n",
       "27   5613260  ...                       7\n",
       "29   2917531  ...                       7\n",
       "31   5578837  ...                       8\n",
       "32   1466851  ...                       2\n",
       "\n",
       "[20 rows x 3 columns]"
      ]
     },
     "execution_count": 17,
     "metadata": {
      "tags": []
     },
     "output_type": "execute_result"
    }
   ],
   "source": [
    "non_na_comments.head(20)"
   ]
  },
  {
   "cell_type": "markdown",
   "metadata": {
    "id": "HQV0PL_Qmdkg"
   },
   "source": [
    "### Sentiment Analysis using Flair\n"
   ]
  },
  {
   "cell_type": "markdown",
   "metadata": {
    "id": "u62EoS2qnE5R"
   },
   "source": [
    "Flair’s sentiment classifier is based on a character-level LSTM neural network which takes sequences of letters and words into account when predicting"
   ]
  },
  {
   "cell_type": "code",
   "execution_count": 18,
   "metadata": {
    "colab": {
     "base_uri": "https://localhost:8080/"
    },
    "id": "atQFaGcWnPLe",
    "outputId": "9702fb17-3747-43fa-b1dd-aefc8f442ffc"
   },
   "outputs": [
    {
     "name": "stdout",
     "output_type": "stream",
     "text": [
      "Collecting flair\n",
      "\u001b[?25l  Downloading https://files.pythonhosted.org/packages/68/a0/a1b41fa2fcb23ff71ba9148af75211dcccc35b256dea821b36e1ee871848/flair-0.7-py3-none-any.whl (448kB)\n",
      "\u001b[K     |████████████████████████████████| 450kB 5.5MB/s \n",
      "\u001b[?25hRequirement already satisfied: scikit-learn>=0.21.3 in /usr/local/lib/python3.6/dist-packages (from flair) (0.22.2.post1)\n",
      "Collecting ftfy\n",
      "\u001b[?25l  Downloading https://files.pythonhosted.org/packages/ff/e2/3b51c53dffb1e52d9210ebc01f1fb9f2f6eba9b3201fa971fd3946643c71/ftfy-5.8.tar.gz (64kB)\n",
      "\u001b[K     |████████████████████████████████| 71kB 4.8MB/s \n",
      "\u001b[?25hCollecting sentencepiece<=0.1.91\n",
      "\u001b[?25l  Downloading https://files.pythonhosted.org/packages/d4/a4/d0a884c4300004a78cca907a6ff9a5e9fe4f090f5d95ab341c53d28cbc58/sentencepiece-0.1.91-cp36-cp36m-manylinux1_x86_64.whl (1.1MB)\n",
      "\u001b[K     |████████████████████████████████| 1.1MB 7.7MB/s \n",
      "\u001b[?25hRequirement already satisfied: python-dateutil>=2.6.1 in /usr/local/lib/python3.6/dist-packages (from flair) (2.8.1)\n",
      "Requirement already satisfied: gdown in /usr/local/lib/python3.6/dist-packages (from flair) (3.6.4)\n",
      "Collecting janome\n",
      "\u001b[?25l  Downloading https://files.pythonhosted.org/packages/a8/63/98858cbead27df7536c7e300c169da0999e9704d02220dc6700b804eeff0/Janome-0.4.1-py2.py3-none-any.whl (19.7MB)\n",
      "\u001b[K     |████████████████████████████████| 19.7MB 1.4MB/s \n",
      "\u001b[?25hCollecting mpld3==0.3\n",
      "\u001b[?25l  Downloading https://files.pythonhosted.org/packages/91/95/a52d3a83d0a29ba0d6898f6727e9858fe7a43f6c2ce81a5fe7e05f0f4912/mpld3-0.3.tar.gz (788kB)\n",
      "\u001b[K     |████████████████████████████████| 798kB 44.8MB/s \n",
      "\u001b[?25hCollecting deprecated>=1.2.4\n",
      "  Downloading https://files.pythonhosted.org/packages/d4/56/7d4774533d2c119e1873993d34d313c9c9efc88c5e4ab7e33bdf915ad98c/Deprecated-1.2.11-py2.py3-none-any.whl\n",
      "Collecting sqlitedict>=1.6.0\n",
      "  Downloading https://files.pythonhosted.org/packages/5c/2d/b1d99e9ad157dd7de9cd0d36a8a5876b13b55e4b75f7498bc96035fb4e96/sqlitedict-1.7.0.tar.gz\n",
      "Collecting langdetect\n",
      "\u001b[?25l  Downloading https://files.pythonhosted.org/packages/56/a3/8407c1e62d5980188b4acc45ef3d94b933d14a2ebc9ef3505f22cf772570/langdetect-1.0.8.tar.gz (981kB)\n",
      "\u001b[K     |████████████████████████████████| 983kB 43.2MB/s \n",
      "\u001b[?25hRequirement already satisfied: tabulate in /usr/local/lib/python3.6/dist-packages (from flair) (0.8.7)\n",
      "Requirement already satisfied: tqdm>=4.26.0 in /usr/local/lib/python3.6/dist-packages (from flair) (4.41.1)\n",
      "Requirement already satisfied: matplotlib>=2.2.3 in /usr/local/lib/python3.6/dist-packages (from flair) (3.2.2)\n",
      "Requirement already satisfied: hyperopt>=0.1.1 in /usr/local/lib/python3.6/dist-packages (from flair) (0.1.2)\n",
      "Requirement already satisfied: lxml in /usr/local/lib/python3.6/dist-packages (from flair) (4.2.6)\n",
      "Collecting segtok>=1.5.7\n",
      "  Downloading https://files.pythonhosted.org/packages/41/08/582dab5f4b1d5ca23bc6927b4bb977c8ff7f3a87a3b98844ef833e2f5623/segtok-1.5.10.tar.gz\n",
      "Collecting transformers<=3.5.1,>=3.5.0\n",
      "\u001b[?25l  Downloading https://files.pythonhosted.org/packages/3a/83/e74092e7f24a08d751aa59b37a9fc572b2e4af3918cb66f7766c3affb1b4/transformers-3.5.1-py3-none-any.whl (1.3MB)\n",
      "\u001b[K     |████████████████████████████████| 1.3MB 36.6MB/s \n",
      "\u001b[?25hRequirement already satisfied: regex in /usr/local/lib/python3.6/dist-packages (from flair) (2019.12.20)\n",
      "Requirement already satisfied: torch>=1.1.0 in /usr/local/lib/python3.6/dist-packages (from flair) (1.7.0+cu101)\n",
      "Collecting bpemb>=0.3.2\n",
      "  Downloading https://files.pythonhosted.org/packages/91/77/3f0f53856e86af32b1d3c86652815277f7b5f880002584eb30db115b6df5/bpemb-0.3.2-py3-none-any.whl\n",
      "Collecting konoha<5.0.0,>=4.0.0\n",
      "  Downloading https://files.pythonhosted.org/packages/ea/01/47358efec5396fc80f98273c42cbdfe7aab056252b07884ffcc0f118978f/konoha-4.6.2-py3-none-any.whl\n",
      "Requirement already satisfied: gensim<=3.8.3,>=3.4.0 in /usr/local/lib/python3.6/dist-packages (from flair) (3.6.0)\n",
      "Requirement already satisfied: joblib>=0.11 in /usr/local/lib/python3.6/dist-packages (from scikit-learn>=0.21.3->flair) (1.0.0)\n",
      "Requirement already satisfied: numpy>=1.11.0 in /usr/local/lib/python3.6/dist-packages (from scikit-learn>=0.21.3->flair) (1.19.5)\n",
      "Requirement already satisfied: scipy>=0.17.0 in /usr/local/lib/python3.6/dist-packages (from scikit-learn>=0.21.3->flair) (1.4.1)\n",
      "Requirement already satisfied: wcwidth in /usr/local/lib/python3.6/dist-packages (from ftfy->flair) (0.2.5)\n",
      "Requirement already satisfied: six>=1.5 in /usr/local/lib/python3.6/dist-packages (from python-dateutil>=2.6.1->flair) (1.15.0)\n",
      "Requirement already satisfied: requests in /usr/local/lib/python3.6/dist-packages (from gdown->flair) (2.23.0)\n",
      "Requirement already satisfied: wrapt<2,>=1.10 in /usr/local/lib/python3.6/dist-packages (from deprecated>=1.2.4->flair) (1.12.1)\n",
      "Requirement already satisfied: pyparsing!=2.0.4,!=2.1.2,!=2.1.6,>=2.0.1 in /usr/local/lib/python3.6/dist-packages (from matplotlib>=2.2.3->flair) (2.4.7)\n",
      "Requirement already satisfied: cycler>=0.10 in /usr/local/lib/python3.6/dist-packages (from matplotlib>=2.2.3->flair) (0.10.0)\n",
      "Requirement already satisfied: kiwisolver>=1.0.1 in /usr/local/lib/python3.6/dist-packages (from matplotlib>=2.2.3->flair) (1.3.1)\n",
      "Requirement already satisfied: networkx in /usr/local/lib/python3.6/dist-packages (from hyperopt>=0.1.1->flair) (2.5)\n",
      "Requirement already satisfied: pymongo in /usr/local/lib/python3.6/dist-packages (from hyperopt>=0.1.1->flair) (3.11.2)\n",
      "Requirement already satisfied: future in /usr/local/lib/python3.6/dist-packages (from hyperopt>=0.1.1->flair) (0.16.0)\n",
      "Requirement already satisfied: dataclasses; python_version < \"3.7\" in /usr/local/lib/python3.6/dist-packages (from transformers<=3.5.1,>=3.5.0->flair) (0.8)\n",
      "Collecting sacremoses\n",
      "\u001b[?25l  Downloading https://files.pythonhosted.org/packages/7d/34/09d19aff26edcc8eb2a01bed8e98f13a1537005d31e95233fd48216eed10/sacremoses-0.0.43.tar.gz (883kB)\n",
      "\u001b[K     |████████████████████████████████| 890kB 42.0MB/s \n",
      "\u001b[?25hCollecting tokenizers==0.9.3\n",
      "\u001b[?25l  Downloading https://files.pythonhosted.org/packages/4c/34/b39eb9994bc3c999270b69c9eea40ecc6f0e97991dba28282b9fd32d44ee/tokenizers-0.9.3-cp36-cp36m-manylinux1_x86_64.whl (2.9MB)\n",
      "\u001b[K     |████████████████████████████████| 2.9MB 50.2MB/s \n",
      "\u001b[?25hRequirement already satisfied: filelock in /usr/local/lib/python3.6/dist-packages (from transformers<=3.5.1,>=3.5.0->flair) (3.0.12)\n",
      "Requirement already satisfied: packaging in /usr/local/lib/python3.6/dist-packages (from transformers<=3.5.1,>=3.5.0->flair) (20.9)\n",
      "Requirement already satisfied: protobuf in /usr/local/lib/python3.6/dist-packages (from transformers<=3.5.1,>=3.5.0->flair) (3.12.4)\n",
      "Requirement already satisfied: typing-extensions in /usr/local/lib/python3.6/dist-packages (from torch>=1.1.0->flair) (3.7.4.3)\n",
      "Collecting overrides==3.0.0\n",
      "  Downloading https://files.pythonhosted.org/packages/42/8d/caa729f809ecdf8e76fac3c1ff7d3f0b72c398c9dd8a6919927a30a873b3/overrides-3.0.0.tar.gz\n",
      "Requirement already satisfied: smart-open>=1.2.1 in /usr/local/lib/python3.6/dist-packages (from gensim<=3.8.3,>=3.4.0->flair) (4.1.2)\n",
      "Requirement already satisfied: chardet<4,>=3.0.2 in /usr/local/lib/python3.6/dist-packages (from requests->gdown->flair) (3.0.4)\n",
      "Requirement already satisfied: idna<3,>=2.5 in /usr/local/lib/python3.6/dist-packages (from requests->gdown->flair) (2.10)\n",
      "Requirement already satisfied: certifi>=2017.4.17 in /usr/local/lib/python3.6/dist-packages (from requests->gdown->flair) (2020.12.5)\n",
      "Requirement already satisfied: urllib3!=1.25.0,!=1.25.1,<1.26,>=1.21.1 in /usr/local/lib/python3.6/dist-packages (from requests->gdown->flair) (1.24.3)\n",
      "Requirement already satisfied: decorator>=4.3.0 in /usr/local/lib/python3.6/dist-packages (from networkx->hyperopt>=0.1.1->flair) (4.4.2)\n",
      "Requirement already satisfied: click in /usr/local/lib/python3.6/dist-packages (from sacremoses->transformers<=3.5.1,>=3.5.0->flair) (7.1.2)\n",
      "Requirement already satisfied: setuptools in /usr/local/lib/python3.6/dist-packages (from protobuf->transformers<=3.5.1,>=3.5.0->flair) (53.0.0)\n",
      "Building wheels for collected packages: ftfy, mpld3, sqlitedict, langdetect, segtok, sacremoses, overrides\n",
      "  Building wheel for ftfy (setup.py) ... \u001b[?25l\u001b[?25hdone\n",
      "  Created wheel for ftfy: filename=ftfy-5.8-cp36-none-any.whl size=45613 sha256=ddf476498fef7d610172b84ff024ee926cdc11bf15d27787f0a38542a11ac268\n",
      "  Stored in directory: /root/.cache/pip/wheels/ba/c0/ef/f28c4da5ac84a4e06ac256ca9182fc34fa57fefffdbc68425b\n",
      "  Building wheel for mpld3 (setup.py) ... \u001b[?25l\u001b[?25hdone\n",
      "  Created wheel for mpld3: filename=mpld3-0.3-cp36-none-any.whl size=116678 sha256=7fc31949b0b2ae52ea1add600b5a300aa63fefa98c95cf1d4739039643269d8c\n",
      "  Stored in directory: /root/.cache/pip/wheels/c0/47/fb/8a64f89aecfe0059830479308ad42d62e898a3e3cefdf6ba28\n",
      "  Building wheel for sqlitedict (setup.py) ... \u001b[?25l\u001b[?25hdone\n",
      "  Created wheel for sqlitedict: filename=sqlitedict-1.7.0-cp36-none-any.whl size=14376 sha256=df120563dc189e12b8ab39110b7bd793043cbbec1e7807993946713889c517a4\n",
      "  Stored in directory: /root/.cache/pip/wheels/cf/c6/4f/2c64a43f041415eb8b8740bd80e15e92f0d46c5e464d8e4b9b\n",
      "  Building wheel for langdetect (setup.py) ... \u001b[?25l\u001b[?25hdone\n",
      "  Created wheel for langdetect: filename=langdetect-1.0.8-cp36-none-any.whl size=993194 sha256=ead21eccbaf1a930174651dd12ffeee85b43609cac3a343f0fc2fc38a357180c\n",
      "  Stored in directory: /root/.cache/pip/wheels/8d/b3/aa/6d99de9f3841d7d3d40a60ea06e6d669e8e5012e6c8b947a57\n",
      "  Building wheel for segtok (setup.py) ... \u001b[?25l\u001b[?25hdone\n",
      "  Created wheel for segtok: filename=segtok-1.5.10-cp36-none-any.whl size=25019 sha256=92639513f6cf582827f649188964f5d859d0b8a8048845d150c4c50c7c728984\n",
      "  Stored in directory: /root/.cache/pip/wheels/b4/39/f6/9ca1c5cabde964d728023b5751c3a206a5c8cc40252321fb6b\n",
      "  Building wheel for sacremoses (setup.py) ... \u001b[?25l\u001b[?25hdone\n",
      "  Created wheel for sacremoses: filename=sacremoses-0.0.43-cp36-none-any.whl size=893261 sha256=ab6e4426d13c9f8c81968f4528bfe75bfe636fababc2304b925f91169b42d7f0\n",
      "  Stored in directory: /root/.cache/pip/wheels/29/3c/fd/7ce5c3f0666dab31a50123635e6fb5e19ceb42ce38d4e58f45\n",
      "  Building wheel for overrides (setup.py) ... \u001b[?25l\u001b[?25hdone\n",
      "  Created wheel for overrides: filename=overrides-3.0.0-cp36-none-any.whl size=5669 sha256=b7129895ffa4a5354901047ea247ed6911b7e8b0670313accc07f34203882367\n",
      "  Stored in directory: /root/.cache/pip/wheels/6f/1b/ec/6c71a1eb823df7f850d956b2d8c50a6d49c191e1063d73b9be\n",
      "Successfully built ftfy mpld3 sqlitedict langdetect segtok sacremoses overrides\n",
      "Installing collected packages: ftfy, sentencepiece, janome, mpld3, deprecated, sqlitedict, langdetect, segtok, sacremoses, tokenizers, transformers, bpemb, overrides, konoha, flair\n",
      "Successfully installed bpemb-0.3.2 deprecated-1.2.11 flair-0.7 ftfy-5.8 janome-0.4.1 konoha-4.6.2 langdetect-1.0.8 mpld3-0.3 overrides-3.0.0 sacremoses-0.0.43 segtok-1.5.10 sentencepiece-0.1.91 sqlitedict-1.7.0 tokenizers-0.9.3 transformers-3.5.1\n"
     ]
    }
   ],
   "source": [
    "! pip install flair"
   ]
  },
  {
   "cell_type": "code",
   "execution_count": 19,
   "metadata": {
    "colab": {
     "base_uri": "https://localhost:8080/",
     "height": 240,
     "referenced_widgets": [
      "bd0e7ca2d20c4c07839330e888aeec0d",
      "f4a972a35fb1460eb7c19db8c707c051",
      "31a1fde1825548bc82a75ae11a774d84",
      "9a950b74b8f14544bfd92bdde65d0a78",
      "4d6ac65578054120aafac0286111d2ce",
      "cc0d20fe8c8747afb9641a69ad1cac1b",
      "66e986af187c48ee9c4cc148f2f569a9",
      "3f659e15c4a34b598e1c6a259cae6396",
      "a597456d08c948d3abbf6ca831b9b69d",
      "605b63db752647088aacba2c11d747ba",
      "b691c476e92d4ed4ba3527710de1d0ba",
      "91171fce4e9e4db09b3041f3a27d8dcc",
      "7132ed9dc5fd4b508c1a1dce190fe10f",
      "2425f9c8e5ea4b00a65f31df3140a46b",
      "ab3e08b4763a4605a7eb54bb6f4773b9",
      "1dea7b5d90484096bf48a4a92422fdee"
     ]
    },
    "id": "ttNeZUs7mihl",
    "outputId": "0d12c01a-f68f-472c-ee27-d946286f96ec"
   },
   "outputs": [
    {
     "name": "stdout",
     "output_type": "stream",
     "text": [
      "2021-02-08 08:26:31,561 https://nlp.informatik.hu-berlin.de/resources/models/sentiment-curated-distilbert/sentiment-en-mix-distillbert_3.1.pt not found in cache, downloading to /tmp/tmpu5654x2p\n"
     ]
    },
    {
     "name": "stderr",
     "output_type": "stream",
     "text": [
      "100%|██████████| 266147697/266147697 [00:22<00:00, 11826830.26B/s]"
     ]
    },
    {
     "name": "stdout",
     "output_type": "stream",
     "text": [
      "2021-02-08 08:26:54,487 copying /tmp/tmpu5654x2p to cache at /root/.flair/models/sentiment-en-mix-distillbert_3.1.pt\n"
     ]
    },
    {
     "name": "stderr",
     "output_type": "stream",
     "text": [
      "\n"
     ]
    },
    {
     "name": "stdout",
     "output_type": "stream",
     "text": [
      "2021-02-08 08:26:54,974 removing temp file /tmp/tmpu5654x2p\n",
      "2021-02-08 08:26:55,030 loading file /root/.flair/models/sentiment-en-mix-distillbert_3.1.pt\n"
     ]
    },
    {
     "data": {
      "application/vnd.jupyter.widget-view+json": {
       "model_id": "bd0e7ca2d20c4c07839330e888aeec0d",
       "version_major": 2,
       "version_minor": 0
      },
      "text/plain": [
       "HBox(children=(FloatProgress(value=0.0, description='Downloading', max=442.0, style=ProgressStyle(description_…"
      ]
     },
     "metadata": {
      "tags": []
     },
     "output_type": "display_data"
    },
    {
     "name": "stdout",
     "output_type": "stream",
     "text": [
      "\n"
     ]
    },
    {
     "data": {
      "application/vnd.jupyter.widget-view+json": {
       "model_id": "a597456d08c948d3abbf6ca831b9b69d",
       "version_major": 2,
       "version_minor": 0
      },
      "text/plain": [
       "HBox(children=(FloatProgress(value=0.0, description='Downloading', max=231508.0, style=ProgressStyle(descripti…"
      ]
     },
     "metadata": {
      "tags": []
     },
     "output_type": "display_data"
    },
    {
     "name": "stdout",
     "output_type": "stream",
     "text": [
      "\n",
      "Sentence above is:  [POSITIVE (0.9997)]\n"
     ]
    }
   ],
   "source": [
    "from flair.models import TextClassifier\n",
    "from flair.data import Sentence\n",
    "\n",
    "classifier = TextClassifier.load('en-sentiment')\n",
    "sentence = Sentence('Flair is pretty neat!')\n",
    "classifier.predict(sentence)\n",
    "\n",
    "# print sentence with predicted labels\n",
    "print('Sentence above is: ', sentence.labels)"
   ]
  },
  {
   "cell_type": "code",
   "execution_count": 20,
   "metadata": {
    "id": "zdBmuXkvqWMu"
   },
   "outputs": [],
   "source": [
    "def get_sentiment(data):\n",
    "  sentiment = []\n",
    "  confidence = []\n",
    "\n",
    "  for row in data:\n",
    "    sentence = Sentence(row)\n",
    "    classifier.predict(sentence)\n",
    "    sentiment.append(sentence.labels[0].value)\n",
    "    confidence.append((sentence.labels[0].score*100))\n",
    "\n",
    "  return sentiment, confidence"
   ]
  },
  {
   "cell_type": "code",
   "execution_count": 21,
   "metadata": {
    "id": "x5DyexmppbTg"
   },
   "outputs": [],
   "source": [
    "sentiment, confidence = get_sentiment(non_na_comments['comment_on_why'])"
   ]
  },
  {
   "cell_type": "code",
   "execution_count": 22,
   "metadata": {
    "colab": {
     "base_uri": "https://localhost:8080/"
    },
    "id": "UkJyORUjsQMw",
    "outputId": "0443eadf-1718-4905-ade8-5d921b71831f"
   },
   "outputs": [
    {
     "name": "stderr",
     "output_type": "stream",
     "text": [
      "/usr/local/lib/python3.6/dist-packages/ipykernel_launcher.py:1: SettingWithCopyWarning: \n",
      "A value is trying to be set on a copy of a slice from a DataFrame.\n",
      "Try using .loc[row_indexer,col_indexer] = value instead\n",
      "\n",
      "See the caveats in the documentation: https://pandas.pydata.org/pandas-docs/stable/user_guide/indexing.html#returning-a-view-versus-a-copy\n",
      "  \"\"\"Entry point for launching an IPython kernel.\n",
      "/usr/local/lib/python3.6/dist-packages/ipykernel_launcher.py:2: SettingWithCopyWarning: \n",
      "A value is trying to be set on a copy of a slice from a DataFrame.\n",
      "Try using .loc[row_indexer,col_indexer] = value instead\n",
      "\n",
      "See the caveats in the documentation: https://pandas.pydata.org/pandas-docs/stable/user_guide/indexing.html#returning-a-view-versus-a-copy\n",
      "  \n"
     ]
    }
   ],
   "source": [
    "non_na_comments['sentiment'] = sentiment\n",
    "non_na_comments['sentiment_confidence'] = confidence"
   ]
  },
  {
   "cell_type": "code",
   "execution_count": 23,
   "metadata": {
    "colab": {
     "base_uri": "https://localhost:8080/"
    },
    "id": "DaTFSQI1srE-",
    "outputId": "53776b27-27de-45ee-c7b9-7bfd84c346a6"
   },
   "outputs": [
    {
     "name": "stderr",
     "output_type": "stream",
     "text": [
      "/usr/local/lib/python3.6/dist-packages/ipykernel_launcher.py:1: SettingWithCopyWarning: \n",
      "A value is trying to be set on a copy of a slice from a DataFrame.\n",
      "Try using .loc[row_indexer,col_indexer] = value instead\n",
      "\n",
      "See the caveats in the documentation: https://pandas.pydata.org/pandas-docs/stable/user_guide/indexing.html#returning-a-view-versus-a-copy\n",
      "  \"\"\"Entry point for launching an IPython kernel.\n"
     ]
    }
   ],
   "source": [
    "non_na_comments['likelihood_to_recommend'] = non_na_comments['likelihood_to_recommend'].astype(int)"
   ]
  },
  {
   "cell_type": "markdown",
   "metadata": {
    "id": "99ijT3y1vBh4"
   },
   "source": [
    "### Compare Sentiment confidence and how one is likely to recommend"
   ]
  },
  {
   "cell_type": "code",
   "execution_count": 24,
   "metadata": {
    "id": "DsmO2qRMvyKS"
   },
   "outputs": [],
   "source": [
    "import numpy as np\n",
    "import matplotlib.pyplot as plt\n",
    "import seaborn as sns"
   ]
  },
  {
   "cell_type": "code",
   "execution_count": 25,
   "metadata": {
    "colab": {
     "base_uri": "https://localhost:8080/",
     "height": 569
    },
    "id": "VBFIbWxbv00l",
    "outputId": "62f1e733-5348-4fa5-976a-0403e7907a9b"
   },
   "outputs": [
    {
     "data": {
      "text/plain": [
       "<matplotlib.axes._subplots.AxesSubplot at 0x7f32d85115c0>"
      ]
     },
     "execution_count": 25,
     "metadata": {
      "tags": []
     },
     "output_type": "execute_result"
    },
    {
     "data": {
      "image/png": "[encoded data removed]",
      "text/plain": [
       "<Figure size 792x648 with 1 Axes>"
      ]
     },
     "metadata": {
      "needs_background": "light",
      "tags": []
     },
     "output_type": "display_data"
    }
   ],
   "source": [
    "fig, ax = plt.subplots(figsize=(11, 9))\n",
    "sns.countplot(data=non_na_comments, x='likelihood_to_recommend', hue='sentiment')"
   ]
  },
  {
   "cell_type": "code",
   "execution_count": 26,
   "metadata": {
    "colab": {
     "base_uri": "https://localhost:8080/",
     "height": 493
    },
    "id": "sOK6soqYyd-D",
    "outputId": "42de2fe0-cd35-4c7e-bd4b-bc580ab2f878"
   },
   "outputs": [
    {
     "data": {
      "text/html": [
       "<div>\n",
       "<style scoped>\n",
       "    .dataframe tbody tr th:only-of-type {\n",
       "        vertical-align: middle;\n",
       "    }\n",
       "\n",
       "    .dataframe tbody tr th {\n",
       "        vertical-align: top;\n",
       "    }\n",
       "\n",
       "    .dataframe thead th {\n",
       "        text-align: right;\n",
       "    }\n",
       "</style>\n",
       "<table border=\"1\" class=\"dataframe\">\n",
       "  <thead>\n",
       "    <tr style=\"text-align: right;\">\n",
       "      <th></th>\n",
       "      <th>user_id</th>\n",
       "      <th>comment_on_why</th>\n",
       "      <th>likelihood_to_recommend</th>\n",
       "      <th>sentiment</th>\n",
       "      <th>sentiment_confidence</th>\n",
       "    </tr>\n",
       "  </thead>\n",
       "  <tbody>\n",
       "    <tr>\n",
       "      <th>97</th>\n",
       "      <td>17406152</td>\n",
       "      <td>Because it gives loans at low interest</td>\n",
       "      <td>10</td>\n",
       "      <td>NEGATIVE</td>\n",
       "      <td>99.229878</td>\n",
       "    </tr>\n",
       "    <tr>\n",
       "      <th>119</th>\n",
       "      <td>18002489</td>\n",
       "      <td>Their customer service is at par</td>\n",
       "      <td>10</td>\n",
       "      <td>NEGATIVE</td>\n",
       "      <td>58.626270</td>\n",
       "    </tr>\n",
       "    <tr>\n",
       "      <th>209</th>\n",
       "      <td>18002362</td>\n",
       "      <td>because they charge low interest</td>\n",
       "      <td>10</td>\n",
       "      <td>NEGATIVE</td>\n",
       "      <td>99.800450</td>\n",
       "    </tr>\n",
       "    <tr>\n",
       "      <th>216</th>\n",
       "      <td>18002776</td>\n",
       "      <td>Their charges are not much</td>\n",
       "      <td>10</td>\n",
       "      <td>NEGATIVE</td>\n",
       "      <td>99.418277</td>\n",
       "    </tr>\n",
       "    <tr>\n",
       "      <th>300</th>\n",
       "      <td>17388416</td>\n",
       "      <td>10= Highly likely</td>\n",
       "      <td>10</td>\n",
       "      <td>NEGATIVE</td>\n",
       "      <td>72.225362</td>\n",
       "    </tr>\n",
       "    <tr>\n",
       "      <th>...</th>\n",
       "      <td>...</td>\n",
       "      <td>...</td>\n",
       "      <td>...</td>\n",
       "      <td>...</td>\n",
       "      <td>...</td>\n",
       "    </tr>\n",
       "    <tr>\n",
       "      <th>6011</th>\n",
       "      <td>2307542</td>\n",
       "      <td>It Is Covenient</td>\n",
       "      <td>10</td>\n",
       "      <td>NEGATIVE</td>\n",
       "      <td>82.864100</td>\n",
       "    </tr>\n",
       "    <tr>\n",
       "      <th>6228</th>\n",
       "      <td>2304494</td>\n",
       "      <td>It has branches all over the since it easy to ...</td>\n",
       "      <td>10</td>\n",
       "      <td>NEGATIVE</td>\n",
       "      <td>99.650687</td>\n",
       "    </tr>\n",
       "    <tr>\n",
       "      <th>6333</th>\n",
       "      <td>2265404</td>\n",
       "      <td>Conveniency</td>\n",
       "      <td>10</td>\n",
       "      <td>NEGATIVE</td>\n",
       "      <td>60.207731</td>\n",
       "    </tr>\n",
       "    <tr>\n",
       "      <th>6348</th>\n",
       "      <td>2292572</td>\n",
       "      <td>Rates are low</td>\n",
       "      <td>10</td>\n",
       "      <td>NEGATIVE</td>\n",
       "      <td>91.243690</td>\n",
       "    </tr>\n",
       "    <tr>\n",
       "      <th>6404</th>\n",
       "      <td>2284173</td>\n",
       "      <td>Charges a bit low</td>\n",
       "      <td>10</td>\n",
       "      <td>NEGATIVE</td>\n",
       "      <td>99.908304</td>\n",
       "    </tr>\n",
       "  </tbody>\n",
       "</table>\n",
       "<p>73 rows × 5 columns</p>\n",
       "</div>"
      ],
      "text/plain": [
       "       user_id  ... sentiment_confidence\n",
       "97    17406152  ...            99.229878\n",
       "119   18002489  ...            58.626270\n",
       "209   18002362  ...            99.800450\n",
       "216   18002776  ...            99.418277\n",
       "300   17388416  ...            72.225362\n",
       "...        ...  ...                  ...\n",
       "6011   2307542  ...            82.864100\n",
       "6228   2304494  ...            99.650687\n",
       "6333   2265404  ...            60.207731\n",
       "6348   2292572  ...            91.243690\n",
       "6404   2284173  ...            99.908304\n",
       "\n",
       "[73 rows x 5 columns]"
      ]
     },
     "execution_count": 26,
     "metadata": {
      "tags": []
     },
     "output_type": "execute_result"
    }
   ],
   "source": [
    "non_na_comments.loc[(non_na_comments['likelihood_to_recommend'] == 10) & (non_na_comments['sentiment'] == 'NEGATIVE')]"
   ]
  },
  {
   "cell_type": "code",
   "execution_count": 27,
   "metadata": {
    "colab": {
     "base_uri": "https://localhost:8080/",
     "height": 795
    },
    "id": "mp_HG2QEJXo7",
    "outputId": "a6cdc30b-8e57-44bb-b2a6-ed5bcb02fac1"
   },
   "outputs": [
    {
     "data": {
      "text/html": [
       "<div>\n",
       "<style scoped>\n",
       "    .dataframe tbody tr th:only-of-type {\n",
       "        vertical-align: middle;\n",
       "    }\n",
       "\n",
       "    .dataframe tbody tr th {\n",
       "        vertical-align: top;\n",
       "    }\n",
       "\n",
       "    .dataframe thead th {\n",
       "        text-align: right;\n",
       "    }\n",
       "</style>\n",
       "<table border=\"1\" class=\"dataframe\">\n",
       "  <thead>\n",
       "    <tr style=\"text-align: right;\">\n",
       "      <th></th>\n",
       "      <th>user_id</th>\n",
       "      <th>comment_on_why</th>\n",
       "      <th>likelihood_to_recommend</th>\n",
       "      <th>sentiment</th>\n",
       "      <th>sentiment_confidence</th>\n",
       "    </tr>\n",
       "  </thead>\n",
       "  <tbody>\n",
       "    <tr>\n",
       "      <th>92</th>\n",
       "      <td>18003004</td>\n",
       "      <td>I like</td>\n",
       "      <td>0</td>\n",
       "      <td>POSITIVE</td>\n",
       "      <td>94.717681</td>\n",
       "    </tr>\n",
       "    <tr>\n",
       "      <th>157</th>\n",
       "      <td>2901185</td>\n",
       "      <td>it has high interests and the procedure for lo...</td>\n",
       "      <td>0</td>\n",
       "      <td>POSITIVE</td>\n",
       "      <td>68.305653</td>\n",
       "    </tr>\n",
       "    <tr>\n",
       "      <th>274</th>\n",
       "      <td>5618048</td>\n",
       "      <td>Efficiency</td>\n",
       "      <td>0</td>\n",
       "      <td>POSITIVE</td>\n",
       "      <td>99.875057</td>\n",
       "    </tr>\n",
       "    <tr>\n",
       "      <th>339</th>\n",
       "      <td>17402574</td>\n",
       "      <td>4</td>\n",
       "      <td>0</td>\n",
       "      <td>POSITIVE</td>\n",
       "      <td>95.349967</td>\n",
       "    </tr>\n",
       "    <tr>\n",
       "      <th>372</th>\n",
       "      <td>17401273</td>\n",
       "      <td>Good service</td>\n",
       "      <td>0</td>\n",
       "      <td>POSITIVE</td>\n",
       "      <td>99.145561</td>\n",
       "    </tr>\n",
       "    <tr>\n",
       "      <th>1882</th>\n",
       "      <td>2316453</td>\n",
       "      <td>Safes time</td>\n",
       "      <td>0</td>\n",
       "      <td>POSITIVE</td>\n",
       "      <td>99.218410</td>\n",
       "    </tr>\n",
       "    <tr>\n",
       "      <th>2057</th>\n",
       "      <td>2279404</td>\n",
       "      <td>4</td>\n",
       "      <td>0</td>\n",
       "      <td>POSITIVE</td>\n",
       "      <td>95.349967</td>\n",
       "    </tr>\n",
       "    <tr>\n",
       "      <th>2201</th>\n",
       "      <td>2264769</td>\n",
       "      <td>charged high</td>\n",
       "      <td>0</td>\n",
       "      <td>POSITIVE</td>\n",
       "      <td>87.337673</td>\n",
       "    </tr>\n",
       "    <tr>\n",
       "      <th>2408</th>\n",
       "      <td>2289681</td>\n",
       "      <td>1</td>\n",
       "      <td>0</td>\n",
       "      <td>POSITIVE</td>\n",
       "      <td>89.006859</td>\n",
       "    </tr>\n",
       "    <tr>\n",
       "      <th>2659</th>\n",
       "      <td>2265728</td>\n",
       "      <td>Good</td>\n",
       "      <td>0</td>\n",
       "      <td>POSITIVE</td>\n",
       "      <td>93.139517</td>\n",
       "    </tr>\n",
       "    <tr>\n",
       "      <th>2773</th>\n",
       "      <td>2265300</td>\n",
       "      <td>Quick</td>\n",
       "      <td>0</td>\n",
       "      <td>POSITIVE</td>\n",
       "      <td>93.048489</td>\n",
       "    </tr>\n",
       "    <tr>\n",
       "      <th>3633</th>\n",
       "      <td>2289769</td>\n",
       "      <td>It''s convenient</td>\n",
       "      <td>0</td>\n",
       "      <td>POSITIVE</td>\n",
       "      <td>92.080885</td>\n",
       "    </tr>\n",
       "    <tr>\n",
       "      <th>4033</th>\n",
       "      <td>2229438</td>\n",
       "      <td>There services are fast and reliable</td>\n",
       "      <td>0</td>\n",
       "      <td>POSITIVE</td>\n",
       "      <td>99.613744</td>\n",
       "    </tr>\n",
       "    <tr>\n",
       "      <th>4054</th>\n",
       "      <td>2279436</td>\n",
       "      <td>There interest are affordable</td>\n",
       "      <td>0</td>\n",
       "      <td>POSITIVE</td>\n",
       "      <td>99.010086</td>\n",
       "    </tr>\n",
       "    <tr>\n",
       "      <th>4193</th>\n",
       "      <td>2304127</td>\n",
       "      <td>Waiting time,</td>\n",
       "      <td>0</td>\n",
       "      <td>POSITIVE</td>\n",
       "      <td>66.195577</td>\n",
       "    </tr>\n",
       "    <tr>\n",
       "      <th>4452</th>\n",
       "      <td>2274356</td>\n",
       "      <td>meny people use 4</td>\n",
       "      <td>0</td>\n",
       "      <td>POSITIVE</td>\n",
       "      <td>82.359010</td>\n",
       "    </tr>\n",
       "    <tr>\n",
       "      <th>5304</th>\n",
       "      <td>420468</td>\n",
       "      <td>Has the best customer service.</td>\n",
       "      <td>0</td>\n",
       "      <td>POSITIVE</td>\n",
       "      <td>99.440670</td>\n",
       "    </tr>\n",
       "    <tr>\n",
       "      <th>5385</th>\n",
       "      <td>2310233</td>\n",
       "      <td>They have crazily high service charges! I wish...</td>\n",
       "      <td>0</td>\n",
       "      <td>POSITIVE</td>\n",
       "      <td>99.537069</td>\n",
       "    </tr>\n",
       "    <tr>\n",
       "      <th>5516</th>\n",
       "      <td>2304509</td>\n",
       "      <td>Efficiency</td>\n",
       "      <td>0</td>\n",
       "      <td>POSITIVE</td>\n",
       "      <td>99.875057</td>\n",
       "    </tr>\n",
       "    <tr>\n",
       "      <th>6108</th>\n",
       "      <td>2311048</td>\n",
       "      <td>Because of it''s good services</td>\n",
       "      <td>0</td>\n",
       "      <td>POSITIVE</td>\n",
       "      <td>98.720050</td>\n",
       "    </tr>\n",
       "    <tr>\n",
       "      <th>6237</th>\n",
       "      <td>2285634</td>\n",
       "      <td>10</td>\n",
       "      <td>0</td>\n",
       "      <td>POSITIVE</td>\n",
       "      <td>93.941230</td>\n",
       "    </tr>\n",
       "  </tbody>\n",
       "</table>\n",
       "</div>"
      ],
      "text/plain": [
       "       user_id  ... sentiment_confidence\n",
       "92    18003004  ...            94.717681\n",
       "157    2901185  ...            68.305653\n",
       "274    5618048  ...            99.875057\n",
       "339   17402574  ...            95.349967\n",
       "372   17401273  ...            99.145561\n",
       "1882   2316453  ...            99.218410\n",
       "2057   2279404  ...            95.349967\n",
       "2201   2264769  ...            87.337673\n",
       "2408   2289681  ...            89.006859\n",
       "2659   2265728  ...            93.139517\n",
       "2773   2265300  ...            93.048489\n",
       "3633   2289769  ...            92.080885\n",
       "4033   2229438  ...            99.613744\n",
       "4054   2279436  ...            99.010086\n",
       "4193   2304127  ...            66.195577\n",
       "4452   2274356  ...            82.359010\n",
       "5304    420468  ...            99.440670\n",
       "5385   2310233  ...            99.537069\n",
       "5516   2304509  ...            99.875057\n",
       "6108   2311048  ...            98.720050\n",
       "6237   2285634  ...            93.941230\n",
       "\n",
       "[21 rows x 5 columns]"
      ]
     },
     "execution_count": 27,
     "metadata": {
      "tags": []
     },
     "output_type": "execute_result"
    }
   ],
   "source": [
    "non_na_comments.loc[(non_na_comments['likelihood_to_recommend'] == 0) & (non_na_comments['sentiment'] == 'POSITIVE')]"
   ]
  },
  {
   "cell_type": "code",
   "execution_count": 52,
   "metadata": {
    "id": "B1Tt14a_7jHx"
   },
   "outputs": [],
   "source": [
    "# draw correlation plot/ calculate correlation"
   ]
  },
  {
   "cell_type": "code",
   "execution_count": 74,
   "metadata": {
    "id": "zM3epl3UAS_v"
   },
   "outputs": [],
   "source": [
    "df = non_na_comments.drop(['user_id', 'sentiment_confidence'], axis = 1)"
   ]
  },
  {
   "cell_type": "code",
   "execution_count": 75,
   "metadata": {
    "colab": {
     "base_uri": "https://localhost:8080/",
     "height": 424
    },
    "id": "LFQaKQh5Ak2Z",
    "outputId": "4a6b0f0b-e3c6-42e3-9da6-a1a947dc6a3b"
   },
   "outputs": [
    {
     "data": {
      "text/html": [
       "<div>\n",
       "<style scoped>\n",
       "    .dataframe tbody tr th:only-of-type {\n",
       "        vertical-align: middle;\n",
       "    }\n",
       "\n",
       "    .dataframe tbody tr th {\n",
       "        vertical-align: top;\n",
       "    }\n",
       "\n",
       "    .dataframe thead th {\n",
       "        text-align: right;\n",
       "    }\n",
       "</style>\n",
       "<table border=\"1\" class=\"dataframe\">\n",
       "  <thead>\n",
       "    <tr style=\"text-align: right;\">\n",
       "      <th></th>\n",
       "      <th>comment_on_why</th>\n",
       "      <th>likelihood_to_recommend</th>\n",
       "      <th>sentiment</th>\n",
       "    </tr>\n",
       "  </thead>\n",
       "  <tbody>\n",
       "    <tr>\n",
       "      <th>1</th>\n",
       "      <td>Safrcom don''t allow 1 person to Bank more tha...</td>\n",
       "      <td>5</td>\n",
       "      <td>NEGATIVE</td>\n",
       "    </tr>\n",
       "    <tr>\n",
       "      <th>2</th>\n",
       "      <td>They offer good services</td>\n",
       "      <td>10</td>\n",
       "      <td>POSITIVE</td>\n",
       "    </tr>\n",
       "    <tr>\n",
       "      <th>4</th>\n",
       "      <td>Transaction cost are affordable</td>\n",
       "      <td>7</td>\n",
       "      <td>POSITIVE</td>\n",
       "    </tr>\n",
       "    <tr>\n",
       "      <th>5</th>\n",
       "      <td>Good service but long queues</td>\n",
       "      <td>7</td>\n",
       "      <td>NEGATIVE</td>\n",
       "    </tr>\n",
       "    <tr>\n",
       "      <th>7</th>\n",
       "      <td>Convinient</td>\n",
       "      <td>8</td>\n",
       "      <td>POSITIVE</td>\n",
       "    </tr>\n",
       "    <tr>\n",
       "      <th>...</th>\n",
       "      <td>...</td>\n",
       "      <td>...</td>\n",
       "      <td>...</td>\n",
       "    </tr>\n",
       "    <tr>\n",
       "      <th>6456</th>\n",
       "      <td>Quality services offered</td>\n",
       "      <td>10</td>\n",
       "      <td>POSITIVE</td>\n",
       "    </tr>\n",
       "    <tr>\n",
       "      <th>6458</th>\n",
       "      <td>It''s availability</td>\n",
       "      <td>8</td>\n",
       "      <td>POSITIVE</td>\n",
       "    </tr>\n",
       "    <tr>\n",
       "      <th>6460</th>\n",
       "      <td>Efficiency</td>\n",
       "      <td>9</td>\n",
       "      <td>POSITIVE</td>\n",
       "    </tr>\n",
       "    <tr>\n",
       "      <th>6462</th>\n",
       "      <td>the charges i use to acces while using mobile ...</td>\n",
       "      <td>8</td>\n",
       "      <td>POSITIVE</td>\n",
       "    </tr>\n",
       "    <tr>\n",
       "      <th>6463</th>\n",
       "      <td>It''s easily available</td>\n",
       "      <td>3</td>\n",
       "      <td>POSITIVE</td>\n",
       "    </tr>\n",
       "  </tbody>\n",
       "</table>\n",
       "<p>3599 rows × 3 columns</p>\n",
       "</div>"
      ],
      "text/plain": [
       "                                         comment_on_why  ...  sentiment\n",
       "1     Safrcom don''t allow 1 person to Bank more tha...  ...   NEGATIVE\n",
       "2                              They offer good services  ...   POSITIVE\n",
       "4                       Transaction cost are affordable  ...   POSITIVE\n",
       "5                          Good service but long queues  ...   NEGATIVE\n",
       "7                                            Convinient  ...   POSITIVE\n",
       "...                                                 ...  ...        ...\n",
       "6456                           Quality services offered  ...   POSITIVE\n",
       "6458                                 It''s availability  ...   POSITIVE\n",
       "6460                                         Efficiency  ...   POSITIVE\n",
       "6462  the charges i use to acces while using mobile ...  ...   POSITIVE\n",
       "6463                             It''s easily available  ...   POSITIVE\n",
       "\n",
       "[3599 rows x 3 columns]"
      ]
     },
     "execution_count": 75,
     "metadata": {
      "tags": []
     },
     "output_type": "execute_result"
    }
   ],
   "source": [
    "df"
   ]
  },
  {
   "cell_type": "code",
   "execution_count": 76,
   "metadata": {
    "id": "fwT0LnSF_UZM"
   },
   "outputs": [],
   "source": [
    "# group by month and year, get the average\n",
    "df = df.groupby(['sentiment', 'likelihood_to_recommend']).count()"
   ]
  },
  {
   "cell_type": "code",
   "execution_count": 77,
   "metadata": {
    "id": "Xeiap7ERAw7W"
   },
   "outputs": [],
   "source": [
    "df_m = df.unstack(level=0)"
   ]
  },
  {
   "cell_type": "code",
   "execution_count": 78,
   "metadata": {
    "colab": {
     "base_uri": "https://localhost:8080/",
     "height": 457
    },
    "id": "u_r89N_EE-A1",
    "outputId": "a30ce906-5b4c-4bd7-d3a0-1eda77b6d2c3"
   },
   "outputs": [
    {
     "data": {
      "text/html": [
       "<div>\n",
       "<style scoped>\n",
       "    .dataframe tbody tr th:only-of-type {\n",
       "        vertical-align: middle;\n",
       "    }\n",
       "\n",
       "    .dataframe tbody tr th {\n",
       "        vertical-align: top;\n",
       "    }\n",
       "\n",
       "    .dataframe thead tr th {\n",
       "        text-align: left;\n",
       "    }\n",
       "\n",
       "    .dataframe thead tr:last-of-type th {\n",
       "        text-align: right;\n",
       "    }\n",
       "</style>\n",
       "<table border=\"1\" class=\"dataframe\">\n",
       "  <thead>\n",
       "    <tr>\n",
       "      <th></th>\n",
       "      <th colspan=\"2\" halign=\"left\">comment_on_why</th>\n",
       "    </tr>\n",
       "    <tr>\n",
       "      <th>sentiment</th>\n",
       "      <th>NEGATIVE</th>\n",
       "      <th>POSITIVE</th>\n",
       "    </tr>\n",
       "    <tr>\n",
       "      <th>likelihood_to_recommend</th>\n",
       "      <th></th>\n",
       "      <th></th>\n",
       "    </tr>\n",
       "  </thead>\n",
       "  <tbody>\n",
       "    <tr>\n",
       "      <th>0</th>\n",
       "      <td>27</td>\n",
       "      <td>21</td>\n",
       "    </tr>\n",
       "    <tr>\n",
       "      <th>1</th>\n",
       "      <td>11</td>\n",
       "      <td>48</td>\n",
       "    </tr>\n",
       "    <tr>\n",
       "      <th>2</th>\n",
       "      <td>25</td>\n",
       "      <td>47</td>\n",
       "    </tr>\n",
       "    <tr>\n",
       "      <th>3</th>\n",
       "      <td>21</td>\n",
       "      <td>26</td>\n",
       "    </tr>\n",
       "    <tr>\n",
       "      <th>4</th>\n",
       "      <td>36</td>\n",
       "      <td>32</td>\n",
       "    </tr>\n",
       "    <tr>\n",
       "      <th>5</th>\n",
       "      <td>119</td>\n",
       "      <td>118</td>\n",
       "    </tr>\n",
       "    <tr>\n",
       "      <th>6</th>\n",
       "      <td>74</td>\n",
       "      <td>124</td>\n",
       "    </tr>\n",
       "    <tr>\n",
       "      <th>7</th>\n",
       "      <td>84</td>\n",
       "      <td>334</td>\n",
       "    </tr>\n",
       "    <tr>\n",
       "      <th>8</th>\n",
       "      <td>109</td>\n",
       "      <td>688</td>\n",
       "    </tr>\n",
       "    <tr>\n",
       "      <th>9</th>\n",
       "      <td>38</td>\n",
       "      <td>601</td>\n",
       "    </tr>\n",
       "    <tr>\n",
       "      <th>10</th>\n",
       "      <td>73</td>\n",
       "      <td>943</td>\n",
       "    </tr>\n",
       "  </tbody>\n",
       "</table>\n",
       "</div>"
      ],
      "text/plain": [
       "                        comment_on_why         \n",
       "sentiment                     NEGATIVE POSITIVE\n",
       "likelihood_to_recommend                        \n",
       "0                                   27       21\n",
       "1                                   11       48\n",
       "2                                   25       47\n",
       "3                                   21       26\n",
       "4                                   36       32\n",
       "5                                  119      118\n",
       "6                                   74      124\n",
       "7                                   84      334\n",
       "8                                  109      688\n",
       "9                                   38      601\n",
       "10                                  73      943"
      ]
     },
     "execution_count": 78,
     "metadata": {
      "tags": []
     },
     "output_type": "execute_result"
    }
   ],
   "source": [
    "df_m"
   ]
  },
  {
   "cell_type": "code",
   "execution_count": 73,
   "metadata": {
    "colab": {
     "base_uri": "https://localhost:8080/",
     "height": 552
    },
    "id": "GTDpOnPhA_ph",
    "outputId": "78165e8d-d728-4822-8f9a-835381343d26"
   },
   "outputs": [
    {
     "data": {
      "image/png": "[encoded data removed]",
      "text/plain": [
       "<Figure size 792x648 with 2 Axes>"
      ]
     },
     "metadata": {
      "needs_background": "light",
      "tags": []
     },
     "output_type": "display_data"
    }
   ],
   "source": [
    "fig, ax = plt.subplots(figsize=(11, 9))\n",
    "sns.heatmap(df_m)\n",
    "plt.show()"
   ]
  },
  {
   "cell_type": "markdown",
   "metadata": {
    "id": "C267Rm_ps1Kl"
   },
   "source": [
    "### 2. Using appropriate performance metrics, compare various learning algorithms to determine the possibility of predicting the likelihood to respond to a survey based on the demographic characteristics as well as the time and day. Outline the response variable definition process as well as the feature selection process, with a focus on interpretability."
   ]
  },
  {
   "cell_type": "code",
   "execution_count": null,
   "metadata": {
    "id": "N9CiGJARsR46"
   },
   "outputs": [],
   "source": [
    "# classification models to predict the likelihood."
   ]
  }
 ],
 "metadata": {
  "colab": {
   "name": "Part 2.ipynb",
   "provenance": []
  },
  "hide_input": false,
  "kernelspec": {
   "display_name": "Python 3",
   "language": "python",
   "name": "python3"
  },
  "language_info": {
   "codemirror_mode": {
    "name": "ipython",
    "version": 3
   },
   "file_extension": ".py",
   "mimetype": "text/x-python",
   "name": "python",
   "nbconvert_exporter": "python",
   "pygments_lexer": "ipython3",
   "version": "3.7.9"
  },
  "toc": {
   "base_numbering": 1,
   "nav_menu": {},
   "number_sections": true,
   "sideBar": true,
   "skip_h1_title": false,
   "title_cell": "Table of Contents",
   "title_sidebar": "Contents",
   "toc_cell": true,
   "toc_position": {},
   "toc_section_display": true,
   "toc_window_display": false
  },
  "widgets": {
   "application/vnd.jupyter.widget-state+json": {
    "1dea7b5d90484096bf48a4a92422fdee": {
     "model_module": "@jupyter-widgets/base",
     "model_name": "LayoutModel",
     "state": {
      "_model_module": "@jupyter-widgets/base",
      "_model_module_version": "1.2.0",
      "_model_name": "LayoutModel",
      "_view_count": null,
      "_view_module": "@jupyter-widgets/base",
      "_view_module_version": "1.2.0",
      "_view_name": "LayoutView",
      "align_content": null,
      "align_items": null,
      "align_self": null,
      "border": null,
      "bottom": null,
      "display": null,
      "flex": null,
      "flex_flow": null,
      "grid_area": null,
      "grid_auto_columns": null,
      "grid_auto_flow": null,
      "grid_auto_rows": null,
      "grid_column": null,
      "grid_gap": null,
      "grid_row": null,
      "grid_template_areas": null,
      "grid_template_columns": null,
      "grid_template_rows": null,
      "height": null,
      "justify_content": null,
      "justify_items": null,
      "left": null,
      "margin": null,
      "max_height": null,
      "max_width": null,
      "min_height": null,
      "min_width": null,
      "object_fit": null,
      "object_position": null,
      "order": null,
      "overflow": null,
      "overflow_x": null,
      "overflow_y": null,
      "padding": null,
      "right": null,
      "top": null,
      "visibility": null,
      "width": null
     }
    },
    "2425f9c8e5ea4b00a65f31df3140a46b": {
     "model_module": "@jupyter-widgets/base",
     "model_name": "LayoutModel",
     "state": {
      "_model_module": "@jupyter-widgets/base",
      "_model_module_version": "1.2.0",
      "_model_name": "LayoutModel",
      "_view_count": null,
      "_view_module": "@jupyter-widgets/base",
      "_view_module_version": "1.2.0",
      "_view_name": "LayoutView",
      "align_content": null,
      "align_items": null,
      "align_self": null,
      "border": null,
      "bottom": null,
      "display": null,
      "flex": null,
      "flex_flow": null,
      "grid_area": null,
      "grid_auto_columns": null,
      "grid_auto_flow": null,
      "grid_auto_rows": null,
      "grid_column": null,
      "grid_gap": null,
      "grid_row": null,
      "grid_template_areas": null,
      "grid_template_columns": null,
      "grid_template_rows": null,
      "height": null,
      "justify_content": null,
      "justify_items": null,
      "left": null,
      "margin": null,
      "max_height": null,
      "max_width": null,
      "min_height": null,
      "min_width": null,
      "object_fit": null,
      "object_position": null,
      "order": null,
      "overflow": null,
      "overflow_x": null,
      "overflow_y": null,
      "padding": null,
      "right": null,
      "top": null,
      "visibility": null,
      "width": null
     }
    },
    "31a1fde1825548bc82a75ae11a774d84": {
     "model_module": "@jupyter-widgets/controls",
     "model_name": "FloatProgressModel",
     "state": {
      "_dom_classes": [],
      "_model_module": "@jupyter-widgets/controls",
      "_model_module_version": "1.5.0",
      "_model_name": "FloatProgressModel",
      "_view_count": null,
      "_view_module": "@jupyter-widgets/controls",
      "_view_module_version": "1.5.0",
      "_view_name": "ProgressView",
      "bar_style": "success",
      "description": "Downloading: 100%",
      "description_tooltip": null,
      "layout": "IPY_MODEL_cc0d20fe8c8747afb9641a69ad1cac1b",
      "max": 442,
      "min": 0,
      "orientation": "horizontal",
      "style": "IPY_MODEL_4d6ac65578054120aafac0286111d2ce",
      "value": 442
     }
    },
    "3f659e15c4a34b598e1c6a259cae6396": {
     "model_module": "@jupyter-widgets/base",
     "model_name": "LayoutModel",
     "state": {
      "_model_module": "@jupyter-widgets/base",
      "_model_module_version": "1.2.0",
      "_model_name": "LayoutModel",
      "_view_count": null,
      "_view_module": "@jupyter-widgets/base",
      "_view_module_version": "1.2.0",
      "_view_name": "LayoutView",
      "align_content": null,
      "align_items": null,
      "align_self": null,
      "border": null,
      "bottom": null,
      "display": null,
      "flex": null,
      "flex_flow": null,
      "grid_area": null,
      "grid_auto_columns": null,
      "grid_auto_flow": null,
      "grid_auto_rows": null,
      "grid_column": null,
      "grid_gap": null,
      "grid_row": null,
      "grid_template_areas": null,
      "grid_template_columns": null,
      "grid_template_rows": null,
      "height": null,
      "justify_content": null,
      "justify_items": null,
      "left": null,
      "margin": null,
      "max_height": null,
      "max_width": null,
      "min_height": null,
      "min_width": null,
      "object_fit": null,
      "object_position": null,
      "order": null,
      "overflow": null,
      "overflow_x": null,
      "overflow_y": null,
      "padding": null,
      "right": null,
      "top": null,
      "visibility": null,
      "width": null
     }
    },
    "4d6ac65578054120aafac0286111d2ce": {
     "model_module": "@jupyter-widgets/controls",
     "model_name": "ProgressStyleModel",
     "state": {
      "_model_module": "@jupyter-widgets/controls",
      "_model_module_version": "1.5.0",
      "_model_name": "ProgressStyleModel",
      "_view_count": null,
      "_view_module": "@jupyter-widgets/base",
      "_view_module_version": "1.2.0",
      "_view_name": "StyleView",
      "bar_color": null,
      "description_width": "initial"
     }
    },
    "605b63db752647088aacba2c11d747ba": {
     "model_module": "@jupyter-widgets/base",
     "model_name": "LayoutModel",
     "state": {
      "_model_module": "@jupyter-widgets/base",
      "_model_module_version": "1.2.0",
      "_model_name": "LayoutModel",
      "_view_count": null,
      "_view_module": "@jupyter-widgets/base",
      "_view_module_version": "1.2.0",
      "_view_name": "LayoutView",
      "align_content": null,
      "align_items": null,
      "align_self": null,
      "border": null,
      "bottom": null,
      "display": null,
      "flex": null,
      "flex_flow": null,
      "grid_area": null,
      "grid_auto_columns": null,
      "grid_auto_flow": null,
      "grid_auto_rows": null,
      "grid_column": null,
      "grid_gap": null,
      "grid_row": null,
      "grid_template_areas": null,
      "grid_template_columns": null,
      "grid_template_rows": null,
      "height": null,
      "justify_content": null,
      "justify_items": null,
      "left": null,
      "margin": null,
      "max_height": null,
      "max_width": null,
      "min_height": null,
      "min_width": null,
      "object_fit": null,
      "object_position": null,
      "order": null,
      "overflow": null,
      "overflow_x": null,
      "overflow_y": null,
      "padding": null,
      "right": null,
      "top": null,
      "visibility": null,
      "width": null
     }
    },
    "66e986af187c48ee9c4cc148f2f569a9": {
     "model_module": "@jupyter-widgets/controls",
     "model_name": "DescriptionStyleModel",
     "state": {
      "_model_module": "@jupyter-widgets/controls",
      "_model_module_version": "1.5.0",
      "_model_name": "DescriptionStyleModel",
      "_view_count": null,
      "_view_module": "@jupyter-widgets/base",
      "_view_module_version": "1.2.0",
      "_view_name": "StyleView",
      "description_width": ""
     }
    },
    "7132ed9dc5fd4b508c1a1dce190fe10f": {
     "model_module": "@jupyter-widgets/controls",
     "model_name": "ProgressStyleModel",
     "state": {
      "_model_module": "@jupyter-widgets/controls",
      "_model_module_version": "1.5.0",
      "_model_name": "ProgressStyleModel",
      "_view_count": null,
      "_view_module": "@jupyter-widgets/base",
      "_view_module_version": "1.2.0",
      "_view_name": "StyleView",
      "bar_color": null,
      "description_width": "initial"
     }
    },
    "91171fce4e9e4db09b3041f3a27d8dcc": {
     "model_module": "@jupyter-widgets/controls",
     "model_name": "HTMLModel",
     "state": {
      "_dom_classes": [],
      "_model_module": "@jupyter-widgets/controls",
      "_model_module_version": "1.5.0",
      "_model_name": "HTMLModel",
      "_view_count": null,
      "_view_module": "@jupyter-widgets/controls",
      "_view_module_version": "1.5.0",
      "_view_name": "HTMLView",
      "description": "",
      "description_tooltip": null,
      "layout": "IPY_MODEL_1dea7b5d90484096bf48a4a92422fdee",
      "placeholder": "​",
      "style": "IPY_MODEL_ab3e08b4763a4605a7eb54bb6f4773b9",
      "value": " 232k/232k [00:00&lt;00:00, 2.09MB/s]"
     }
    },
    "9a950b74b8f14544bfd92bdde65d0a78": {
     "model_module": "@jupyter-widgets/controls",
     "model_name": "HTMLModel",
     "state": {
      "_dom_classes": [],
      "_model_module": "@jupyter-widgets/controls",
      "_model_module_version": "1.5.0",
      "_model_name": "HTMLModel",
      "_view_count": null,
      "_view_module": "@jupyter-widgets/controls",
      "_view_module_version": "1.5.0",
      "_view_name": "HTMLView",
      "description": "",
      "description_tooltip": null,
      "layout": "IPY_MODEL_3f659e15c4a34b598e1c6a259cae6396",
      "placeholder": "​",
      "style": "IPY_MODEL_66e986af187c48ee9c4cc148f2f569a9",
      "value": " 442/442 [00:00&lt;00:00, 3.61kB/s]"
     }
    },
    "a597456d08c948d3abbf6ca831b9b69d": {
     "model_module": "@jupyter-widgets/controls",
     "model_name": "HBoxModel",
     "state": {
      "_dom_classes": [],
      "_model_module": "@jupyter-widgets/controls",
      "_model_module_version": "1.5.0",
      "_model_name": "HBoxModel",
      "_view_count": null,
      "_view_module": "@jupyter-widgets/controls",
      "_view_module_version": "1.5.0",
      "_view_name": "HBoxView",
      "box_style": "",
      "children": [
       "IPY_MODEL_b691c476e92d4ed4ba3527710de1d0ba",
       "IPY_MODEL_91171fce4e9e4db09b3041f3a27d8dcc"
      ],
      "layout": "IPY_MODEL_605b63db752647088aacba2c11d747ba"
     }
    },
    "ab3e08b4763a4605a7eb54bb6f4773b9": {
     "model_module": "@jupyter-widgets/controls",
     "model_name": "DescriptionStyleModel",
     "state": {
      "_model_module": "@jupyter-widgets/controls",
      "_model_module_version": "1.5.0",
      "_model_name": "DescriptionStyleModel",
      "_view_count": null,
      "_view_module": "@jupyter-widgets/base",
      "_view_module_version": "1.2.0",
      "_view_name": "StyleView",
      "description_width": ""
     }
    },
    "b691c476e92d4ed4ba3527710de1d0ba": {
     "model_module": "@jupyter-widgets/controls",
     "model_name": "FloatProgressModel",
     "state": {
      "_dom_classes": [],
      "_model_module": "@jupyter-widgets/controls",
      "_model_module_version": "1.5.0",
      "_model_name": "FloatProgressModel",
      "_view_count": null,
      "_view_module": "@jupyter-widgets/controls",
      "_view_module_version": "1.5.0",
      "_view_name": "ProgressView",
      "bar_style": "success",
      "description": "Downloading: 100%",
      "description_tooltip": null,
      "layout": "IPY_MODEL_2425f9c8e5ea4b00a65f31df3140a46b",
      "max": 231508,
      "min": 0,
      "orientation": "horizontal",
      "style": "IPY_MODEL_7132ed9dc5fd4b508c1a1dce190fe10f",
      "value": 231508
     }
    },
    "bd0e7ca2d20c4c07839330e888aeec0d": {
     "model_module": "@jupyter-widgets/controls",
     "model_name": "HBoxModel",
     "state": {
      "_dom_classes": [],
      "_model_module": "@jupyter-widgets/controls",
      "_model_module_version": "1.5.0",
      "_model_name": "HBoxModel",
      "_view_count": null,
      "_view_module": "@jupyter-widgets/controls",
      "_view_module_version": "1.5.0",
      "_view_name": "HBoxView",
      "box_style": "",
      "children": [
       "IPY_MODEL_31a1fde1825548bc82a75ae11a774d84",
       "IPY_MODEL_9a950b74b8f14544bfd92bdde65d0a78"
      ],
      "layout": "IPY_MODEL_f4a972a35fb1460eb7c19db8c707c051"
     }
    },
    "cc0d20fe8c8747afb9641a69ad1cac1b": {
     "model_module": "@jupyter-widgets/base",
     "model_name": "LayoutModel",
     "state": {
      "_model_module": "@jupyter-widgets/base",
      "_model_module_version": "1.2.0",
      "_model_name": "LayoutModel",
      "_view_count": null,
      "_view_module": "@jupyter-widgets/base",
      "_view_module_version": "1.2.0",
      "_view_name": "LayoutView",
      "align_content": null,
      "align_items": null,
      "align_self": null,
      "border": null,
      "bottom": null,
      "display": null,
      "flex": null,
      "flex_flow": null,
      "grid_area": null,
      "grid_auto_columns": null,
      "grid_auto_flow": null,
      "grid_auto_rows": null,
      "grid_column": null,
      "grid_gap": null,
      "grid_row": null,
      "grid_template_areas": null,
      "grid_template_columns": null,
      "grid_template_rows": null,
      "height": null,
      "justify_content": null,
      "justify_items": null,
      "left": null,
      "margin": null,
      "max_height": null,
      "max_width": null,
      "min_height": null,
      "min_width": null,
      "object_fit": null,
      "object_position": null,
      "order": null,
      "overflow": null,
      "overflow_x": null,
      "overflow_y": null,
      "padding": null,
      "right": null,
      "top": null,
      "visibility": null,
      "width": null
     }
    },
    "f4a972a35fb1460eb7c19db8c707c051": {
     "model_module": "@jupyter-widgets/base",
     "model_name": "LayoutModel",
     "state": {
      "_model_module": "@jupyter-widgets/base",
      "_model_module_version": "1.2.0",
      "_model_name": "LayoutModel",
      "_view_count": null,
      "_view_module": "@jupyter-widgets/base",
      "_view_module_version": "1.2.0",
      "_view_name": "LayoutView",
      "align_content": null,
      "align_items": null,
      "align_self": null,
      "border": null,
      "bottom": null,
      "display": null,
      "flex": null,
      "flex_flow": null,
      "grid_area": null,
      "grid_auto_columns": null,
      "grid_auto_flow": null,
      "grid_auto_rows": null,
      "grid_column": null,
      "grid_gap": null,
      "grid_row": null,
      "grid_template_areas": null,
      "grid_template_columns": null,
      "grid_template_rows": null,
      "height": null,
      "justify_content": null,
      "justify_items": null,
      "left": null,
      "margin": null,
      "max_height": null,
      "max_width": null,
      "min_height": null,
      "min_width": null,
      "object_fit": null,
      "object_position": null,
      "order": null,
      "overflow": null,
      "overflow_x": null,
      "overflow_y": null,
      "padding": null,
      "right": null,
      "top": null,
      "visibility": null,
      "width": null
     }
    }
   }
  }
 },
 "nbformat": 4,
 "nbformat_minor": 1
}
